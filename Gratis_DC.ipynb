{
  "nbformat": 4,
  "nbformat_minor": 0,
  "metadata": {
    "colab": {
      "name": "Gratis_DC.ipynb",
      "version": "0.3.2",
      "provenance": [],
      "collapsed_sections": [],
      "toc_visible": true,
      "include_colab_link": true
    },
    "kernelspec": {
      "name": "python3",
      "display_name": "Python 3"
    }
  },
  "cells": [
    {
      "cell_type": "markdown",
      "metadata": {
        "id": "view-in-github",
        "colab_type": "text"
      },
      "source": [
        "<a href=\"https://colab.research.google.com/github/duyqu-chan/CRM-Analytics/blob/master/Gratis_DC.ipynb\" target=\"_parent\"><img src=\"https://colab.research.google.com/assets/colab-badge.svg\" alt=\"Open In Colab\"/></a>"
      ]
    },
    {
      "cell_type": "markdown",
      "metadata": {
        "id": "Tpmb-oT5j0rP",
        "colab_type": "text"
      },
      "source": [
        "# CRM Analytics: Gratis Case Study\n",
        "\n",
        "  Gratis sell products in various categories. The representative data that  contains the shopping details made from *Hair* category. The aim of this project is to analyze the derived representative data and prepare new campaign proposals and campaign ideas to the marketing department of A brand.\n",
        "\n",
        "  Expectation of brand A:\n",
        "+ To get insight about their own business processes.\n",
        "+ To gain new customers, to retain the existing customers and churn the possibility of losing customers to see the strategies through the phenomenon.\n"
      ]
    },
    {
      "cell_type": "markdown",
      "metadata": {
        "id": "wnxV1JFI3OkF",
        "colab_type": "text"
      },
      "source": [
        "## Dataset Exploration\n",
        "\n",
        "Mount Google drive to upload the data."
      ]
    },
    {
      "cell_type": "code",
      "metadata": {
        "id": "RPvoQlf_cJei",
        "colab_type": "code",
        "outputId": "35b18c71-72ad-4dd0-faa2-9dcbfebdc98c",
        "colab": {
          "base_uri": "https://localhost:8080/",
          "height": 122
        }
      },
      "source": [
        "# Run this cell to mount your Google Drive.\n",
        "from google.colab import drive\n",
        "drive.mount('/content/drive')"
      ],
      "execution_count": 1,
      "outputs": [
        {
          "output_type": "stream",
          "text": [
            "Go to this URL in a browser: https://accounts.google.com/o/oauth2/auth?client_id=947318989803-6bn6qk8qdgf4n4g3pfee6491hc0brc4i.apps.googleusercontent.com&redirect_uri=urn%3Aietf%3Awg%3Aoauth%3A2.0%3Aoob&scope=email%20https%3A%2F%2Fwww.googleapis.com%2Fauth%2Fdocs.test%20https%3A%2F%2Fwww.googleapis.com%2Fauth%2Fdrive%20https%3A%2F%2Fwww.googleapis.com%2Fauth%2Fdrive.photos.readonly%20https%3A%2F%2Fwww.googleapis.com%2Fauth%2Fpeopleapi.readonly&response_type=code\n",
            "\n",
            "Enter your authorization code:\n",
            "··········\n",
            "Mounted at /content/drive\n"
          ],
          "name": "stdout"
        }
      ]
    },
    {
      "cell_type": "markdown",
      "metadata": {
        "id": "Poj0XwZFrbga",
        "colab_type": "text"
      },
      "source": [
        "Let's start by reading the data and observe values."
      ]
    },
    {
      "cell_type": "code",
      "metadata": {
        "id": "479CvaY8q8jt",
        "colab_type": "code",
        "outputId": "04470f6e-bd58-4976-a011-f971ad5c7502",
        "colab": {
          "base_uri": "https://localhost:8080/",
          "height": 224
        }
      },
      "source": [
        "import pandas as pd\n",
        "df = pd.read_csv(\"/content/drive/My Drive/Gratis/RETAIL_TRX_DATA.csv\")\n",
        "df.head()"
      ],
      "execution_count": 2,
      "outputs": [
        {
          "output_type": "execute_result",
          "data": {
            "text/html": [
              "<div>\n",
              "<style scoped>\n",
              "    .dataframe tbody tr th:only-of-type {\n",
              "        vertical-align: middle;\n",
              "    }\n",
              "\n",
              "    .dataframe tbody tr th {\n",
              "        vertical-align: top;\n",
              "    }\n",
              "\n",
              "    .dataframe thead th {\n",
              "        text-align: right;\n",
              "    }\n",
              "</style>\n",
              "<table border=\"1\" class=\"dataframe\">\n",
              "  <thead>\n",
              "    <tr style=\"text-align: right;\">\n",
              "      <th></th>\n",
              "      <th>CUST_ID</th>\n",
              "      <th>RTL_TRANS_ID</th>\n",
              "      <th>TRX_DATE</th>\n",
              "      <th>ITEM_QUANTITY</th>\n",
              "      <th>ITEM_UNIT_PRICE</th>\n",
              "      <th>ITEM_ID</th>\n",
              "      <th>BRAND_NAME</th>\n",
              "      <th>FIRST_TRANS_DATE</th>\n",
              "      <th>LAST_TRANS_DATE</th>\n",
              "    </tr>\n",
              "  </thead>\n",
              "  <tbody>\n",
              "    <tr>\n",
              "      <th>0</th>\n",
              "      <td>10000</td>\n",
              "      <td>01128000022018120817086098</td>\n",
              "      <td>08DEC2018:17:08:38.000000</td>\n",
              "      <td>1.0</td>\n",
              "      <td>15.70</td>\n",
              "      <td>10140396</td>\n",
              "      <td>DIGER</td>\n",
              "      <td>28OCT2017:15:00:00</td>\n",
              "      <td>10AUG2019:15:00:00</td>\n",
              "    </tr>\n",
              "    <tr>\n",
              "      <th>1</th>\n",
              "      <td>1000000</td>\n",
              "      <td>01205000032019062317593178</td>\n",
              "      <td>23JUN2019:17:59:19.000000</td>\n",
              "      <td>1.0</td>\n",
              "      <td>14.95</td>\n",
              "      <td>10167618</td>\n",
              "      <td>DIGER</td>\n",
              "      <td>01OCT2017:15:00:00</td>\n",
              "      <td>08AUG2019:15:00:00</td>\n",
              "    </tr>\n",
              "    <tr>\n",
              "      <th>2</th>\n",
              "      <td>1000001</td>\n",
              "      <td>01042000032018101716332124</td>\n",
              "      <td>17OCT2018:16:33:12.000000</td>\n",
              "      <td>1.0</td>\n",
              "      <td>17.90</td>\n",
              "      <td>10063960</td>\n",
              "      <td>DIGER</td>\n",
              "      <td>21OCT2017:15:00:00</td>\n",
              "      <td>20JUL2019:15:00:00</td>\n",
              "    </tr>\n",
              "    <tr>\n",
              "      <th>3</th>\n",
              "      <td>1000004</td>\n",
              "      <td>01133000012018042115556158</td>\n",
              "      <td>21APR2018:15:55:39.000000</td>\n",
              "      <td>3.0</td>\n",
              "      <td>6.90</td>\n",
              "      <td>10013901</td>\n",
              "      <td>DIGER</td>\n",
              "      <td>07OCT2017:15:00:00</td>\n",
              "      <td>27AUG2019:15:00:00</td>\n",
              "    </tr>\n",
              "    <tr>\n",
              "      <th>4</th>\n",
              "      <td>1000004</td>\n",
              "      <td>01133000022017110614467148</td>\n",
              "      <td>06NOV2017:14:46:44.000000</td>\n",
              "      <td>1.0</td>\n",
              "      <td>24.90</td>\n",
              "      <td>12000154</td>\n",
              "      <td>DIGER</td>\n",
              "      <td>07OCT2017:15:00:00</td>\n",
              "      <td>27AUG2019:15:00:00</td>\n",
              "    </tr>\n",
              "  </tbody>\n",
              "</table>\n",
              "</div>"
            ],
            "text/plain": [
              "   CUST_ID                RTL_TRANS_ID  ...    FIRST_TRANS_DATE     LAST_TRANS_DATE\n",
              "0    10000  01128000022018120817086098  ...  28OCT2017:15:00:00  10AUG2019:15:00:00\n",
              "1  1000000  01205000032019062317593178  ...  01OCT2017:15:00:00  08AUG2019:15:00:00\n",
              "2  1000001  01042000032018101716332124  ...  21OCT2017:15:00:00  20JUL2019:15:00:00\n",
              "3  1000004  01133000012018042115556158  ...  07OCT2017:15:00:00  27AUG2019:15:00:00\n",
              "4  1000004  01133000022017110614467148  ...  07OCT2017:15:00:00  27AUG2019:15:00:00\n",
              "\n",
              "[5 rows x 9 columns]"
            ]
          },
          "metadata": {
            "tags": []
          },
          "execution_count": 2
        }
      ]
    },
    {
      "cell_type": "markdown",
      "metadata": {
        "id": "JCbHcT_hr0GB",
        "colab_type": "text"
      },
      "source": [
        "We have 1731641 instances with 9 features in the dataset. The description of the columns are:\n",
        "Data Description:\n",
        "1. **CUST_ID:** Represents the unique customer number assigned to each customer.\n",
        "2. **RTL_TRANS_ID:** Represents the transaction number assigned to each transaction.\n",
        "3. **TRX_DATE:** Provides the date of the transaction.\n",
        "4. **ITEM_QUANTITY:** It gives the quantity information of the related product purchased.\n",
        "5. **ITEM_UNIT_PRICE:** Represents the price of the purchased product.\n",
        "6. **ITEM_ID:** The product id representing the product.\n",
        "7. **BRAND_NAME:** The brand name of the purchased product. (A brand and Other)\n",
        "8. **FIRST_TRANS_DATE:** Gives the first shopping date in Gratis.\n",
        "9. **LAST_TRANS_DATE:** Returns the last shopping date in Gratis.\n",
        "\n",
        "\n",
        "** TRX_DATE gives the sales date of the related product. FIRST_TRANS_DATE / LAST_TRANS_DATE The first and last exchange in Gratis."
      ]
    },
    {
      "cell_type": "code",
      "metadata": {
        "id": "hm8jBDGnrtcV",
        "colab_type": "code",
        "outputId": "87c9086b-b900-4d36-87f0-35e132b56577",
        "colab": {
          "base_uri": "https://localhost:8080/",
          "height": 34
        }
      },
      "source": [
        "df.shape"
      ],
      "execution_count": 3,
      "outputs": [
        {
          "output_type": "execute_result",
          "data": {
            "text/plain": [
              "(1731641, 9)"
            ]
          },
          "metadata": {
            "tags": []
          },
          "execution_count": 3
        }
      ]
    },
    {
      "cell_type": "markdown",
      "metadata": {
        "id": "h0D009yRrkiJ",
        "colab_type": "text"
      },
      "source": [
        "There are no duplicates, all rows are unique in the dataset."
      ]
    },
    {
      "cell_type": "code",
      "metadata": {
        "id": "dESE_eSOrpjw",
        "colab_type": "code",
        "outputId": "f9286af9-04b7-4de6-b0f6-75c286de7333",
        "colab": {
          "base_uri": "https://localhost:8080/",
          "height": 34
        }
      },
      "source": [
        "df.duplicated().any()"
      ],
      "execution_count": 4,
      "outputs": [
        {
          "output_type": "execute_result",
          "data": {
            "text/plain": [
              "False"
            ]
          },
          "metadata": {
            "tags": []
          },
          "execution_count": 4
        }
      ]
    },
    {
      "cell_type": "markdown",
      "metadata": {
        "id": "_ZgqH_gK3J7G",
        "colab_type": "text"
      },
      "source": [
        "When we checked the datatypes we saw that date related columns are encoded in the wrong format and converted them to date-time objects."
      ]
    },
    {
      "cell_type": "code",
      "metadata": {
        "id": "ckI-gBoi3Ktw",
        "colab_type": "code",
        "outputId": "1def11c5-d6cc-4179-81f6-fca11d67866a",
        "colab": {
          "base_uri": "https://localhost:8080/",
          "height": 187
        }
      },
      "source": [
        "df.dtypes"
      ],
      "execution_count": 5,
      "outputs": [
        {
          "output_type": "execute_result",
          "data": {
            "text/plain": [
              "CUST_ID               int64\n",
              "RTL_TRANS_ID         object\n",
              "TRX_DATE             object\n",
              "ITEM_QUANTITY       float64\n",
              "ITEM_UNIT_PRICE     float64\n",
              "ITEM_ID               int64\n",
              "BRAND_NAME           object\n",
              "FIRST_TRANS_DATE     object\n",
              "LAST_TRANS_DATE      object\n",
              "dtype: object"
            ]
          },
          "metadata": {
            "tags": []
          },
          "execution_count": 5
        }
      ]
    },
    {
      "cell_type": "code",
      "metadata": {
        "id": "YcmrjuboQROj",
        "colab_type": "code",
        "outputId": "b66bb6ab-7844-43ab-e41e-6c03038003ff",
        "colab": {
          "base_uri": "https://localhost:8080/",
          "height": 394
        }
      },
      "source": [
        "df['TRX_DATE'] = pd.to_datetime(df['TRX_DATE'], format='%d%b%Y:%H:%M:%S.%f')\n",
        "df['FIRST_TRANS_DATE'] = pd.to_datetime(df['FIRST_TRANS_DATE'], format='%d%b%Y:%H:%M:%S')\n",
        "df['LAST_TRANS_DATE'] = pd.to_datetime(df['LAST_TRANS_DATE'], format='%d%b%Y:%H:%M:%S')\n",
        "df.head()               "
      ],
      "execution_count": 6,
      "outputs": [
        {
          "output_type": "execute_result",
          "data": {
            "text/html": [
              "<div>\n",
              "<style scoped>\n",
              "    .dataframe tbody tr th:only-of-type {\n",
              "        vertical-align: middle;\n",
              "    }\n",
              "\n",
              "    .dataframe tbody tr th {\n",
              "        vertical-align: top;\n",
              "    }\n",
              "\n",
              "    .dataframe thead th {\n",
              "        text-align: right;\n",
              "    }\n",
              "</style>\n",
              "<table border=\"1\" class=\"dataframe\">\n",
              "  <thead>\n",
              "    <tr style=\"text-align: right;\">\n",
              "      <th></th>\n",
              "      <th>CUST_ID</th>\n",
              "      <th>RTL_TRANS_ID</th>\n",
              "      <th>TRX_DATE</th>\n",
              "      <th>ITEM_QUANTITY</th>\n",
              "      <th>ITEM_UNIT_PRICE</th>\n",
              "      <th>ITEM_ID</th>\n",
              "      <th>BRAND_NAME</th>\n",
              "      <th>FIRST_TRANS_DATE</th>\n",
              "      <th>LAST_TRANS_DATE</th>\n",
              "    </tr>\n",
              "  </thead>\n",
              "  <tbody>\n",
              "    <tr>\n",
              "      <th>0</th>\n",
              "      <td>10000</td>\n",
              "      <td>01128000022018120817086098</td>\n",
              "      <td>2018-12-08 17:08:38</td>\n",
              "      <td>1.0</td>\n",
              "      <td>15.70</td>\n",
              "      <td>10140396</td>\n",
              "      <td>DIGER</td>\n",
              "      <td>2017-10-28 15:00:00</td>\n",
              "      <td>2019-08-10 15:00:00</td>\n",
              "    </tr>\n",
              "    <tr>\n",
              "      <th>1</th>\n",
              "      <td>1000000</td>\n",
              "      <td>01205000032019062317593178</td>\n",
              "      <td>2019-06-23 17:59:19</td>\n",
              "      <td>1.0</td>\n",
              "      <td>14.95</td>\n",
              "      <td>10167618</td>\n",
              "      <td>DIGER</td>\n",
              "      <td>2017-10-01 15:00:00</td>\n",
              "      <td>2019-08-08 15:00:00</td>\n",
              "    </tr>\n",
              "    <tr>\n",
              "      <th>2</th>\n",
              "      <td>1000001</td>\n",
              "      <td>01042000032018101716332124</td>\n",
              "      <td>2018-10-17 16:33:12</td>\n",
              "      <td>1.0</td>\n",
              "      <td>17.90</td>\n",
              "      <td>10063960</td>\n",
              "      <td>DIGER</td>\n",
              "      <td>2017-10-21 15:00:00</td>\n",
              "      <td>2019-07-20 15:00:00</td>\n",
              "    </tr>\n",
              "    <tr>\n",
              "      <th>3</th>\n",
              "      <td>1000004</td>\n",
              "      <td>01133000012018042115556158</td>\n",
              "      <td>2018-04-21 15:55:39</td>\n",
              "      <td>3.0</td>\n",
              "      <td>6.90</td>\n",
              "      <td>10013901</td>\n",
              "      <td>DIGER</td>\n",
              "      <td>2017-10-07 15:00:00</td>\n",
              "      <td>2019-08-27 15:00:00</td>\n",
              "    </tr>\n",
              "    <tr>\n",
              "      <th>4</th>\n",
              "      <td>1000004</td>\n",
              "      <td>01133000022017110614467148</td>\n",
              "      <td>2017-11-06 14:46:44</td>\n",
              "      <td>1.0</td>\n",
              "      <td>24.90</td>\n",
              "      <td>12000154</td>\n",
              "      <td>DIGER</td>\n",
              "      <td>2017-10-07 15:00:00</td>\n",
              "      <td>2019-08-27 15:00:00</td>\n",
              "    </tr>\n",
              "  </tbody>\n",
              "</table>\n",
              "</div>"
            ],
            "text/plain": [
              "   CUST_ID                RTL_TRANS_ID  ...    FIRST_TRANS_DATE     LAST_TRANS_DATE\n",
              "0    10000  01128000022018120817086098  ... 2017-10-28 15:00:00 2019-08-10 15:00:00\n",
              "1  1000000  01205000032019062317593178  ... 2017-10-01 15:00:00 2019-08-08 15:00:00\n",
              "2  1000001  01042000032018101716332124  ... 2017-10-21 15:00:00 2019-07-20 15:00:00\n",
              "3  1000004  01133000012018042115556158  ... 2017-10-07 15:00:00 2019-08-27 15:00:00\n",
              "4  1000004  01133000022017110614467148  ... 2017-10-07 15:00:00 2019-08-27 15:00:00\n",
              "\n",
              "[5 rows x 9 columns]"
            ]
          },
          "metadata": {
            "tags": []
          },
          "execution_count": 6
        }
      ]
    },
    {
      "cell_type": "markdown",
      "metadata": {
        "id": "lDZEC2qy9Hq4",
        "colab_type": "text"
      },
      "source": [
        "Let's get the dataframe info as follows:"
      ]
    },
    {
      "cell_type": "code",
      "metadata": {
        "id": "s5MAAd2BtiAB",
        "colab_type": "code",
        "outputId": "f4a64c78-282e-42ce-b54a-e0b8fb2561b3",
        "colab": {
          "base_uri": "https://localhost:8080/",
          "height": 255
        }
      },
      "source": [
        "df.info()"
      ],
      "execution_count": 7,
      "outputs": [
        {
          "output_type": "stream",
          "text": [
            "<class 'pandas.core.frame.DataFrame'>\n",
            "RangeIndex: 1731641 entries, 0 to 1731640\n",
            "Data columns (total 9 columns):\n",
            "CUST_ID             int64\n",
            "RTL_TRANS_ID        object\n",
            "TRX_DATE            datetime64[ns]\n",
            "ITEM_QUANTITY       float64\n",
            "ITEM_UNIT_PRICE     float64\n",
            "ITEM_ID             int64\n",
            "BRAND_NAME          object\n",
            "FIRST_TRANS_DATE    datetime64[ns]\n",
            "LAST_TRANS_DATE     datetime64[ns]\n",
            "dtypes: datetime64[ns](3), float64(2), int64(2), object(2)\n",
            "memory usage: 118.9+ MB\n"
          ],
          "name": "stdout"
        }
      ]
    },
    {
      "cell_type": "markdown",
      "metadata": {
        "id": "uFcpiy_K4w6B",
        "colab_type": "text"
      },
      "source": [
        "Miracolusly there are no missing variables in any of the columns."
      ]
    },
    {
      "cell_type": "code",
      "metadata": {
        "id": "MYEWcvJq4rz8",
        "colab_type": "code",
        "outputId": "8e543d82-db35-47ef-c22f-c04c81000964",
        "colab": {
          "base_uri": "https://localhost:8080/",
          "height": 187
        }
      },
      "source": [
        "df.isnull().any()"
      ],
      "execution_count": 8,
      "outputs": [
        {
          "output_type": "execute_result",
          "data": {
            "text/plain": [
              "CUST_ID             False\n",
              "RTL_TRANS_ID        False\n",
              "TRX_DATE            False\n",
              "ITEM_QUANTITY       False\n",
              "ITEM_UNIT_PRICE     False\n",
              "ITEM_ID             False\n",
              "BRAND_NAME          False\n",
              "FIRST_TRANS_DATE    False\n",
              "LAST_TRANS_DATE     False\n",
              "dtype: bool"
            ]
          },
          "metadata": {
            "tags": []
          },
          "execution_count": 8
        }
      ]
    },
    {
      "cell_type": "markdown",
      "metadata": {
        "id": "qGtwFGJemcIm",
        "colab_type": "text"
      },
      "source": [
        "There is no non-negative price, as expected."
      ]
    },
    {
      "cell_type": "code",
      "metadata": {
        "id": "BlkxuEIimij5",
        "colab_type": "code",
        "outputId": "57b3c6e2-b391-4313-94c3-758208ef92fe",
        "colab": {
          "base_uri": "https://localhost:8080/",
          "height": 34
        }
      },
      "source": [
        "len(df[df.ITEM_UNIT_PRICE < 0])"
      ],
      "execution_count": 9,
      "outputs": [
        {
          "output_type": "execute_result",
          "data": {
            "text/plain": [
              "0"
            ]
          },
          "metadata": {
            "tags": []
          },
          "execution_count": 9
        }
      ]
    },
    {
      "cell_type": "markdown",
      "metadata": {
        "id": "vny477Iencq8",
        "colab_type": "text"
      },
      "source": [
        "There is no non-negative or zero item quantity, as expected."
      ]
    },
    {
      "cell_type": "code",
      "metadata": {
        "id": "57r3_ixTnJ-W",
        "colab_type": "code",
        "outputId": "46de4112-2310-455d-ae02-12183c5a6a15",
        "colab": {
          "base_uri": "https://localhost:8080/",
          "height": 34
        }
      },
      "source": [
        "len(df[df.ITEM_QUANTITY <= 0])"
      ],
      "execution_count": 10,
      "outputs": [
        {
          "output_type": "execute_result",
          "data": {
            "text/plain": [
              "0"
            ]
          },
          "metadata": {
            "tags": []
          },
          "execution_count": 10
        }
      ]
    },
    {
      "cell_type": "markdown",
      "metadata": {
        "id": "8QgVtcuWb8KN",
        "colab_type": "text"
      },
      "source": [
        "## Insights and Visualization"
      ]
    },
    {
      "cell_type": "markdown",
      "metadata": {
        "id": "TXWcHSG8PtaZ",
        "colab_type": "text"
      },
      "source": [
        "An average customer buys one item in one transaction. Mean unit price is 1.38 TRY (std = 7.84 TRY)."
      ]
    },
    {
      "cell_type": "code",
      "metadata": {
        "id": "5A2vaaVGbt-B",
        "colab_type": "code",
        "outputId": "0ac48e77-87a4-44f6-b55c-6e816b3a1efb",
        "colab": {
          "base_uri": "https://localhost:8080/",
          "height": 297
        }
      },
      "source": [
        "df.describe()"
      ],
      "execution_count": 11,
      "outputs": [
        {
          "output_type": "execute_result",
          "data": {
            "text/html": [
              "<div>\n",
              "<style scoped>\n",
              "    .dataframe tbody tr th:only-of-type {\n",
              "        vertical-align: middle;\n",
              "    }\n",
              "\n",
              "    .dataframe tbody tr th {\n",
              "        vertical-align: top;\n",
              "    }\n",
              "\n",
              "    .dataframe thead th {\n",
              "        text-align: right;\n",
              "    }\n",
              "</style>\n",
              "<table border=\"1\" class=\"dataframe\">\n",
              "  <thead>\n",
              "    <tr style=\"text-align: right;\">\n",
              "      <th></th>\n",
              "      <th>CUST_ID</th>\n",
              "      <th>ITEM_QUANTITY</th>\n",
              "      <th>ITEM_UNIT_PRICE</th>\n",
              "      <th>ITEM_ID</th>\n",
              "    </tr>\n",
              "  </thead>\n",
              "  <tbody>\n",
              "    <tr>\n",
              "      <th>count</th>\n",
              "      <td>1.731641e+06</td>\n",
              "      <td>1.731641e+06</td>\n",
              "      <td>1.731641e+06</td>\n",
              "      <td>1.731641e+06</td>\n",
              "    </tr>\n",
              "    <tr>\n",
              "      <th>mean</th>\n",
              "      <td>3.003829e+06</td>\n",
              "      <td>1.008438e+00</td>\n",
              "      <td>1.384603e+01</td>\n",
              "      <td>1.039865e+07</td>\n",
              "    </tr>\n",
              "    <tr>\n",
              "      <th>std</th>\n",
              "      <td>3.058808e+06</td>\n",
              "      <td>1.898518e-01</td>\n",
              "      <td>7.837371e+00</td>\n",
              "      <td>8.033981e+05</td>\n",
              "    </tr>\n",
              "    <tr>\n",
              "      <th>min</th>\n",
              "      <td>2.001000e+03</td>\n",
              "      <td>1.000000e+00</td>\n",
              "      <td>0.000000e+00</td>\n",
              "      <td>1.000005e+07</td>\n",
              "    </tr>\n",
              "    <tr>\n",
              "      <th>25%</th>\n",
              "      <td>8.481120e+05</td>\n",
              "      <td>1.000000e+00</td>\n",
              "      <td>8.900000e+00</td>\n",
              "      <td>1.001922e+07</td>\n",
              "    </tr>\n",
              "    <tr>\n",
              "      <th>50%</th>\n",
              "      <td>2.096239e+06</td>\n",
              "      <td>1.000000e+00</td>\n",
              "      <td>1.195000e+01</td>\n",
              "      <td>1.003571e+07</td>\n",
              "    </tr>\n",
              "    <tr>\n",
              "      <th>75%</th>\n",
              "      <td>4.408432e+06</td>\n",
              "      <td>1.000000e+00</td>\n",
              "      <td>1.690000e+01</td>\n",
              "      <td>1.011497e+07</td>\n",
              "    </tr>\n",
              "    <tr>\n",
              "      <th>max</th>\n",
              "      <td>1.805552e+07</td>\n",
              "      <td>6.000000e+01</td>\n",
              "      <td>8.995000e+01</td>\n",
              "      <td>1.700055e+07</td>\n",
              "    </tr>\n",
              "  </tbody>\n",
              "</table>\n",
              "</div>"
            ],
            "text/plain": [
              "            CUST_ID  ITEM_QUANTITY  ITEM_UNIT_PRICE       ITEM_ID\n",
              "count  1.731641e+06   1.731641e+06     1.731641e+06  1.731641e+06\n",
              "mean   3.003829e+06   1.008438e+00     1.384603e+01  1.039865e+07\n",
              "std    3.058808e+06   1.898518e-01     7.837371e+00  8.033981e+05\n",
              "min    2.001000e+03   1.000000e+00     0.000000e+00  1.000005e+07\n",
              "25%    8.481120e+05   1.000000e+00     8.900000e+00  1.001922e+07\n",
              "50%    2.096239e+06   1.000000e+00     1.195000e+01  1.003571e+07\n",
              "75%    4.408432e+06   1.000000e+00     1.690000e+01  1.011497e+07\n",
              "max    1.805552e+07   6.000000e+01     8.995000e+01  1.700055e+07"
            ]
          },
          "metadata": {
            "tags": []
          },
          "execution_count": 11
        }
      ]
    },
    {
      "cell_type": "markdown",
      "metadata": {
        "id": "bJ1A6Mf4cLMO",
        "colab_type": "text"
      },
      "source": [
        "Brand A has 36365 items with a mean unit price of 17.83 TRY (std = 4.61 TRY)."
      ]
    },
    {
      "cell_type": "code",
      "metadata": {
        "id": "vBT6UMwPb2ru",
        "colab_type": "code",
        "outputId": "da6062ad-79e8-47e6-e899-07d9b08f425e",
        "colab": {
          "base_uri": "https://localhost:8080/",
          "height": 297
        }
      },
      "source": [
        "df_A = df[df.BRAND_NAME == \"A\"]\n",
        "df_A.describe()"
      ],
      "execution_count": 12,
      "outputs": [
        {
          "output_type": "execute_result",
          "data": {
            "text/html": [
              "<div>\n",
              "<style scoped>\n",
              "    .dataframe tbody tr th:only-of-type {\n",
              "        vertical-align: middle;\n",
              "    }\n",
              "\n",
              "    .dataframe tbody tr th {\n",
              "        vertical-align: top;\n",
              "    }\n",
              "\n",
              "    .dataframe thead th {\n",
              "        text-align: right;\n",
              "    }\n",
              "</style>\n",
              "<table border=\"1\" class=\"dataframe\">\n",
              "  <thead>\n",
              "    <tr style=\"text-align: right;\">\n",
              "      <th></th>\n",
              "      <th>CUST_ID</th>\n",
              "      <th>ITEM_QUANTITY</th>\n",
              "      <th>ITEM_UNIT_PRICE</th>\n",
              "      <th>ITEM_ID</th>\n",
              "    </tr>\n",
              "  </thead>\n",
              "  <tbody>\n",
              "    <tr>\n",
              "      <th>count</th>\n",
              "      <td>3.636500e+04</td>\n",
              "      <td>36365.000000</td>\n",
              "      <td>36365.000000</td>\n",
              "      <td>3.636500e+04</td>\n",
              "    </tr>\n",
              "    <tr>\n",
              "      <th>mean</th>\n",
              "      <td>2.942126e+06</td>\n",
              "      <td>1.020074</td>\n",
              "      <td>17.834808</td>\n",
              "      <td>1.159250e+07</td>\n",
              "    </tr>\n",
              "    <tr>\n",
              "      <th>std</th>\n",
              "      <td>3.075487e+06</td>\n",
              "      <td>0.210895</td>\n",
              "      <td>4.605865</td>\n",
              "      <td>8.020331e+05</td>\n",
              "    </tr>\n",
              "    <tr>\n",
              "      <th>min</th>\n",
              "      <td>2.062000e+03</td>\n",
              "      <td>1.000000</td>\n",
              "      <td>6.900000</td>\n",
              "      <td>1.000481e+07</td>\n",
              "    </tr>\n",
              "    <tr>\n",
              "      <th>25%</th>\n",
              "      <td>8.257930e+05</td>\n",
              "      <td>1.000000</td>\n",
              "      <td>13.900000</td>\n",
              "      <td>1.200046e+07</td>\n",
              "    </tr>\n",
              "    <tr>\n",
              "      <th>50%</th>\n",
              "      <td>2.060515e+06</td>\n",
              "      <td>1.000000</td>\n",
              "      <td>18.500000</td>\n",
              "      <td>1.200047e+07</td>\n",
              "    </tr>\n",
              "    <tr>\n",
              "      <th>75%</th>\n",
              "      <td>4.124422e+06</td>\n",
              "      <td>1.000000</td>\n",
              "      <td>19.950000</td>\n",
              "      <td>1.200048e+07</td>\n",
              "    </tr>\n",
              "    <tr>\n",
              "      <th>max</th>\n",
              "      <td>1.803551e+07</td>\n",
              "      <td>9.000000</td>\n",
              "      <td>33.800000</td>\n",
              "      <td>1.200115e+07</td>\n",
              "    </tr>\n",
              "  </tbody>\n",
              "</table>\n",
              "</div>"
            ],
            "text/plain": [
              "            CUST_ID  ITEM_QUANTITY  ITEM_UNIT_PRICE       ITEM_ID\n",
              "count  3.636500e+04   36365.000000     36365.000000  3.636500e+04\n",
              "mean   2.942126e+06       1.020074        17.834808  1.159250e+07\n",
              "std    3.075487e+06       0.210895         4.605865  8.020331e+05\n",
              "min    2.062000e+03       1.000000         6.900000  1.000481e+07\n",
              "25%    8.257930e+05       1.000000        13.900000  1.200046e+07\n",
              "50%    2.060515e+06       1.000000        18.500000  1.200047e+07\n",
              "75%    4.124422e+06       1.000000        19.950000  1.200048e+07\n",
              "max    1.803551e+07       9.000000        33.800000  1.200115e+07"
            ]
          },
          "metadata": {
            "tags": []
          },
          "execution_count": 12
        }
      ]
    },
    {
      "cell_type": "code",
      "metadata": {
        "id": "unaD7-CfQ9dg",
        "colab_type": "code",
        "outputId": "0009367d-a215-449e-a74c-1a182a355d2f",
        "colab": {
          "base_uri": "https://localhost:8080/",
          "height": 85
        }
      },
      "source": [
        "df.columns"
      ],
      "execution_count": 13,
      "outputs": [
        {
          "output_type": "execute_result",
          "data": {
            "text/plain": [
              "Index(['CUST_ID', 'RTL_TRANS_ID', 'TRX_DATE', 'ITEM_QUANTITY',\n",
              "       'ITEM_UNIT_PRICE', 'ITEM_ID', 'BRAND_NAME', 'FIRST_TRANS_DATE',\n",
              "       'LAST_TRANS_DATE'],\n",
              "      dtype='object')"
            ]
          },
          "metadata": {
            "tags": []
          },
          "execution_count": 13
        }
      ]
    },
    {
      "cell_type": "markdown",
      "metadata": {
        "id": "CUiIf1ZjPKc3",
        "colab_type": "text"
      },
      "source": [
        "### Retail Transaction ID\n",
        "Brand A mekes the 2.1% of the over all brands. 97.7% of the buyers purchase one or several amounts of the same item during one transaction, remaining 2.3% buys different items in one transaction."
      ]
    },
    {
      "cell_type": "code",
      "metadata": {
        "id": "qnX0mYsub500",
        "colab_type": "code",
        "outputId": "d55039ca-c591-4fee-f354-3aa88ad97413",
        "colab": {
          "base_uri": "https://localhost:8080/",
          "height": 34
        }
      },
      "source": [
        "df[df.BRAND_NAME == \"A\"].shape[0]/len(df)*100"
      ],
      "execution_count": 14,
      "outputs": [
        {
          "output_type": "execute_result",
          "data": {
            "text/plain": [
              "2.1000311265441276"
            ]
          },
          "metadata": {
            "tags": []
          },
          "execution_count": 14
        }
      ]
    },
    {
      "cell_type": "code",
      "metadata": {
        "id": "b2GUiqKFybRI",
        "colab_type": "code",
        "outputId": "1ed22d00-cfa7-4ede-c94b-fa1936246f47",
        "colab": {
          "base_uri": "https://localhost:8080/",
          "height": 34
        }
      },
      "source": [
        "len(df.RTL_TRANS_ID.unique())/len(df)*100"
      ],
      "execution_count": 15,
      "outputs": [
        {
          "output_type": "execute_result",
          "data": {
            "text/plain": [
              "97.70512479203252"
            ]
          },
          "metadata": {
            "tags": []
          },
          "execution_count": 15
        }
      ]
    },
    {
      "cell_type": "markdown",
      "metadata": {
        "id": "QreZekgKRE78",
        "colab_type": "text"
      },
      "source": [
        "### Transaction Date\n",
        "\n",
        "The transaction dates provided in the dataset lies between September, 2019 and August 2019."
      ]
    },
    {
      "cell_type": "code",
      "metadata": {
        "id": "xWHwlduJZhAZ",
        "colab_type": "code",
        "outputId": "0771c6b4-f217-4923-fbef-d17f29ddf96a",
        "colab": {
          "base_uri": "https://localhost:8080/",
          "height": 68
        }
      },
      "source": [
        "print(\"Earliest Transaction Date: \", df.TRX_DATE.min())\n",
        "print(\"Last Transaction Date: \", df.TRX_DATE.max())\n",
        "duration = df.TRX_DATE.max()-df.TRX_DATE.min()\n",
        "print(\"Duration (days): \",duration.days)"
      ],
      "execution_count": 16,
      "outputs": [
        {
          "output_type": "stream",
          "text": [
            "Earliest Transaction Date:  2017-09-06 10:12:05\n",
            "Last Transaction Date:  2019-08-29 15:00:00.408000\n",
            "Duration (days):  722\n"
          ],
          "name": "stdout"
        }
      ]
    },
    {
      "cell_type": "markdown",
      "metadata": {
        "id": "Fx8pXDNka9yM",
        "colab_type": "text"
      },
      "source": [
        "The transaction time span for brand A lies in the same time window."
      ]
    },
    {
      "cell_type": "code",
      "metadata": {
        "id": "q2af1K-7ameu",
        "colab_type": "code",
        "outputId": "1e687e6b-a77b-4142-abd4-75202cd58180",
        "colab": {
          "base_uri": "https://localhost:8080/",
          "height": 68
        }
      },
      "source": [
        "print(\"Earliest Transaction Date for Brand A: \", df[df.BRAND_NAME == \"A\"].TRX_DATE.min())\n",
        "print(\"Last Transaction Date for Brand A: \", df[df.BRAND_NAME == \"A\"].TRX_DATE.max())\n",
        "duration = df[df.BRAND_NAME == \"A\"].TRX_DATE.max()-df[df.BRAND_NAME == \"A\"].TRX_DATE.min()\n",
        "print(\"Duration for Brand A(days): \",duration.days)"
      ],
      "execution_count": 17,
      "outputs": [
        {
          "output_type": "stream",
          "text": [
            "Earliest Transaction Date for Brand A:  2017-09-07 15:45:20\n",
            "Last Transaction Date for Brand A:  2019-08-29 14:32:32\n",
            "Duration for Brand A(days):  720\n"
          ],
          "name": "stdout"
        }
      ]
    },
    {
      "cell_type": "code",
      "metadata": {
        "id": "4hG1QwYCkRuA",
        "colab_type": "code",
        "colab": {
          "base_uri": "https://localhost:8080/",
          "height": 34
        },
        "outputId": "a7ddbdd5-66cb-49b0-b927-c2ba867325d8"
      },
      "source": [
        "from datetime import date\n",
        "f_date = date(2014, 7, 2)\n",
        "l_date = date(2014, 7, 11)\n",
        "delta = l_date - f_date\n",
        "print(delta.days)"
      ],
      "execution_count": 18,
      "outputs": [
        {
          "output_type": "stream",
          "text": [
            "9\n"
          ],
          "name": "stdout"
        }
      ]
    },
    {
      "cell_type": "markdown",
      "metadata": {
        "id": "jnnq08v_UwSw",
        "colab_type": "text"
      },
      "source": [
        "### Item Quantity"
      ]
    },
    {
      "cell_type": "markdown",
      "metadata": {
        "id": "0URPK29rgJnR",
        "colab_type": "text"
      },
      "source": [
        "Since brand A makes only 2.1% of the overall brands, quantity of the other brand items highly dominates. When we look at to the puchases with 10 or lesser items, we see that brand A is localized around 1 wheras item quantity of other extend to 2."
      ]
    },
    {
      "cell_type": "code",
      "metadata": {
        "id": "Yst7BIo5ahzT",
        "colab_type": "code",
        "outputId": "9a76ae38-d50b-41e0-9581-3df7ef784286",
        "colab": {
          "base_uri": "https://localhost:8080/",
          "height": 281
        }
      },
      "source": [
        "import matplotlib.pyplot as plt\n",
        "%matplotlib inline\n",
        "\n",
        "x1 = df.loc[df.BRAND_NAME =='DIGER', 'ITEM_QUANTITY']\n",
        "x2 = df.loc[df.BRAND_NAME=='A', 'ITEM_QUANTITY']\n",
        "\n",
        "\n",
        "kwargs = dict(alpha=0.5, bins = 50)\n",
        "\n",
        "plt.hist(x1, **kwargs, color='b', label='Others')\n",
        "plt.hist(x2, **kwargs, color='darkorange', label='Brand A')\n",
        "\n",
        "plt.gca().set(title='Frequency Histogram of Item Quantity', ylabel='Frequency')\n",
        "plt.xlim(0,10)\n",
        "plt.legend();"
      ],
      "execution_count": 19,
      "outputs": [
        {
          "output_type": "display_data",
          "data": {
            "image/png": "[encoded data removed]",
            "text/plain": [
              "<Figure size 432x288 with 1 Axes>"
            ]
          },
          "metadata": {
            "tags": []
          }
        }
      ]
    },
    {
      "cell_type": "markdown",
      "metadata": {
        "id": "QrtV-EhXUvsv",
        "colab_type": "text"
      },
      "source": [
        "### Item Unit Price\n",
        "\n",
        "Unit price distribution of the items belonging to other brands are positively skewed with a median value of 1.19 TRY. However, average unit price of the items of brand A is 17.83 TRY (std =4.60). It is obvious that brand A's products are more expensive than the rest."
      ]
    },
    {
      "cell_type": "code",
      "metadata": {
        "id": "521a_o42XX7n",
        "colab_type": "code",
        "outputId": "4dbccd72-14ba-49c3-afd5-1b6e39a2751d",
        "colab": {
          "base_uri": "https://localhost:8080/",
          "height": 170
        }
      },
      "source": [
        "df[df.BRAND_NAME == \"DIGER\"][\"ITEM_UNIT_PRICE\"].describe()"
      ],
      "execution_count": 20,
      "outputs": [
        {
          "output_type": "execute_result",
          "data": {
            "text/plain": [
              "count    1.695276e+06\n",
              "mean     1.376047e+01\n",
              "std      7.870091e+00\n",
              "min      0.000000e+00\n",
              "25%      8.900000e+00\n",
              "50%      1.190000e+01\n",
              "75%      1.650000e+01\n",
              "max      8.995000e+01\n",
              "Name: ITEM_UNIT_PRICE, dtype: float64"
            ]
          },
          "metadata": {
            "tags": []
          },
          "execution_count": 20
        }
      ]
    },
    {
      "cell_type": "code",
      "metadata": {
        "id": "w2NDZhuTXmbA",
        "colab_type": "code",
        "outputId": "46b86d1f-9666-475e-85d2-e45b34fa48a7",
        "colab": {
          "base_uri": "https://localhost:8080/",
          "height": 170
        }
      },
      "source": [
        "df[df.BRAND_NAME == \"A\"][\"ITEM_UNIT_PRICE\"].describe()"
      ],
      "execution_count": 21,
      "outputs": [
        {
          "output_type": "execute_result",
          "data": {
            "text/plain": [
              "count    36365.000000\n",
              "mean        17.834808\n",
              "std          4.605865\n",
              "min          6.900000\n",
              "25%         13.900000\n",
              "50%         18.500000\n",
              "75%         19.950000\n",
              "max         33.800000\n",
              "Name: ITEM_UNIT_PRICE, dtype: float64"
            ]
          },
          "metadata": {
            "tags": []
          },
          "execution_count": 21
        }
      ]
    },
    {
      "cell_type": "code",
      "metadata": {
        "id": "Dx1L5DLssDCs",
        "colab_type": "code",
        "outputId": "deb80856-110e-4f5b-f8d0-cd5e40183520",
        "colab": {
          "base_uri": "https://localhost:8080/",
          "height": 312
        }
      },
      "source": [
        "#fig, ax = plt.subplots((2, 1),figsize=(10, 8))\n",
        "fig, (ax1, ax2) = plt.subplots(2)\n",
        "ax1.hist(df[df.BRAND_NAME == \"DIGER\"][\"ITEM_UNIT_PRICE\"],bins=30, color=\"blue\")#, alpha=0.5, ax=ax)\n",
        "ax2.hist(df[df.BRAND_NAME == \"A\"][\"ITEM_UNIT_PRICE\"], bins=30, color=\"orange\")#, alpha=0.5, ax=ax)\n",
        "ax1.legend(\"O\")\n",
        "ax2.legend(\"A\")\n",
        "ax1.set_title('Unit Price Distribution')\n",
        "ax2.set_xlabel('Unit Price (TRY)')"
      ],
      "execution_count": 22,
      "outputs": [
        {
          "output_type": "execute_result",
          "data": {
            "text/plain": [
              "Text(0.5, 0, 'Unit Price (TRY)')"
            ]
          },
          "metadata": {
            "tags": []
          },
          "execution_count": 22
        },
        {
          "output_type": "display_data",
          "data": {
            "image/png": "[encoded data removed]",
            "text/plain": [
              "<Figure size 432x288 with 2 Axes>"
            ]
          },
          "metadata": {
            "tags": []
          }
        }
      ]
    },
    {
      "cell_type": "markdown",
      "metadata": {
        "id": "foncmUrHW63c",
        "colab_type": "text"
      },
      "source": [
        "### Item ID\n",
        "\n",
        "There are 1851 different items in hair products. Distribution of the top 10 items in hair products sold in Gratis is as follows. Item with 10013125 ID has the highest frequency."
      ]
    },
    {
      "cell_type": "code",
      "metadata": {
        "id": "dafpWhJBYUgA",
        "colab_type": "code",
        "outputId": "544f96ce-d620-4427-b617-f125fdf49f36",
        "colab": {
          "base_uri": "https://localhost:8080/",
          "height": 34
        }
      },
      "source": [
        "len(df.ITEM_ID.unique())"
      ],
      "execution_count": 23,
      "outputs": [
        {
          "output_type": "execute_result",
          "data": {
            "text/plain": [
              "1851"
            ]
          },
          "metadata": {
            "tags": []
          },
          "execution_count": 23
        }
      ]
    },
    {
      "cell_type": "code",
      "metadata": {
        "id": "gWZZsjp8W9b7",
        "colab_type": "code",
        "outputId": "504e5f39-a7c3-4e8a-8946-2c6d144f6b4f",
        "colab": {
          "base_uri": "https://localhost:8080/",
          "height": 327
        }
      },
      "source": [
        "df.ITEM_ID.value_counts()[:10].plot(kind='bar')"
      ],
      "execution_count": 24,
      "outputs": [
        {
          "output_type": "execute_result",
          "data": {
            "text/plain": [
              "<matplotlib.axes._subplots.AxesSubplot at 0x7effed252ef0>"
            ]
          },
          "metadata": {
            "tags": []
          },
          "execution_count": 24
        },
        {
          "output_type": "display_data",
          "data": {
            "image/png": "[encoded data removed]",
            "text/plain": [
              "<Figure size 432x288 with 1 Axes>"
            ]
          },
          "metadata": {
            "tags": []
          }
        }
      ]
    },
    {
      "cell_type": "markdown",
      "metadata": {
        "id": "ZXcg3BipYzXk",
        "colab_type": "text"
      },
      "source": [
        "Brand A has 36 different hair products sold in Gratis."
      ]
    },
    {
      "cell_type": "code",
      "metadata": {
        "id": "SB2mHgiYYuN8",
        "colab_type": "code",
        "outputId": "64a6b569-9dfc-4d3c-a3b4-a4c5adde3131",
        "colab": {
          "base_uri": "https://localhost:8080/",
          "height": 34
        }
      },
      "source": [
        "len(df[df.BRAND_NAME == \"A\"].ITEM_ID.unique())"
      ],
      "execution_count": 25,
      "outputs": [
        {
          "output_type": "execute_result",
          "data": {
            "text/plain": [
              "36"
            ]
          },
          "metadata": {
            "tags": []
          },
          "execution_count": 25
        }
      ]
    },
    {
      "cell_type": "markdown",
      "metadata": {
        "id": "47UHtCudY_Bj",
        "colab_type": "text"
      },
      "source": [
        "Distribution of A's top 10 products are as follows. Unfortunately none of them is listed in the top 10 hair products sold in Gratis."
      ]
    },
    {
      "cell_type": "code",
      "metadata": {
        "id": "zMfBIRv_Xvs3",
        "colab_type": "code",
        "outputId": "74b127c1-2097-4b0c-d175-9e8eb753d51d",
        "colab": {
          "base_uri": "https://localhost:8080/",
          "height": 339
        }
      },
      "source": [
        "df[df.BRAND_NAME == \"A\"].ITEM_ID.value_counts()[:10].plot(kind='bar', color =\"orange\", title = \"kdhslfşh\")"
      ],
      "execution_count": 26,
      "outputs": [
        {
          "output_type": "execute_result",
          "data": {
            "text/plain": [
              "<matplotlib.axes._subplots.AxesSubplot at 0x7effea7af4a8>"
            ]
          },
          "metadata": {
            "tags": []
          },
          "execution_count": 26
        },
        {
          "output_type": "display_data",
          "data": {
            "image/png": "[encoded data removed]",
            "text/plain": [
              "<Figure size 432x288 with 1 Axes>"
            ]
          },
          "metadata": {
            "tags": []
          }
        }
      ]
    },
    {
      "cell_type": "markdown",
      "metadata": {
        "id": "qxpmqwXCU6S2",
        "colab_type": "text"
      },
      "source": [
        "### Brand Name\n",
        "\n",
        "Only 2.1% of the brands belongs to brand A."
      ]
    },
    {
      "cell_type": "code",
      "metadata": {
        "id": "tFKyy9ODgXc5",
        "colab_type": "code",
        "outputId": "da5bd9dc-ba93-455d-f053-814fa6ec5db2",
        "colab": {
          "base_uri": "https://localhost:8080/",
          "height": 68
        }
      },
      "source": [
        "round(df.BRAND_NAME.value_counts()/len(df)*100,3)"
      ],
      "execution_count": 27,
      "outputs": [
        {
          "output_type": "execute_result",
          "data": {
            "text/plain": [
              "DIGER    97.9\n",
              "A         2.1\n",
              "Name: BRAND_NAME, dtype: float64"
            ]
          },
          "metadata": {
            "tags": []
          },
          "execution_count": 27
        }
      ]
    },
    {
      "cell_type": "code",
      "metadata": {
        "id": "nJrkWyQnsDJ6",
        "colab_type": "code",
        "outputId": "d7eb9230-de9c-4ac8-addd-280aaebf22b0",
        "colab": {
          "base_uri": "https://localhost:8080/",
          "height": 381
        }
      },
      "source": [
        "df.BRAND_NAME.value_counts().plot(kind='pie',figsize=(6, 6))\n"
      ],
      "execution_count": 28,
      "outputs": [
        {
          "output_type": "execute_result",
          "data": {
            "text/plain": [
              "<matplotlib.axes._subplots.AxesSubplot at 0x7effea3a3828>"
            ]
          },
          "metadata": {
            "tags": []
          },
          "execution_count": 28
        },
        {
          "output_type": "display_data",
          "data": {
            "image/png": "[encoded data removed]",
            "text/plain": [
              "<Figure size 432x432 with 1 Axes>"
            ]
          },
          "metadata": {
            "tags": []
          }
        }
      ]
    },
    {
      "cell_type": "markdown",
      "metadata": {
        "id": "JsEtaBvmcuvD",
        "colab_type": "text"
      },
      "source": [
        "## Feature Generation"
      ]
    },
    {
      "cell_type": "markdown",
      "metadata": {
        "id": "WbeQprhd1kl5",
        "colab_type": "text"
      },
      "source": [
        "### Monthly Revenue\n",
        "\n",
        "Assuming *Transaction Date* as invoice date, we can calculate the monthly revenue as follows:\n",
        "\n",
        "---\n",
        "\n",
        "Revenue = Active Customer Count * Order Count * Average Revenue per Order\n",
        "\n",
        "---\n",
        "\n",
        "When we plotted monthly revenue for all hair products sold in Gratis and Brand A, we observed the same seasonality. It is obvious that monthly revenue is growing. There are abrupt jumps in revenues, this might be due to campaigns of Gratis. After sudden increases in those so called campaign era, revenue slighly decreases with a linear trend. More probably there is no seperate campaign made for Brand A so it follows the same trend.\n"
      ]
    },
    {
      "cell_type": "code",
      "metadata": {
        "id": "C5WjV08j0YnV",
        "colab_type": "code",
        "colab": {
          "base_uri": "https://localhost:8080/",
          "height": 204
        },
        "outputId": "cb223bc4-28b6-4133-e299-f3236748e585"
      },
      "source": [
        "#creating YearMonth field for the ease of reporting and visualization\n",
        "df['InvoiceYearMonth'] = df['TRX_DATE'].map(lambda date: 100*date.year + date.month)\n",
        "df['InvoiceYearMonth'] = df['InvoiceYearMonth'].astype(str) #required for true visualization\n",
        "#calculate Revenue for each row and create a new dataframe with YearMonth - Revenue columns\n",
        "df['Revenue'] = df['ITEM_UNIT_PRICE'] * df['ITEM_QUANTITY']\n",
        "tx_revenue = df.groupby(['InvoiceYearMonth'])['Revenue'].sum().reset_index()\n",
        "tx_revenue.head()\n"
      ],
      "execution_count": 57,
      "outputs": [
        {
          "output_type": "execute_result",
          "data": {
            "text/html": [
              "<div>\n",
              "<style scoped>\n",
              "    .dataframe tbody tr th:only-of-type {\n",
              "        vertical-align: middle;\n",
              "    }\n",
              "\n",
              "    .dataframe tbody tr th {\n",
              "        vertical-align: top;\n",
              "    }\n",
              "\n",
              "    .dataframe thead th {\n",
              "        text-align: right;\n",
              "    }\n",
              "</style>\n",
              "<table border=\"1\" class=\"dataframe\">\n",
              "  <thead>\n",
              "    <tr style=\"text-align: right;\">\n",
              "      <th></th>\n",
              "      <th>InvoiceYearMonth</th>\n",
              "      <th>Revenue</th>\n",
              "    </tr>\n",
              "  </thead>\n",
              "  <tbody>\n",
              "    <tr>\n",
              "      <th>0</th>\n",
              "      <td>201709</td>\n",
              "      <td>271441.300000</td>\n",
              "    </tr>\n",
              "    <tr>\n",
              "      <th>1</th>\n",
              "      <td>201710</td>\n",
              "      <td>629475.640000</td>\n",
              "    </tr>\n",
              "    <tr>\n",
              "      <th>2</th>\n",
              "      <td>201711</td>\n",
              "      <td>526596.390000</td>\n",
              "    </tr>\n",
              "    <tr>\n",
              "      <th>3</th>\n",
              "      <td>201712</td>\n",
              "      <td>766644.920001</td>\n",
              "    </tr>\n",
              "    <tr>\n",
              "      <th>4</th>\n",
              "      <td>201801</td>\n",
              "      <td>520568.950000</td>\n",
              "    </tr>\n",
              "  </tbody>\n",
              "</table>\n",
              "</div>"
            ],
            "text/plain": [
              "  InvoiceYearMonth        Revenue\n",
              "0           201709  271441.300000\n",
              "1           201710  629475.640000\n",
              "2           201711  526596.390000\n",
              "3           201712  766644.920001\n",
              "4           201801  520568.950000"
            ]
          },
          "metadata": {
            "tags": []
          },
          "execution_count": 57
        }
      ]
    },
    {
      "cell_type": "markdown",
      "metadata": {
        "id": "5Ahh3NmU5r1d",
        "colab_type": "text"
      },
      "source": [
        "Generate the same feature for Brand A:"
      ]
    },
    {
      "cell_type": "code",
      "metadata": {
        "id": "eYPTF2uq5x_D",
        "colab_type": "code",
        "colab": {
          "base_uri": "https://localhost:8080/",
          "height": 632
        },
        "outputId": "d9754b18-da82-4467-b767-7bf9ba08549e"
      },
      "source": [
        "#creating YearMonth field for the ease of reporting and visualization\n",
        "df_A['InvoiceYearMonth'] = df_A['TRX_DATE'].map(lambda date: 100*date.year + date.month)\n",
        "df_A['InvoiceYearMonth'] = df_A['InvoiceYearMonth'].astype(str) #required for true visualization\n",
        "#calculate Revenue for each row and create a new dataframe with YearMonth - Revenue columns\n",
        "df_A['Revenue'] = df_A['ITEM_UNIT_PRICE'] * df_A['ITEM_QUANTITY']\n",
        "tx_revenue_A = df_A.groupby(['InvoiceYearMonth'])['Revenue'].sum().reset_index()\n",
        "tx_revenue_A.head()"
      ],
      "execution_count": 58,
      "outputs": [
        {
          "output_type": "stream",
          "text": [
            "/usr/local/lib/python3.6/dist-packages/ipykernel_launcher.py:1: SettingWithCopyWarning:\n",
            "\n",
            "\n",
            "A value is trying to be set on a copy of a slice from a DataFrame.\n",
            "Try using .loc[row_indexer,col_indexer] = value instead\n",
            "\n",
            "See the caveats in the documentation: http://pandas.pydata.org/pandas-docs/stable/indexing.html#indexing-view-versus-copy\n",
            "\n",
            "/usr/local/lib/python3.6/dist-packages/ipykernel_launcher.py:2: SettingWithCopyWarning:\n",
            "\n",
            "\n",
            "A value is trying to be set on a copy of a slice from a DataFrame.\n",
            "Try using .loc[row_indexer,col_indexer] = value instead\n",
            "\n",
            "See the caveats in the documentation: http://pandas.pydata.org/pandas-docs/stable/indexing.html#indexing-view-versus-copy\n",
            "\n",
            "/usr/local/lib/python3.6/dist-packages/ipykernel_launcher.py:4: SettingWithCopyWarning:\n",
            "\n",
            "\n",
            "A value is trying to be set on a copy of a slice from a DataFrame.\n",
            "Try using .loc[row_indexer,col_indexer] = value instead\n",
            "\n",
            "See the caveats in the documentation: http://pandas.pydata.org/pandas-docs/stable/indexing.html#indexing-view-versus-copy\n",
            "\n"
          ],
          "name": "stderr"
        },
        {
          "output_type": "execute_result",
          "data": {
            "text/html": [
              "<div>\n",
              "<style scoped>\n",
              "    .dataframe tbody tr th:only-of-type {\n",
              "        vertical-align: middle;\n",
              "    }\n",
              "\n",
              "    .dataframe tbody tr th {\n",
              "        vertical-align: top;\n",
              "    }\n",
              "\n",
              "    .dataframe thead th {\n",
              "        text-align: right;\n",
              "    }\n",
              "</style>\n",
              "<table border=\"1\" class=\"dataframe\">\n",
              "  <thead>\n",
              "    <tr style=\"text-align: right;\">\n",
              "      <th></th>\n",
              "      <th>InvoiceYearMonth</th>\n",
              "      <th>Revenue</th>\n",
              "    </tr>\n",
              "  </thead>\n",
              "  <tbody>\n",
              "    <tr>\n",
              "      <th>0</th>\n",
              "      <td>201709</td>\n",
              "      <td>7845.33</td>\n",
              "    </tr>\n",
              "    <tr>\n",
              "      <th>1</th>\n",
              "      <td>201710</td>\n",
              "      <td>16267.85</td>\n",
              "    </tr>\n",
              "    <tr>\n",
              "      <th>2</th>\n",
              "      <td>201711</td>\n",
              "      <td>13109.06</td>\n",
              "    </tr>\n",
              "    <tr>\n",
              "      <th>3</th>\n",
              "      <td>201712</td>\n",
              "      <td>20124.40</td>\n",
              "    </tr>\n",
              "    <tr>\n",
              "      <th>4</th>\n",
              "      <td>201801</td>\n",
              "      <td>12983.80</td>\n",
              "    </tr>\n",
              "  </tbody>\n",
              "</table>\n",
              "</div>"
            ],
            "text/plain": [
              "  InvoiceYearMonth   Revenue\n",
              "0           201709   7845.33\n",
              "1           201710  16267.85\n",
              "2           201711  13109.06\n",
              "3           201712  20124.40\n",
              "4           201801  12983.80"
            ]
          },
          "metadata": {
            "tags": []
          },
          "execution_count": 58
        }
      ]
    },
    {
      "cell_type": "code",
      "metadata": {
        "id": "TV70CWb_1hOi",
        "colab_type": "code",
        "colab": {
          "base_uri": "https://localhost:8080/",
          "height": 309
        },
        "outputId": "b101c855-abf9-425c-adb3-fbc58d342c63"
      },
      "source": [
        "fig, (ax1, ax2) = plt.subplots(2)\n",
        "ax1.plot(tx_revenue['InvoiceYearMonth'].astype(str),tx_revenue['Revenue'], color=\"blue\")\n",
        "ax2.plot(tx_revenue_A['InvoiceYearMonth'].astype(str),tx_revenue_A['Revenue'], color=\"orange\")\n",
        "ax1.legend(\"G\")\n",
        "ax2.legend(\"A\")\n",
        "ax1.set_title('Monthly Revenue of All Hair Products')\n",
        "ax2.set_title('Monthly Revenue of Brand A Hair Products')\n",
        "ax1.tick_params(axis ='x', rotation =90)\n",
        "ax2.tick_params(axis ='x', rotation =90)\n",
        "plt.subplots_adjust(hspace = 1)\n",
        "#ax2.set_xlabel('Unit Price (TRY)')"
      ],
      "execution_count": 55,
      "outputs": [
        {
          "output_type": "display_data",
          "data": {
            "image/png": "[encoded data removed]",
            "text/plain": [
              "<Figure size 432x288 with 2 Axes>"
            ]
          },
          "metadata": {
            "tags": []
          }
        }
      ]
    },
    {
      "cell_type": "markdown",
      "metadata": {
        "id": "hpimg0CXA39B",
        "colab_type": "text"
      },
      "source": [
        "### Monthly Revenue Growth Rate\n",
        "\n",
        "Let's calculate the grow rate of the monthly revenue for hair products sold in Gratis.\n",
        "Monthly growth % oscillates around a value slightly above 0 and seems stable. Notice that the amplitude of the oscillations are larger for Brand A when compared to rest, due to small sample size."
      ]
    },
    {
      "cell_type": "code",
      "metadata": {
        "id": "PShEDAVZChvN",
        "colab_type": "code",
        "colab": {
          "base_uri": "https://localhost:8080/",
          "height": 204
        },
        "outputId": "8f163850-30b3-4c72-b569-9921eb2ed2f8"
      },
      "source": [
        "#using pct_change() function to see monthly percentage change\n",
        "tx_revenue['MonthlyGrowth'] = tx_revenue['Revenue'].pct_change()\n",
        "\n",
        "#showing first 5 rows\n",
        "tx_revenue.head()"
      ],
      "execution_count": 59,
      "outputs": [
        {
          "output_type": "execute_result",
          "data": {
            "text/html": [
              "<div>\n",
              "<style scoped>\n",
              "    .dataframe tbody tr th:only-of-type {\n",
              "        vertical-align: middle;\n",
              "    }\n",
              "\n",
              "    .dataframe tbody tr th {\n",
              "        vertical-align: top;\n",
              "    }\n",
              "\n",
              "    .dataframe thead th {\n",
              "        text-align: right;\n",
              "    }\n",
              "</style>\n",
              "<table border=\"1\" class=\"dataframe\">\n",
              "  <thead>\n",
              "    <tr style=\"text-align: right;\">\n",
              "      <th></th>\n",
              "      <th>InvoiceYearMonth</th>\n",
              "      <th>Revenue</th>\n",
              "      <th>MonthlyGrowth</th>\n",
              "    </tr>\n",
              "  </thead>\n",
              "  <tbody>\n",
              "    <tr>\n",
              "      <th>0</th>\n",
              "      <td>201709</td>\n",
              "      <td>271441.300000</td>\n",
              "      <td>NaN</td>\n",
              "    </tr>\n",
              "    <tr>\n",
              "      <th>1</th>\n",
              "      <td>201710</td>\n",
              "      <td>629475.640000</td>\n",
              "      <td>1.319012</td>\n",
              "    </tr>\n",
              "    <tr>\n",
              "      <th>2</th>\n",
              "      <td>201711</td>\n",
              "      <td>526596.390000</td>\n",
              "      <td>-0.163436</td>\n",
              "    </tr>\n",
              "    <tr>\n",
              "      <th>3</th>\n",
              "      <td>201712</td>\n",
              "      <td>766644.920001</td>\n",
              "      <td>0.455849</td>\n",
              "    </tr>\n",
              "    <tr>\n",
              "      <th>4</th>\n",
              "      <td>201801</td>\n",
              "      <td>520568.950000</td>\n",
              "      <td>-0.320978</td>\n",
              "    </tr>\n",
              "  </tbody>\n",
              "</table>\n",
              "</div>"
            ],
            "text/plain": [
              "  InvoiceYearMonth        Revenue  MonthlyGrowth\n",
              "0           201709  271441.300000            NaN\n",
              "1           201710  629475.640000       1.319012\n",
              "2           201711  526596.390000      -0.163436\n",
              "3           201712  766644.920001       0.455849\n",
              "4           201801  520568.950000      -0.320978"
            ]
          },
          "metadata": {
            "tags": []
          },
          "execution_count": 59
        }
      ]
    },
    {
      "cell_type": "markdown",
      "metadata": {
        "id": "Gk87WmuZC4Uf",
        "colab_type": "text"
      },
      "source": [
        "...and for Brand A."
      ]
    },
    {
      "cell_type": "code",
      "metadata": {
        "id": "FemowdF3C68Y",
        "colab_type": "code",
        "colab": {
          "base_uri": "https://localhost:8080/",
          "height": 204
        },
        "outputId": "d90453fd-144b-46bd-bdd5-65f70fba13d3"
      },
      "source": [
        "#using pct_change() function to see monthly percentage change\n",
        "tx_revenue_A['MonthlyGrowth'] = tx_revenue_A['Revenue'].pct_change()\n",
        "\n",
        "#showing first 5 rows\n",
        "tx_revenue.head()"
      ],
      "execution_count": 60,
      "outputs": [
        {
          "output_type": "execute_result",
          "data": {
            "text/html": [
              "<div>\n",
              "<style scoped>\n",
              "    .dataframe tbody tr th:only-of-type {\n",
              "        vertical-align: middle;\n",
              "    }\n",
              "\n",
              "    .dataframe tbody tr th {\n",
              "        vertical-align: top;\n",
              "    }\n",
              "\n",
              "    .dataframe thead th {\n",
              "        text-align: right;\n",
              "    }\n",
              "</style>\n",
              "<table border=\"1\" class=\"dataframe\">\n",
              "  <thead>\n",
              "    <tr style=\"text-align: right;\">\n",
              "      <th></th>\n",
              "      <th>InvoiceYearMonth</th>\n",
              "      <th>Revenue</th>\n",
              "      <th>MonthlyGrowth</th>\n",
              "    </tr>\n",
              "  </thead>\n",
              "  <tbody>\n",
              "    <tr>\n",
              "      <th>0</th>\n",
              "      <td>201709</td>\n",
              "      <td>271441.300000</td>\n",
              "      <td>NaN</td>\n",
              "    </tr>\n",
              "    <tr>\n",
              "      <th>1</th>\n",
              "      <td>201710</td>\n",
              "      <td>629475.640000</td>\n",
              "      <td>1.319012</td>\n",
              "    </tr>\n",
              "    <tr>\n",
              "      <th>2</th>\n",
              "      <td>201711</td>\n",
              "      <td>526596.390000</td>\n",
              "      <td>-0.163436</td>\n",
              "    </tr>\n",
              "    <tr>\n",
              "      <th>3</th>\n",
              "      <td>201712</td>\n",
              "      <td>766644.920001</td>\n",
              "      <td>0.455849</td>\n",
              "    </tr>\n",
              "    <tr>\n",
              "      <th>4</th>\n",
              "      <td>201801</td>\n",
              "      <td>520568.950000</td>\n",
              "      <td>-0.320978</td>\n",
              "    </tr>\n",
              "  </tbody>\n",
              "</table>\n",
              "</div>"
            ],
            "text/plain": [
              "  InvoiceYearMonth        Revenue  MonthlyGrowth\n",
              "0           201709  271441.300000            NaN\n",
              "1           201710  629475.640000       1.319012\n",
              "2           201711  526596.390000      -0.163436\n",
              "3           201712  766644.920001       0.455849\n",
              "4           201801  520568.950000      -0.320978"
            ]
          },
          "metadata": {
            "tags": []
          },
          "execution_count": 60
        }
      ]
    },
    {
      "cell_type": "code",
      "metadata": {
        "id": "ZM-6sI0sNus0",
        "colab_type": "code",
        "colab": {
          "base_uri": "https://localhost:8080/",
          "height": 309
        },
        "outputId": "d99a726b-1fbe-4d8e-8018-e57b81bea79e"
      },
      "source": [
        "import numpy as np\n",
        "fig, (ax1, ax2) = plt.subplots(2)\n",
        "\n",
        "#plot of Gratis\n",
        "ax1.plot(tx_revenue['InvoiceYearMonth'],tx_revenue['MonthlyGrowth'], color=\"blue\")\n",
        "'''# add trendline\n",
        "z = np.polyfit(tx_revenue['InvoiceYearMonth'].astype(int), tx_revenue['MonthlyGrowth'], 1)\n",
        "p = np.poly1d(z)\n",
        "ax1.plot(tx_revenue['InvoiceYearMonth'],p(tx_revenue['InvoiceYearMonth'].astype(float)).astype(str),\"b--\")\n",
        "fig.show()'''\n",
        "\n",
        "#plot for Brand A\n",
        "ax2.plot(tx_revenue_A['InvoiceYearMonth'],tx_revenue_A['MonthlyGrowth'], color=\"orange\")\n",
        "\n",
        "\n",
        "ax1.set_title('Monthly Growth Rate of All Hair Products')\n",
        "ax2.set_title('Monthly Growth Rate of Brand A Hair Products')\n",
        "ax1.tick_params(axis ='x', rotation =90)\n",
        "ax2.tick_params(axis ='x', rotation =90)\n",
        "plt.subplots_adjust(hspace = 1)\n",
        "#ax2.set_xlabel('Unit Price (TRY)')"
      ],
      "execution_count": 129,
      "outputs": [
        {
          "output_type": "display_data",
          "data": {
            "image/png": "[encoded data removed]",
            "text/plain": [
              "<Figure size 432x288 with 2 Axes>"
            ]
          },
          "metadata": {
            "tags": []
          }
        }
      ]
    },
    {
      "cell_type": "markdown",
      "metadata": {
        "id": "cmnkNOJ8gjQ3",
        "colab_type": "text"
      },
      "source": [
        ""
      ]
    },
    {
      "cell_type": "markdown",
      "metadata": {
        "id": "bZYJIOAw21vN",
        "colab_type": "text"
      },
      "source": [
        "## References\n",
        "\n",
        "1. [Know Your Metrics](https://towardsdatascience.com/data-driven-growth-with-python-part-1-know-your-metrics-812781e66a5b)\n",
        "2. [Find Your Best Customers with Customer Segmentation in Python](https://towardsdatascience.com/find-your-best-customers-with-customer-segmentation-in-python-61d602f9eee6)"
      ]
    }
  ]
}