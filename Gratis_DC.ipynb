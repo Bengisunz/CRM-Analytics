{
  "nbformat": 4,
  "nbformat_minor": 0,
  "metadata": {
    "colab": {
      "name": "Gratis_DC.ipynb",
      "version": "0.3.2",
      "provenance": [],
      "collapsed_sections": [],
      "toc_visible": true,
      "include_colab_link": true
    },
    "kernelspec": {
      "name": "python3",
      "display_name": "Python 3"
    }
  },
  "cells": [
    {
      "cell_type": "markdown",
      "metadata": {
        "id": "view-in-github",
        "colab_type": "text"
      },
      "source": [
        "<a href=\"https://colab.research.google.com/github/duyqu-chan/CRM-Analytics/blob/master/Gratis_DC.ipynb\" target=\"_parent\"><img src=\"https://colab.research.google.com/assets/colab-badge.svg\" alt=\"Open In Colab\"/></a>"
      ]
    },
    {
      "cell_type": "markdown",
      "metadata": {
        "id": "Tpmb-oT5j0rP",
        "colab_type": "text"
      },
      "source": [
        "# CRM Analytics: Gratis Case Study\n",
        "\n",
        "  Gratis sell products in various categories. The representative data that  contains the shopping details made from *Hair* category. The aim of this project is to analyze the derived representative data and prepare new campaign proposals and campaign ideas to the marketing department of A brand.\n",
        "\n",
        "  Expectation of brand A:\n",
        "+ To get insight about their own business processes.\n",
        "+ To gain new customers, to retain the existing customers and churn the possibility of losing customers to see the strategies through the phenomenon.\n"
      ]
    },
    {
      "cell_type": "markdown",
      "metadata": {
        "id": "wnxV1JFI3OkF",
        "colab_type": "text"
      },
      "source": [
        "## Dataset Exploration\n",
        "\n",
        "Mount Google drive to upload the data."
      ]
    },
    {
      "cell_type": "code",
      "metadata": {
        "id": "RPvoQlf_cJei",
        "colab_type": "code",
        "colab": {
          "base_uri": "https://localhost:8080/",
          "height": 54
        },
        "outputId": "ec600c1f-d1bc-4ca3-d2b7-2e216962281b"
      },
      "source": [
        "# Run this cell to mount your Google Drive.\n",
        "from google.colab import drive\n",
        "drive.mount('/content/drive')"
      ],
      "execution_count": 90,
      "outputs": [
        {
          "output_type": "stream",
          "text": [
            "Drive already mounted at /content/drive; to attempt to forcibly remount, call drive.mount(\"/content/drive\", force_remount=True).\n"
          ],
          "name": "stdout"
        }
      ]
    },
    {
      "cell_type": "markdown",
      "metadata": {
        "id": "Poj0XwZFrbga",
        "colab_type": "text"
      },
      "source": [
        "Let's start by reading the data and observe values."
      ]
    },
    {
      "cell_type": "code",
      "metadata": {
        "id": "479CvaY8q8jt",
        "colab_type": "code",
        "colab": {
          "base_uri": "https://localhost:8080/",
          "height": 224
        },
        "outputId": "1a8ff441-cbc5-485a-ae04-4c2624cea9ec"
      },
      "source": [
        "import pandas as pd\n",
        "df = pd.read_csv(\"/content/drive/My Drive/Gratis/RETAIL_TRX_DATA.csv\")\n",
        "df.head()"
      ],
      "execution_count": 91,
      "outputs": [
        {
          "output_type": "execute_result",
          "data": {
            "text/html": [
              "<div>\n",
              "<style scoped>\n",
              "    .dataframe tbody tr th:only-of-type {\n",
              "        vertical-align: middle;\n",
              "    }\n",
              "\n",
              "    .dataframe tbody tr th {\n",
              "        vertical-align: top;\n",
              "    }\n",
              "\n",
              "    .dataframe thead th {\n",
              "        text-align: right;\n",
              "    }\n",
              "</style>\n",
              "<table border=\"1\" class=\"dataframe\">\n",
              "  <thead>\n",
              "    <tr style=\"text-align: right;\">\n",
              "      <th></th>\n",
              "      <th>CUST_ID</th>\n",
              "      <th>RTL_TRANS_ID</th>\n",
              "      <th>TRX_DATE</th>\n",
              "      <th>ITEM_QUANTITY</th>\n",
              "      <th>ITEM_UNIT_PRICE</th>\n",
              "      <th>ITEM_ID</th>\n",
              "      <th>BRAND_NAME</th>\n",
              "      <th>FIRST_TRANS_DATE</th>\n",
              "      <th>LAST_TRANS_DATE</th>\n",
              "    </tr>\n",
              "  </thead>\n",
              "  <tbody>\n",
              "    <tr>\n",
              "      <th>0</th>\n",
              "      <td>10000</td>\n",
              "      <td>01128000022018120817086098</td>\n",
              "      <td>08DEC2018:17:08:38.000000</td>\n",
              "      <td>1.0</td>\n",
              "      <td>15.70</td>\n",
              "      <td>10140396</td>\n",
              "      <td>DIGER</td>\n",
              "      <td>28OCT2017:15:00:00</td>\n",
              "      <td>10AUG2019:15:00:00</td>\n",
              "    </tr>\n",
              "    <tr>\n",
              "      <th>1</th>\n",
              "      <td>1000000</td>\n",
              "      <td>01205000032019062317593178</td>\n",
              "      <td>23JUN2019:17:59:19.000000</td>\n",
              "      <td>1.0</td>\n",
              "      <td>14.95</td>\n",
              "      <td>10167618</td>\n",
              "      <td>DIGER</td>\n",
              "      <td>01OCT2017:15:00:00</td>\n",
              "      <td>08AUG2019:15:00:00</td>\n",
              "    </tr>\n",
              "    <tr>\n",
              "      <th>2</th>\n",
              "      <td>1000001</td>\n",
              "      <td>01042000032018101716332124</td>\n",
              "      <td>17OCT2018:16:33:12.000000</td>\n",
              "      <td>1.0</td>\n",
              "      <td>17.90</td>\n",
              "      <td>10063960</td>\n",
              "      <td>DIGER</td>\n",
              "      <td>21OCT2017:15:00:00</td>\n",
              "      <td>20JUL2019:15:00:00</td>\n",
              "    </tr>\n",
              "    <tr>\n",
              "      <th>3</th>\n",
              "      <td>1000004</td>\n",
              "      <td>01133000012018042115556158</td>\n",
              "      <td>21APR2018:15:55:39.000000</td>\n",
              "      <td>3.0</td>\n",
              "      <td>6.90</td>\n",
              "      <td>10013901</td>\n",
              "      <td>DIGER</td>\n",
              "      <td>07OCT2017:15:00:00</td>\n",
              "      <td>27AUG2019:15:00:00</td>\n",
              "    </tr>\n",
              "    <tr>\n",
              "      <th>4</th>\n",
              "      <td>1000004</td>\n",
              "      <td>01133000022017110614467148</td>\n",
              "      <td>06NOV2017:14:46:44.000000</td>\n",
              "      <td>1.0</td>\n",
              "      <td>24.90</td>\n",
              "      <td>12000154</td>\n",
              "      <td>DIGER</td>\n",
              "      <td>07OCT2017:15:00:00</td>\n",
              "      <td>27AUG2019:15:00:00</td>\n",
              "    </tr>\n",
              "  </tbody>\n",
              "</table>\n",
              "</div>"
            ],
            "text/plain": [
              "   CUST_ID                RTL_TRANS_ID  ...    FIRST_TRANS_DATE     LAST_TRANS_DATE\n",
              "0    10000  01128000022018120817086098  ...  28OCT2017:15:00:00  10AUG2019:15:00:00\n",
              "1  1000000  01205000032019062317593178  ...  01OCT2017:15:00:00  08AUG2019:15:00:00\n",
              "2  1000001  01042000032018101716332124  ...  21OCT2017:15:00:00  20JUL2019:15:00:00\n",
              "3  1000004  01133000012018042115556158  ...  07OCT2017:15:00:00  27AUG2019:15:00:00\n",
              "4  1000004  01133000022017110614467148  ...  07OCT2017:15:00:00  27AUG2019:15:00:00\n",
              "\n",
              "[5 rows x 9 columns]"
            ]
          },
          "metadata": {
            "tags": []
          },
          "execution_count": 91
        }
      ]
    },
    {
      "cell_type": "markdown",
      "metadata": {
        "id": "JCbHcT_hr0GB",
        "colab_type": "text"
      },
      "source": [
        "We have 1731641 instances with 9 features in the dataset. The description of the columns are:\n",
        "Data Description:\n",
        "1. **CUST_ID:** Represents the unique customer number assigned to each customer.\n",
        "2. **RTL_TRANS_ID:** Represents the transaction number assigned to each transaction.\n",
        "3. **TRX_DATE:** Provides the date of the transaction.\n",
        "4. **ITEM_QUANTITY:** It gives the quantity information of the related product purchased.\n",
        "5. **ITEM_UNIT_PRICE:** Represents the price of the purchased product.\n",
        "6. **ITEM_ID:** The product id representing the product.\n",
        "7. **BRAND_NAME:** The brand name of the purchased product. (A brand and Other)\n",
        "8. **FIRST_TRANS_DATE:** Gives the first shopping date in Gratis.\n",
        "9. **LAST_TRANS_DATE:** Returns the last shopping date in Gratis.\n",
        "\n",
        "\n",
        "** TRX_DATE gives the sales date of the related product. FIRST_TRANS_DATE / LAST_TRANS_DATE The first and last exchange in Gratis."
      ]
    },
    {
      "cell_type": "code",
      "metadata": {
        "id": "hm8jBDGnrtcV",
        "colab_type": "code",
        "colab": {
          "base_uri": "https://localhost:8080/",
          "height": 34
        },
        "outputId": "274aa5f8-cbf9-4373-81ac-cc4ce1f43265"
      },
      "source": [
        "df.shape"
      ],
      "execution_count": 92,
      "outputs": [
        {
          "output_type": "execute_result",
          "data": {
            "text/plain": [
              "(1731641, 9)"
            ]
          },
          "metadata": {
            "tags": []
          },
          "execution_count": 92
        }
      ]
    },
    {
      "cell_type": "markdown",
      "metadata": {
        "id": "h0D009yRrkiJ",
        "colab_type": "text"
      },
      "source": [
        "There are no duplicates, all rows are unique in the dataset."
      ]
    },
    {
      "cell_type": "code",
      "metadata": {
        "id": "dESE_eSOrpjw",
        "colab_type": "code",
        "colab": {
          "base_uri": "https://localhost:8080/",
          "height": 34
        },
        "outputId": "51208257-5599-491d-d707-f3855b1d69fe"
      },
      "source": [
        "df.duplicated().any()"
      ],
      "execution_count": 93,
      "outputs": [
        {
          "output_type": "execute_result",
          "data": {
            "text/plain": [
              "False"
            ]
          },
          "metadata": {
            "tags": []
          },
          "execution_count": 93
        }
      ]
    },
    {
      "cell_type": "markdown",
      "metadata": {
        "id": "_ZgqH_gK3J7G",
        "colab_type": "text"
      },
      "source": [
        "When we checked the datatypes we saw that date related columns are encoded in the wrong format and converted them to date-time objects."
      ]
    },
    {
      "cell_type": "code",
      "metadata": {
        "id": "ckI-gBoi3Ktw",
        "colab_type": "code",
        "colab": {
          "base_uri": "https://localhost:8080/",
          "height": 187
        },
        "outputId": "92e6436a-ba6f-4578-8f27-783f3e8a5e37"
      },
      "source": [
        "df.dtypes"
      ],
      "execution_count": 94,
      "outputs": [
        {
          "output_type": "execute_result",
          "data": {
            "text/plain": [
              "CUST_ID               int64\n",
              "RTL_TRANS_ID         object\n",
              "TRX_DATE             object\n",
              "ITEM_QUANTITY       float64\n",
              "ITEM_UNIT_PRICE     float64\n",
              "ITEM_ID               int64\n",
              "BRAND_NAME           object\n",
              "FIRST_TRANS_DATE     object\n",
              "LAST_TRANS_DATE      object\n",
              "dtype: object"
            ]
          },
          "metadata": {
            "tags": []
          },
          "execution_count": 94
        }
      ]
    },
    {
      "cell_type": "code",
      "metadata": {
        "id": "YcmrjuboQROj",
        "colab_type": "code",
        "colab": {
          "base_uri": "https://localhost:8080/",
          "height": 394
        },
        "outputId": "16e6e04a-e55b-4d8d-83b5-c811892b0a4c"
      },
      "source": [
        "df['TRX_DATE'] = pd.to_datetime(df['TRX_DATE'], format='%d%b%Y:%H:%M:%S.%f')\n",
        "df['FIRST_TRANS_DATE'] = pd.to_datetime(df['FIRST_TRANS_DATE'], format='%d%b%Y:%H:%M:%S')\n",
        "df['LAST_TRANS_DATE'] = pd.to_datetime(df['LAST_TRANS_DATE'], format='%d%b%Y:%H:%M:%S')\n",
        "df.head()               "
      ],
      "execution_count": 95,
      "outputs": [
        {
          "output_type": "execute_result",
          "data": {
            "text/html": [
              "<div>\n",
              "<style scoped>\n",
              "    .dataframe tbody tr th:only-of-type {\n",
              "        vertical-align: middle;\n",
              "    }\n",
              "\n",
              "    .dataframe tbody tr th {\n",
              "        vertical-align: top;\n",
              "    }\n",
              "\n",
              "    .dataframe thead th {\n",
              "        text-align: right;\n",
              "    }\n",
              "</style>\n",
              "<table border=\"1\" class=\"dataframe\">\n",
              "  <thead>\n",
              "    <tr style=\"text-align: right;\">\n",
              "      <th></th>\n",
              "      <th>CUST_ID</th>\n",
              "      <th>RTL_TRANS_ID</th>\n",
              "      <th>TRX_DATE</th>\n",
              "      <th>ITEM_QUANTITY</th>\n",
              "      <th>ITEM_UNIT_PRICE</th>\n",
              "      <th>ITEM_ID</th>\n",
              "      <th>BRAND_NAME</th>\n",
              "      <th>FIRST_TRANS_DATE</th>\n",
              "      <th>LAST_TRANS_DATE</th>\n",
              "    </tr>\n",
              "  </thead>\n",
              "  <tbody>\n",
              "    <tr>\n",
              "      <th>0</th>\n",
              "      <td>10000</td>\n",
              "      <td>01128000022018120817086098</td>\n",
              "      <td>2018-12-08 17:08:38</td>\n",
              "      <td>1.0</td>\n",
              "      <td>15.70</td>\n",
              "      <td>10140396</td>\n",
              "      <td>DIGER</td>\n",
              "      <td>2017-10-28 15:00:00</td>\n",
              "      <td>2019-08-10 15:00:00</td>\n",
              "    </tr>\n",
              "    <tr>\n",
              "      <th>1</th>\n",
              "      <td>1000000</td>\n",
              "      <td>01205000032019062317593178</td>\n",
              "      <td>2019-06-23 17:59:19</td>\n",
              "      <td>1.0</td>\n",
              "      <td>14.95</td>\n",
              "      <td>10167618</td>\n",
              "      <td>DIGER</td>\n",
              "      <td>2017-10-01 15:00:00</td>\n",
              "      <td>2019-08-08 15:00:00</td>\n",
              "    </tr>\n",
              "    <tr>\n",
              "      <th>2</th>\n",
              "      <td>1000001</td>\n",
              "      <td>01042000032018101716332124</td>\n",
              "      <td>2018-10-17 16:33:12</td>\n",
              "      <td>1.0</td>\n",
              "      <td>17.90</td>\n",
              "      <td>10063960</td>\n",
              "      <td>DIGER</td>\n",
              "      <td>2017-10-21 15:00:00</td>\n",
              "      <td>2019-07-20 15:00:00</td>\n",
              "    </tr>\n",
              "    <tr>\n",
              "      <th>3</th>\n",
              "      <td>1000004</td>\n",
              "      <td>01133000012018042115556158</td>\n",
              "      <td>2018-04-21 15:55:39</td>\n",
              "      <td>3.0</td>\n",
              "      <td>6.90</td>\n",
              "      <td>10013901</td>\n",
              "      <td>DIGER</td>\n",
              "      <td>2017-10-07 15:00:00</td>\n",
              "      <td>2019-08-27 15:00:00</td>\n",
              "    </tr>\n",
              "    <tr>\n",
              "      <th>4</th>\n",
              "      <td>1000004</td>\n",
              "      <td>01133000022017110614467148</td>\n",
              "      <td>2017-11-06 14:46:44</td>\n",
              "      <td>1.0</td>\n",
              "      <td>24.90</td>\n",
              "      <td>12000154</td>\n",
              "      <td>DIGER</td>\n",
              "      <td>2017-10-07 15:00:00</td>\n",
              "      <td>2019-08-27 15:00:00</td>\n",
              "    </tr>\n",
              "  </tbody>\n",
              "</table>\n",
              "</div>"
            ],
            "text/plain": [
              "   CUST_ID                RTL_TRANS_ID  ...    FIRST_TRANS_DATE     LAST_TRANS_DATE\n",
              "0    10000  01128000022018120817086098  ... 2017-10-28 15:00:00 2019-08-10 15:00:00\n",
              "1  1000000  01205000032019062317593178  ... 2017-10-01 15:00:00 2019-08-08 15:00:00\n",
              "2  1000001  01042000032018101716332124  ... 2017-10-21 15:00:00 2019-07-20 15:00:00\n",
              "3  1000004  01133000012018042115556158  ... 2017-10-07 15:00:00 2019-08-27 15:00:00\n",
              "4  1000004  01133000022017110614467148  ... 2017-10-07 15:00:00 2019-08-27 15:00:00\n",
              "\n",
              "[5 rows x 9 columns]"
            ]
          },
          "metadata": {
            "tags": []
          },
          "execution_count": 95
        }
      ]
    },
    {
      "cell_type": "markdown",
      "metadata": {
        "id": "lDZEC2qy9Hq4",
        "colab_type": "text"
      },
      "source": [
        "Let's get the dataframe info as follows:"
      ]
    },
    {
      "cell_type": "code",
      "metadata": {
        "id": "s5MAAd2BtiAB",
        "colab_type": "code",
        "colab": {
          "base_uri": "https://localhost:8080/",
          "height": 255
        },
        "outputId": "5bf3e28f-f4d0-4c39-9104-983ce6873001"
      },
      "source": [
        "df.info()"
      ],
      "execution_count": 96,
      "outputs": [
        {
          "output_type": "stream",
          "text": [
            "<class 'pandas.core.frame.DataFrame'>\n",
            "RangeIndex: 1731641 entries, 0 to 1731640\n",
            "Data columns (total 9 columns):\n",
            "CUST_ID             int64\n",
            "RTL_TRANS_ID        object\n",
            "TRX_DATE            datetime64[ns]\n",
            "ITEM_QUANTITY       float64\n",
            "ITEM_UNIT_PRICE     float64\n",
            "ITEM_ID             int64\n",
            "BRAND_NAME          object\n",
            "FIRST_TRANS_DATE    datetime64[ns]\n",
            "LAST_TRANS_DATE     datetime64[ns]\n",
            "dtypes: datetime64[ns](3), float64(2), int64(2), object(2)\n",
            "memory usage: 118.9+ MB\n"
          ],
          "name": "stdout"
        }
      ]
    },
    {
      "cell_type": "markdown",
      "metadata": {
        "id": "uFcpiy_K4w6B",
        "colab_type": "text"
      },
      "source": [
        "Miracolusly there are no missing variables in any of the columns."
      ]
    },
    {
      "cell_type": "code",
      "metadata": {
        "id": "MYEWcvJq4rz8",
        "colab_type": "code",
        "colab": {
          "base_uri": "https://localhost:8080/",
          "height": 187
        },
        "outputId": "ba9fbb5e-7972-4d76-9647-726aad1d60ce"
      },
      "source": [
        "df.isnull().any()"
      ],
      "execution_count": 97,
      "outputs": [
        {
          "output_type": "execute_result",
          "data": {
            "text/plain": [
              "CUST_ID             False\n",
              "RTL_TRANS_ID        False\n",
              "TRX_DATE            False\n",
              "ITEM_QUANTITY       False\n",
              "ITEM_UNIT_PRICE     False\n",
              "ITEM_ID             False\n",
              "BRAND_NAME          False\n",
              "FIRST_TRANS_DATE    False\n",
              "LAST_TRANS_DATE     False\n",
              "dtype: bool"
            ]
          },
          "metadata": {
            "tags": []
          },
          "execution_count": 97
        }
      ]
    },
    {
      "cell_type": "markdown",
      "metadata": {
        "id": "qGtwFGJemcIm",
        "colab_type": "text"
      },
      "source": [
        "There is no non-negative price, as expected."
      ]
    },
    {
      "cell_type": "code",
      "metadata": {
        "id": "BlkxuEIimij5",
        "colab_type": "code",
        "colab": {
          "base_uri": "https://localhost:8080/",
          "height": 34
        },
        "outputId": "cddd9eab-bb16-4b5b-dc14-4984449e07cf"
      },
      "source": [
        "len(df[df.ITEM_UNIT_PRICE < 0])"
      ],
      "execution_count": 98,
      "outputs": [
        {
          "output_type": "execute_result",
          "data": {
            "text/plain": [
              "0"
            ]
          },
          "metadata": {
            "tags": []
          },
          "execution_count": 98
        }
      ]
    },
    {
      "cell_type": "markdown",
      "metadata": {
        "id": "vny477Iencq8",
        "colab_type": "text"
      },
      "source": [
        "There is no non-negative or zero item quantity, as expected."
      ]
    },
    {
      "cell_type": "code",
      "metadata": {
        "id": "57r3_ixTnJ-W",
        "colab_type": "code",
        "colab": {
          "base_uri": "https://localhost:8080/",
          "height": 34
        },
        "outputId": "353e98a0-9f02-46e7-da16-f6a08545cfa3"
      },
      "source": [
        "len(df[df.ITEM_QUANTITY <= 0])"
      ],
      "execution_count": 99,
      "outputs": [
        {
          "output_type": "execute_result",
          "data": {
            "text/plain": [
              "0"
            ]
          },
          "metadata": {
            "tags": []
          },
          "execution_count": 99
        }
      ]
    },
    {
      "cell_type": "markdown",
      "metadata": {
        "id": "8QgVtcuWb8KN",
        "colab_type": "text"
      },
      "source": [
        "## Insights and Visualization"
      ]
    },
    {
      "cell_type": "markdown",
      "metadata": {
        "id": "TXWcHSG8PtaZ",
        "colab_type": "text"
      },
      "source": [
        "An average customer buys one item in one transaction. Mean unit price is 1.38 TRY (std = 7.84 TRY)."
      ]
    },
    {
      "cell_type": "code",
      "metadata": {
        "id": "5A2vaaVGbt-B",
        "colab_type": "code",
        "colab": {
          "base_uri": "https://localhost:8080/",
          "height": 297
        },
        "outputId": "276d6452-9caa-4a4b-b4e4-7fc7a3c5366b"
      },
      "source": [
        "df.describe()"
      ],
      "execution_count": 100,
      "outputs": [
        {
          "output_type": "execute_result",
          "data": {
            "text/html": [
              "<div>\n",
              "<style scoped>\n",
              "    .dataframe tbody tr th:only-of-type {\n",
              "        vertical-align: middle;\n",
              "    }\n",
              "\n",
              "    .dataframe tbody tr th {\n",
              "        vertical-align: top;\n",
              "    }\n",
              "\n",
              "    .dataframe thead th {\n",
              "        text-align: right;\n",
              "    }\n",
              "</style>\n",
              "<table border=\"1\" class=\"dataframe\">\n",
              "  <thead>\n",
              "    <tr style=\"text-align: right;\">\n",
              "      <th></th>\n",
              "      <th>CUST_ID</th>\n",
              "      <th>ITEM_QUANTITY</th>\n",
              "      <th>ITEM_UNIT_PRICE</th>\n",
              "      <th>ITEM_ID</th>\n",
              "    </tr>\n",
              "  </thead>\n",
              "  <tbody>\n",
              "    <tr>\n",
              "      <th>count</th>\n",
              "      <td>1.731641e+06</td>\n",
              "      <td>1.731641e+06</td>\n",
              "      <td>1.731641e+06</td>\n",
              "      <td>1.731641e+06</td>\n",
              "    </tr>\n",
              "    <tr>\n",
              "      <th>mean</th>\n",
              "      <td>3.003829e+06</td>\n",
              "      <td>1.008438e+00</td>\n",
              "      <td>1.384603e+01</td>\n",
              "      <td>1.039865e+07</td>\n",
              "    </tr>\n",
              "    <tr>\n",
              "      <th>std</th>\n",
              "      <td>3.058808e+06</td>\n",
              "      <td>1.898518e-01</td>\n",
              "      <td>7.837371e+00</td>\n",
              "      <td>8.033981e+05</td>\n",
              "    </tr>\n",
              "    <tr>\n",
              "      <th>min</th>\n",
              "      <td>2.001000e+03</td>\n",
              "      <td>1.000000e+00</td>\n",
              "      <td>0.000000e+00</td>\n",
              "      <td>1.000005e+07</td>\n",
              "    </tr>\n",
              "    <tr>\n",
              "      <th>25%</th>\n",
              "      <td>8.481120e+05</td>\n",
              "      <td>1.000000e+00</td>\n",
              "      <td>8.900000e+00</td>\n",
              "      <td>1.001922e+07</td>\n",
              "    </tr>\n",
              "    <tr>\n",
              "      <th>50%</th>\n",
              "      <td>2.096239e+06</td>\n",
              "      <td>1.000000e+00</td>\n",
              "      <td>1.195000e+01</td>\n",
              "      <td>1.003571e+07</td>\n",
              "    </tr>\n",
              "    <tr>\n",
              "      <th>75%</th>\n",
              "      <td>4.408432e+06</td>\n",
              "      <td>1.000000e+00</td>\n",
              "      <td>1.690000e+01</td>\n",
              "      <td>1.011497e+07</td>\n",
              "    </tr>\n",
              "    <tr>\n",
              "      <th>max</th>\n",
              "      <td>1.805552e+07</td>\n",
              "      <td>6.000000e+01</td>\n",
              "      <td>8.995000e+01</td>\n",
              "      <td>1.700055e+07</td>\n",
              "    </tr>\n",
              "  </tbody>\n",
              "</table>\n",
              "</div>"
            ],
            "text/plain": [
              "            CUST_ID  ITEM_QUANTITY  ITEM_UNIT_PRICE       ITEM_ID\n",
              "count  1.731641e+06   1.731641e+06     1.731641e+06  1.731641e+06\n",
              "mean   3.003829e+06   1.008438e+00     1.384603e+01  1.039865e+07\n",
              "std    3.058808e+06   1.898518e-01     7.837371e+00  8.033981e+05\n",
              "min    2.001000e+03   1.000000e+00     0.000000e+00  1.000005e+07\n",
              "25%    8.481120e+05   1.000000e+00     8.900000e+00  1.001922e+07\n",
              "50%    2.096239e+06   1.000000e+00     1.195000e+01  1.003571e+07\n",
              "75%    4.408432e+06   1.000000e+00     1.690000e+01  1.011497e+07\n",
              "max    1.805552e+07   6.000000e+01     8.995000e+01  1.700055e+07"
            ]
          },
          "metadata": {
            "tags": []
          },
          "execution_count": 100
        }
      ]
    },
    {
      "cell_type": "markdown",
      "metadata": {
        "id": "bJ1A6Mf4cLMO",
        "colab_type": "text"
      },
      "source": [
        "Brand A has 36365 items with a mean unit price of 17.83 TRY (std = 4.61 TRY)."
      ]
    },
    {
      "cell_type": "code",
      "metadata": {
        "id": "vBT6UMwPb2ru",
        "colab_type": "code",
        "colab": {
          "base_uri": "https://localhost:8080/",
          "height": 297
        },
        "outputId": "9b2bb91b-801c-4827-ec0f-a53b03969616"
      },
      "source": [
        "df_A = df[df.BRAND_NAME == \"A\"]\n",
        "df_A.describe()"
      ],
      "execution_count": 101,
      "outputs": [
        {
          "output_type": "execute_result",
          "data": {
            "text/html": [
              "<div>\n",
              "<style scoped>\n",
              "    .dataframe tbody tr th:only-of-type {\n",
              "        vertical-align: middle;\n",
              "    }\n",
              "\n",
              "    .dataframe tbody tr th {\n",
              "        vertical-align: top;\n",
              "    }\n",
              "\n",
              "    .dataframe thead th {\n",
              "        text-align: right;\n",
              "    }\n",
              "</style>\n",
              "<table border=\"1\" class=\"dataframe\">\n",
              "  <thead>\n",
              "    <tr style=\"text-align: right;\">\n",
              "      <th></th>\n",
              "      <th>CUST_ID</th>\n",
              "      <th>ITEM_QUANTITY</th>\n",
              "      <th>ITEM_UNIT_PRICE</th>\n",
              "      <th>ITEM_ID</th>\n",
              "    </tr>\n",
              "  </thead>\n",
              "  <tbody>\n",
              "    <tr>\n",
              "      <th>count</th>\n",
              "      <td>3.636500e+04</td>\n",
              "      <td>36365.000000</td>\n",
              "      <td>36365.000000</td>\n",
              "      <td>3.636500e+04</td>\n",
              "    </tr>\n",
              "    <tr>\n",
              "      <th>mean</th>\n",
              "      <td>2.942126e+06</td>\n",
              "      <td>1.020074</td>\n",
              "      <td>17.834808</td>\n",
              "      <td>1.159250e+07</td>\n",
              "    </tr>\n",
              "    <tr>\n",
              "      <th>std</th>\n",
              "      <td>3.075487e+06</td>\n",
              "      <td>0.210895</td>\n",
              "      <td>4.605865</td>\n",
              "      <td>8.020331e+05</td>\n",
              "    </tr>\n",
              "    <tr>\n",
              "      <th>min</th>\n",
              "      <td>2.062000e+03</td>\n",
              "      <td>1.000000</td>\n",
              "      <td>6.900000</td>\n",
              "      <td>1.000481e+07</td>\n",
              "    </tr>\n",
              "    <tr>\n",
              "      <th>25%</th>\n",
              "      <td>8.257930e+05</td>\n",
              "      <td>1.000000</td>\n",
              "      <td>13.900000</td>\n",
              "      <td>1.200046e+07</td>\n",
              "    </tr>\n",
              "    <tr>\n",
              "      <th>50%</th>\n",
              "      <td>2.060515e+06</td>\n",
              "      <td>1.000000</td>\n",
              "      <td>18.500000</td>\n",
              "      <td>1.200047e+07</td>\n",
              "    </tr>\n",
              "    <tr>\n",
              "      <th>75%</th>\n",
              "      <td>4.124422e+06</td>\n",
              "      <td>1.000000</td>\n",
              "      <td>19.950000</td>\n",
              "      <td>1.200048e+07</td>\n",
              "    </tr>\n",
              "    <tr>\n",
              "      <th>max</th>\n",
              "      <td>1.803551e+07</td>\n",
              "      <td>9.000000</td>\n",
              "      <td>33.800000</td>\n",
              "      <td>1.200115e+07</td>\n",
              "    </tr>\n",
              "  </tbody>\n",
              "</table>\n",
              "</div>"
            ],
            "text/plain": [
              "            CUST_ID  ITEM_QUANTITY  ITEM_UNIT_PRICE       ITEM_ID\n",
              "count  3.636500e+04   36365.000000     36365.000000  3.636500e+04\n",
              "mean   2.942126e+06       1.020074        17.834808  1.159250e+07\n",
              "std    3.075487e+06       0.210895         4.605865  8.020331e+05\n",
              "min    2.062000e+03       1.000000         6.900000  1.000481e+07\n",
              "25%    8.257930e+05       1.000000        13.900000  1.200046e+07\n",
              "50%    2.060515e+06       1.000000        18.500000  1.200047e+07\n",
              "75%    4.124422e+06       1.000000        19.950000  1.200048e+07\n",
              "max    1.803551e+07       9.000000        33.800000  1.200115e+07"
            ]
          },
          "metadata": {
            "tags": []
          },
          "execution_count": 101
        }
      ]
    },
    {
      "cell_type": "code",
      "metadata": {
        "id": "unaD7-CfQ9dg",
        "colab_type": "code",
        "colab": {
          "base_uri": "https://localhost:8080/",
          "height": 85
        },
        "outputId": "75ec70be-ac94-4a09-87c1-1d670da242b7"
      },
      "source": [
        "df.columns"
      ],
      "execution_count": 102,
      "outputs": [
        {
          "output_type": "execute_result",
          "data": {
            "text/plain": [
              "Index(['CUST_ID', 'RTL_TRANS_ID', 'TRX_DATE', 'ITEM_QUANTITY',\n",
              "       'ITEM_UNIT_PRICE', 'ITEM_ID', 'BRAND_NAME', 'FIRST_TRANS_DATE',\n",
              "       'LAST_TRANS_DATE'],\n",
              "      dtype='object')"
            ]
          },
          "metadata": {
            "tags": []
          },
          "execution_count": 102
        }
      ]
    },
    {
      "cell_type": "markdown",
      "metadata": {
        "id": "CUiIf1ZjPKc3",
        "colab_type": "text"
      },
      "source": [
        "### Retail Transaction ID\n",
        "Brand A mekes the 2.1% of the over all brands. 97.7% of the buyers purchase one or several amounts of the same item during one transaction, remaining 2.3% buys different items in one transaction."
      ]
    },
    {
      "cell_type": "code",
      "metadata": {
        "id": "qnX0mYsub500",
        "colab_type": "code",
        "colab": {
          "base_uri": "https://localhost:8080/",
          "height": 34
        },
        "outputId": "b5ef2db0-ce0b-43bf-96ff-7f950791ada9"
      },
      "source": [
        "df[df.BRAND_NAME == \"A\"].shape[0]/len(df)*100"
      ],
      "execution_count": 103,
      "outputs": [
        {
          "output_type": "execute_result",
          "data": {
            "text/plain": [
              "2.1000311265441276"
            ]
          },
          "metadata": {
            "tags": []
          },
          "execution_count": 103
        }
      ]
    },
    {
      "cell_type": "code",
      "metadata": {
        "id": "b2GUiqKFybRI",
        "colab_type": "code",
        "colab": {
          "base_uri": "https://localhost:8080/",
          "height": 34
        },
        "outputId": "3c545e96-7f3a-4ff9-960c-174dba172d17"
      },
      "source": [
        "len(df.RTL_TRANS_ID.unique())/len(df)*100"
      ],
      "execution_count": 104,
      "outputs": [
        {
          "output_type": "execute_result",
          "data": {
            "text/plain": [
              "97.70512479203252"
            ]
          },
          "metadata": {
            "tags": []
          },
          "execution_count": 104
        }
      ]
    },
    {
      "cell_type": "markdown",
      "metadata": {
        "id": "QreZekgKRE78",
        "colab_type": "text"
      },
      "source": [
        "### Transaction Date\n",
        "\n",
        "The transaction dates provided in the dataset lies between September, 2019 and August 2019."
      ]
    },
    {
      "cell_type": "code",
      "metadata": {
        "id": "xWHwlduJZhAZ",
        "colab_type": "code",
        "colab": {
          "base_uri": "https://localhost:8080/",
          "height": 68
        },
        "outputId": "d22880c6-ea15-4b8d-8a2e-05738489719a"
      },
      "source": [
        "print(\"Earliest Transaction Date: \", df.TRX_DATE.min())\n",
        "print(\"Last Transaction Date: \", df.TRX_DATE.max())\n",
        "duration = df.TRX_DATE.max()-df.TRX_DATE.min()\n",
        "print(\"Duration (days): \",duration.days)"
      ],
      "execution_count": 105,
      "outputs": [
        {
          "output_type": "stream",
          "text": [
            "Earliest Transaction Date:  2017-09-06 10:12:05\n",
            "Last Transaction Date:  2019-08-29 15:00:00.408000\n",
            "Duration (days):  722\n"
          ],
          "name": "stdout"
        }
      ]
    },
    {
      "cell_type": "markdown",
      "metadata": {
        "id": "Fx8pXDNka9yM",
        "colab_type": "text"
      },
      "source": [
        "The transaction time span for brand A lies in the same time window."
      ]
    },
    {
      "cell_type": "code",
      "metadata": {
        "id": "q2af1K-7ameu",
        "colab_type": "code",
        "colab": {
          "base_uri": "https://localhost:8080/",
          "height": 68
        },
        "outputId": "c7a55b95-c1aa-4fc3-c1fa-b7e592939600"
      },
      "source": [
        "print(\"Earliest Transaction Date for Brand A: \", df[df.BRAND_NAME == \"A\"].TRX_DATE.min())\n",
        "print(\"Last Transaction Date for Brand A: \", df[df.BRAND_NAME == \"A\"].TRX_DATE.max())\n",
        "duration = df[df.BRAND_NAME == \"A\"].TRX_DATE.max()-df[df.BRAND_NAME == \"A\"].TRX_DATE.min()\n",
        "print(\"Duration for Brand A(days): \",duration.days)"
      ],
      "execution_count": 106,
      "outputs": [
        {
          "output_type": "stream",
          "text": [
            "Earliest Transaction Date for Brand A:  2017-09-07 15:45:20\n",
            "Last Transaction Date for Brand A:  2019-08-29 14:32:32\n",
            "Duration for Brand A(days):  720\n"
          ],
          "name": "stdout"
        }
      ]
    },
    {
      "cell_type": "code",
      "metadata": {
        "id": "4hG1QwYCkRuA",
        "colab_type": "code",
        "colab": {
          "base_uri": "https://localhost:8080/",
          "height": 34
        },
        "outputId": "e0ba9b90-ead7-40b9-a8b7-3275c56dd154"
      },
      "source": [
        "from datetime import date\n",
        "f_date = date(2014, 7, 2)\n",
        "l_date = date(2014, 7, 11)\n",
        "delta = l_date - f_date\n",
        "print(delta.days)"
      ],
      "execution_count": 107,
      "outputs": [
        {
          "output_type": "stream",
          "text": [
            "9\n"
          ],
          "name": "stdout"
        }
      ]
    },
    {
      "cell_type": "markdown",
      "metadata": {
        "id": "jnnq08v_UwSw",
        "colab_type": "text"
      },
      "source": [
        "### Item Quantity"
      ]
    },
    {
      "cell_type": "markdown",
      "metadata": {
        "id": "0URPK29rgJnR",
        "colab_type": "text"
      },
      "source": [
        "Since brand A makes only 2.1% of the overall brands, quantity of the other brand items highly dominates. When we look at to the puchases with 10 or lesser items, we see that brand A is localized around 1 wheras item quantity of other extend to 2."
      ]
    },
    {
      "cell_type": "code",
      "metadata": {
        "id": "Yst7BIo5ahzT",
        "colab_type": "code",
        "colab": {
          "base_uri": "https://localhost:8080/",
          "height": 281
        },
        "outputId": "4d3f0b4e-447c-4162-b250-43f246e036f0"
      },
      "source": [
        "import matplotlib.pyplot as plt\n",
        "%matplotlib inline\n",
        "\n",
        "x1 = df.loc[df.BRAND_NAME =='DIGER', 'ITEM_QUANTITY']\n",
        "x2 = df.loc[df.BRAND_NAME=='A', 'ITEM_QUANTITY']\n",
        "\n",
        "\n",
        "kwargs = dict(alpha=0.5, bins = 50)\n",
        "\n",
        "plt.hist(x1, **kwargs, color='b', label='Others')\n",
        "plt.hist(x2, **kwargs, color='darkorange', label='Brand A')\n",
        "\n",
        "plt.gca().set(title='Frequency Histogram of Item Quantity', ylabel='Frequency')\n",
        "plt.xlim(0,10)\n",
        "plt.legend();"
      ],
      "execution_count": 108,
      "outputs": [
        {
          "output_type": "display_data",
          "data": {
            "image/png": "[encoded data removed]",
            "text/plain": [
              "<Figure size 432x288 with 1 Axes>"
            ]
          },
          "metadata": {
            "tags": []
          }
        }
      ]
    },
    {
      "cell_type": "markdown",
      "metadata": {
        "id": "QrtV-EhXUvsv",
        "colab_type": "text"
      },
      "source": [
        "### Item Unit Price\n",
        "\n",
        "Unit price distribution of the items belonging to other brands are positively skewed with a median value of 1.19 TRY. However, average unit price of the items of brand A is 17.83 TRY (std =4.60). It is obvious that brand A's products are more expensive than the rest."
      ]
    },
    {
      "cell_type": "code",
      "metadata": {
        "id": "521a_o42XX7n",
        "colab_type": "code",
        "colab": {
          "base_uri": "https://localhost:8080/",
          "height": 170
        },
        "outputId": "d34f4323-c242-49c7-c5b6-2ef5fb4169f6"
      },
      "source": [
        "df[df.BRAND_NAME == \"DIGER\"][\"ITEM_UNIT_PRICE\"].describe()"
      ],
      "execution_count": 109,
      "outputs": [
        {
          "output_type": "execute_result",
          "data": {
            "text/plain": [
              "count    1.695276e+06\n",
              "mean     1.376047e+01\n",
              "std      7.870091e+00\n",
              "min      0.000000e+00\n",
              "25%      8.900000e+00\n",
              "50%      1.190000e+01\n",
              "75%      1.650000e+01\n",
              "max      8.995000e+01\n",
              "Name: ITEM_UNIT_PRICE, dtype: float64"
            ]
          },
          "metadata": {
            "tags": []
          },
          "execution_count": 109
        }
      ]
    },
    {
      "cell_type": "code",
      "metadata": {
        "id": "w2NDZhuTXmbA",
        "colab_type": "code",
        "colab": {
          "base_uri": "https://localhost:8080/",
          "height": 170
        },
        "outputId": "74d7d609-7422-4436-ebf3-47454cca2276"
      },
      "source": [
        "df[df.BRAND_NAME == \"A\"][\"ITEM_UNIT_PRICE\"].describe()"
      ],
      "execution_count": 110,
      "outputs": [
        {
          "output_type": "execute_result",
          "data": {
            "text/plain": [
              "count    36365.000000\n",
              "mean        17.834808\n",
              "std          4.605865\n",
              "min          6.900000\n",
              "25%         13.900000\n",
              "50%         18.500000\n",
              "75%         19.950000\n",
              "max         33.800000\n",
              "Name: ITEM_UNIT_PRICE, dtype: float64"
            ]
          },
          "metadata": {
            "tags": []
          },
          "execution_count": 110
        }
      ]
    },
    {
      "cell_type": "code",
      "metadata": {
        "id": "Dx1L5DLssDCs",
        "colab_type": "code",
        "colab": {
          "base_uri": "https://localhost:8080/",
          "height": 312
        },
        "outputId": "1a73bbeb-9b8a-4569-cd18-66a0b9a8db3c"
      },
      "source": [
        "#fig, ax = plt.subplots((2, 1),figsize=(10, 8))\n",
        "fig, (ax1, ax2) = plt.subplots(2)\n",
        "ax1.hist(df[df.BRAND_NAME == \"DIGER\"][\"ITEM_UNIT_PRICE\"],bins=30, color=\"blue\")#, alpha=0.5, ax=ax)\n",
        "ax2.hist(df[df.BRAND_NAME == \"A\"][\"ITEM_UNIT_PRICE\"], bins=30, color=\"orange\")#, alpha=0.5, ax=ax)\n",
        "ax1.legend(\"O\")\n",
        "ax2.legend(\"A\")\n",
        "ax1.set_title('Unit Price Distribution')\n",
        "ax2.set_xlabel('Unit Price (TRY)')"
      ],
      "execution_count": 111,
      "outputs": [
        {
          "output_type": "execute_result",
          "data": {
            "text/plain": [
              "Text(0.5, 0, 'Unit Price (TRY)')"
            ]
          },
          "metadata": {
            "tags": []
          },
          "execution_count": 111
        },
        {
          "output_type": "display_data",
          "data": {
            "image/png": "[encoded data removed]",
            "text/plain": [
              "<Figure size 432x288 with 2 Axes>"
            ]
          },
          "metadata": {
            "tags": []
          }
        }
      ]
    },
    {
      "cell_type": "markdown",
      "metadata": {
        "id": "foncmUrHW63c",
        "colab_type": "text"
      },
      "source": [
        "### Item ID\n",
        "\n",
        "There are 1851 different items in hair products. Distribution of the top 10 items in hair products sold in Gratis is as follows. Item with 10013125 ID has the highest frequency."
      ]
    },
    {
      "cell_type": "code",
      "metadata": {
        "id": "dafpWhJBYUgA",
        "colab_type": "code",
        "colab": {
          "base_uri": "https://localhost:8080/",
          "height": 34
        },
        "outputId": "baf1f325-7c2f-40a9-9fed-ab841b60db19"
      },
      "source": [
        "len(df.ITEM_ID.unique())"
      ],
      "execution_count": 112,
      "outputs": [
        {
          "output_type": "execute_result",
          "data": {
            "text/plain": [
              "1851"
            ]
          },
          "metadata": {
            "tags": []
          },
          "execution_count": 112
        }
      ]
    },
    {
      "cell_type": "code",
      "metadata": {
        "id": "gWZZsjp8W9b7",
        "colab_type": "code",
        "colab": {
          "base_uri": "https://localhost:8080/",
          "height": 339
        },
        "outputId": "720bcba5-0f38-4548-ed8c-a4f819d6314e"
      },
      "source": [
        "df.ITEM_ID.value_counts()[:10].plot(kind='bar', title = \"Top 10 Hair Products of Gratis\")"
      ],
      "execution_count": 113,
      "outputs": [
        {
          "output_type": "execute_result",
          "data": {
            "text/plain": [
              "<matplotlib.axes._subplots.AxesSubplot at 0x7fad31f2ce10>"
            ]
          },
          "metadata": {
            "tags": []
          },
          "execution_count": 113
        },
        {
          "output_type": "display_data",
          "data": {
            "image/png": "[encoded data removed]",
            "text/plain": [
              "<Figure size 432x288 with 1 Axes>"
            ]
          },
          "metadata": {
            "tags": []
          }
        }
      ]
    },
    {
      "cell_type": "markdown",
      "metadata": {
        "id": "ZXcg3BipYzXk",
        "colab_type": "text"
      },
      "source": [
        "Brand A has 36 different hair products sold in Gratis."
      ]
    },
    {
      "cell_type": "code",
      "metadata": {
        "id": "SB2mHgiYYuN8",
        "colab_type": "code",
        "colab": {
          "base_uri": "https://localhost:8080/",
          "height": 34
        },
        "outputId": "5c547c16-ebee-4bdd-8863-1869bfca13bb"
      },
      "source": [
        "len(df[df.BRAND_NAME == \"A\"].ITEM_ID.unique())"
      ],
      "execution_count": 114,
      "outputs": [
        {
          "output_type": "execute_result",
          "data": {
            "text/plain": [
              "36"
            ]
          },
          "metadata": {
            "tags": []
          },
          "execution_count": 114
        }
      ]
    },
    {
      "cell_type": "markdown",
      "metadata": {
        "id": "47UHtCudY_Bj",
        "colab_type": "text"
      },
      "source": [
        "Distribution of A's top 10 products are as follows. Unfortunately none of them is listed in the top 10 hair products sold in Gratis."
      ]
    },
    {
      "cell_type": "code",
      "metadata": {
        "id": "zMfBIRv_Xvs3",
        "colab_type": "code",
        "colab": {
          "base_uri": "https://localhost:8080/",
          "height": 339
        },
        "outputId": "1d2caf92-be04-4146-f9a0-ee85a665f30d"
      },
      "source": [
        "df[df.BRAND_NAME == \"A\"].ITEM_ID.value_counts()[:10].plot(kind='bar', color =\"orange\", title = \"Top 10 Hair Products of Brand A\")"
      ],
      "execution_count": 115,
      "outputs": [
        {
          "output_type": "execute_result",
          "data": {
            "text/plain": [
              "<matplotlib.axes._subplots.AxesSubplot at 0x7fad0c31f0b8>"
            ]
          },
          "metadata": {
            "tags": []
          },
          "execution_count": 115
        },
        {
          "output_type": "display_data",
          "data": {
            "image/png": "[encoded data removed]",
            "text/plain": [
              "<Figure size 432x288 with 1 Axes>"
            ]
          },
          "metadata": {
            "tags": []
          }
        }
      ]
    },
    {
      "cell_type": "markdown",
      "metadata": {
        "id": "qxpmqwXCU6S2",
        "colab_type": "text"
      },
      "source": [
        "### Brand Name\n",
        "\n",
        "Only 2.1% of the brands belongs to brand A."
      ]
    },
    {
      "cell_type": "code",
      "metadata": {
        "id": "tFKyy9ODgXc5",
        "colab_type": "code",
        "colab": {
          "base_uri": "https://localhost:8080/",
          "height": 68
        },
        "outputId": "6c703330-b41a-4ae4-86cf-bceeeacb0fbd"
      },
      "source": [
        "round(df.BRAND_NAME.value_counts()/len(df)*100,3)"
      ],
      "execution_count": 116,
      "outputs": [
        {
          "output_type": "execute_result",
          "data": {
            "text/plain": [
              "DIGER    97.9\n",
              "A         2.1\n",
              "Name: BRAND_NAME, dtype: float64"
            ]
          },
          "metadata": {
            "tags": []
          },
          "execution_count": 116
        }
      ]
    },
    {
      "cell_type": "code",
      "metadata": {
        "id": "nJrkWyQnsDJ6",
        "colab_type": "code",
        "colab": {
          "base_uri": "https://localhost:8080/",
          "height": 381
        },
        "outputId": "dd5fa5c6-673a-4c74-ec24-d8ac6bdcb64f"
      },
      "source": [
        "df.BRAND_NAME.value_counts().plot(kind='pie',figsize=(6, 6))\n"
      ],
      "execution_count": 117,
      "outputs": [
        {
          "output_type": "execute_result",
          "data": {
            "text/plain": [
              "<matplotlib.axes._subplots.AxesSubplot at 0x7fad0c224b38>"
            ]
          },
          "metadata": {
            "tags": []
          },
          "execution_count": 117
        },
        {
          "output_type": "display_data",
          "data": {
            "image/png": "[encoded data removed]",
            "text/plain": [
              "<Figure size 432x432 with 1 Axes>"
            ]
          },
          "metadata": {
            "tags": []
          }
        }
      ]
    },
    {
      "cell_type": "markdown",
      "metadata": {
        "id": "JsEtaBvmcuvD",
        "colab_type": "text"
      },
      "source": [
        "## Metrics"
      ]
    },
    {
      "cell_type": "markdown",
      "metadata": {
        "id": "WbeQprhd1kl5",
        "colab_type": "text"
      },
      "source": [
        "### Monthly Revenue\n",
        "\n",
        "Assuming *Transaction Date* as invoice date, we can calculate the monthly revenue as follows:\n",
        "\n",
        "---\n",
        "\n",
        "Revenue = Active Customer Count * Order Count * Average Revenue per Order\n",
        "\n",
        "---\n",
        "\n",
        "When we plotted monthly revenue for all hair products sold in Gratis and Brand A, we observed the same seasonality. It is obvious that monthly revenue is growing. There are abrupt jumps in revenues, this might be due to campaigns of Gratis. After sudden increases in those so called campaign era, revenue slighly decreases with a linear trend. More probably there is no seperate campaign made for Brand A so it follows the same trend.\n"
      ]
    },
    {
      "cell_type": "code",
      "metadata": {
        "id": "C5WjV08j0YnV",
        "colab_type": "code",
        "colab": {
          "base_uri": "https://localhost:8080/",
          "height": 204
        },
        "outputId": "4291362f-159d-4f79-d200-04ae42d961d9"
      },
      "source": [
        "#creating YearMonth field for the ease of reporting and visualization\n",
        "df['InvoiceYearMonth'] = df['TRX_DATE'].map(lambda date: 100*date.year + date.month)\n",
        "#df['InvoiceYearMonth'] = df['InvoiceYearMonth'].astype(str) #required for true visualization\n",
        "#calculate Revenue for each row and create a new dataframe with YearMonth - Revenue columns\n",
        "df['Revenue'] = df['ITEM_UNIT_PRICE'] * df['ITEM_QUANTITY']\n",
        "tx_revenue = df.groupby(['InvoiceYearMonth'])['Revenue'].sum().reset_index()\n",
        "tx_revenue.head()\n"
      ],
      "execution_count": 118,
      "outputs": [
        {
          "output_type": "execute_result",
          "data": {
            "text/html": [
              "<div>\n",
              "<style scoped>\n",
              "    .dataframe tbody tr th:only-of-type {\n",
              "        vertical-align: middle;\n",
              "    }\n",
              "\n",
              "    .dataframe tbody tr th {\n",
              "        vertical-align: top;\n",
              "    }\n",
              "\n",
              "    .dataframe thead th {\n",
              "        text-align: right;\n",
              "    }\n",
              "</style>\n",
              "<table border=\"1\" class=\"dataframe\">\n",
              "  <thead>\n",
              "    <tr style=\"text-align: right;\">\n",
              "      <th></th>\n",
              "      <th>InvoiceYearMonth</th>\n",
              "      <th>Revenue</th>\n",
              "    </tr>\n",
              "  </thead>\n",
              "  <tbody>\n",
              "    <tr>\n",
              "      <th>0</th>\n",
              "      <td>201709</td>\n",
              "      <td>271441.300000</td>\n",
              "    </tr>\n",
              "    <tr>\n",
              "      <th>1</th>\n",
              "      <td>201710</td>\n",
              "      <td>629475.640000</td>\n",
              "    </tr>\n",
              "    <tr>\n",
              "      <th>2</th>\n",
              "      <td>201711</td>\n",
              "      <td>526596.390000</td>\n",
              "    </tr>\n",
              "    <tr>\n",
              "      <th>3</th>\n",
              "      <td>201712</td>\n",
              "      <td>766644.920001</td>\n",
              "    </tr>\n",
              "    <tr>\n",
              "      <th>4</th>\n",
              "      <td>201801</td>\n",
              "      <td>520568.950000</td>\n",
              "    </tr>\n",
              "  </tbody>\n",
              "</table>\n",
              "</div>"
            ],
            "text/plain": [
              "   InvoiceYearMonth        Revenue\n",
              "0            201709  271441.300000\n",
              "1            201710  629475.640000\n",
              "2            201711  526596.390000\n",
              "3            201712  766644.920001\n",
              "4            201801  520568.950000"
            ]
          },
          "metadata": {
            "tags": []
          },
          "execution_count": 118
        }
      ]
    },
    {
      "cell_type": "markdown",
      "metadata": {
        "id": "5Ahh3NmU5r1d",
        "colab_type": "text"
      },
      "source": [
        "Generate the same feature for Brand A:"
      ]
    },
    {
      "cell_type": "code",
      "metadata": {
        "id": "eYPTF2uq5x_D",
        "colab_type": "code",
        "colab": {
          "base_uri": "https://localhost:8080/",
          "height": 428
        },
        "outputId": "c83317b4-8e55-41c9-a2da-d10e3a92fe48"
      },
      "source": [
        "#creating YearMonth field for the ease of reporting and visualization\n",
        "df_A['InvoiceYearMonth'] = df_A['TRX_DATE'].map(lambda date: 100*date.year + date.month)\n",
        "#df_A['InvoiceYearMonth'] = df_A['InvoiceYearMonth'].astype(str) #required for true visualization\n",
        "#calculate Revenue for each row and create a new dataframe with YearMonth - Revenue columns\n",
        "df_A['Revenue'] = df_A['ITEM_UNIT_PRICE'] * df_A['ITEM_QUANTITY']\n",
        "tx_revenue_A = df_A.groupby(['InvoiceYearMonth'])['Revenue'].sum().reset_index()\n",
        "tx_revenue_A.head()"
      ],
      "execution_count": 119,
      "outputs": [
        {
          "output_type": "stream",
          "text": [
            "/usr/local/lib/python3.6/dist-packages/ipykernel_launcher.py:1: SettingWithCopyWarning: \n",
            "A value is trying to be set on a copy of a slice from a DataFrame.\n",
            "Try using .loc[row_indexer,col_indexer] = value instead\n",
            "\n",
            "See the caveats in the documentation: http://pandas.pydata.org/pandas-docs/stable/indexing.html#indexing-view-versus-copy\n",
            "  \"\"\"Entry point for launching an IPython kernel.\n",
            "/usr/local/lib/python3.6/dist-packages/ipykernel_launcher.py:4: SettingWithCopyWarning: \n",
            "A value is trying to be set on a copy of a slice from a DataFrame.\n",
            "Try using .loc[row_indexer,col_indexer] = value instead\n",
            "\n",
            "See the caveats in the documentation: http://pandas.pydata.org/pandas-docs/stable/indexing.html#indexing-view-versus-copy\n",
            "  after removing the cwd from sys.path.\n"
          ],
          "name": "stderr"
        },
        {
          "output_type": "execute_result",
          "data": {
            "text/html": [
              "<div>\n",
              "<style scoped>\n",
              "    .dataframe tbody tr th:only-of-type {\n",
              "        vertical-align: middle;\n",
              "    }\n",
              "\n",
              "    .dataframe tbody tr th {\n",
              "        vertical-align: top;\n",
              "    }\n",
              "\n",
              "    .dataframe thead th {\n",
              "        text-align: right;\n",
              "    }\n",
              "</style>\n",
              "<table border=\"1\" class=\"dataframe\">\n",
              "  <thead>\n",
              "    <tr style=\"text-align: right;\">\n",
              "      <th></th>\n",
              "      <th>InvoiceYearMonth</th>\n",
              "      <th>Revenue</th>\n",
              "    </tr>\n",
              "  </thead>\n",
              "  <tbody>\n",
              "    <tr>\n",
              "      <th>0</th>\n",
              "      <td>201709</td>\n",
              "      <td>7845.33</td>\n",
              "    </tr>\n",
              "    <tr>\n",
              "      <th>1</th>\n",
              "      <td>201710</td>\n",
              "      <td>16267.85</td>\n",
              "    </tr>\n",
              "    <tr>\n",
              "      <th>2</th>\n",
              "      <td>201711</td>\n",
              "      <td>13109.06</td>\n",
              "    </tr>\n",
              "    <tr>\n",
              "      <th>3</th>\n",
              "      <td>201712</td>\n",
              "      <td>20124.40</td>\n",
              "    </tr>\n",
              "    <tr>\n",
              "      <th>4</th>\n",
              "      <td>201801</td>\n",
              "      <td>12983.80</td>\n",
              "    </tr>\n",
              "  </tbody>\n",
              "</table>\n",
              "</div>"
            ],
            "text/plain": [
              "   InvoiceYearMonth   Revenue\n",
              "0            201709   7845.33\n",
              "1            201710  16267.85\n",
              "2            201711  13109.06\n",
              "3            201712  20124.40\n",
              "4            201801  12983.80"
            ]
          },
          "metadata": {
            "tags": []
          },
          "execution_count": 119
        }
      ]
    },
    {
      "cell_type": "code",
      "metadata": {
        "id": "TV70CWb_1hOi",
        "colab_type": "code",
        "colab": {
          "base_uri": "https://localhost:8080/",
          "height": 309
        },
        "outputId": "17b36989-b07f-4cb5-e8cb-0a1020d681ba"
      },
      "source": [
        "fig, (ax1, ax2) = plt.subplots(2)\n",
        "ax1.plot(tx_revenue['InvoiceYearMonth'].astype(str),tx_revenue['Revenue'], color=\"blue\")\n",
        "ax2.plot(tx_revenue_A['InvoiceYearMonth'].astype(str),tx_revenue_A['Revenue'], color=\"orange\")\n",
        "ax1.legend(\"G\")\n",
        "ax2.legend(\"A\")\n",
        "ax1.set_title('Monthly Revenue of All Hair Products')\n",
        "ax2.set_title('Monthly Revenue of Brand A Hair Products')\n",
        "ax1.tick_params(axis ='x', rotation =90)\n",
        "ax2.tick_params(axis ='x', rotation =90)\n",
        "plt.subplots_adjust(hspace = 1)\n",
        "#ax2.set_xlabel('Unit Price (TRY)')"
      ],
      "execution_count": 120,
      "outputs": [
        {
          "output_type": "display_data",
          "data": {
            "image/png": "[encoded data removed]",
            "text/plain": [
              "<Figure size 432x288 with 2 Axes>"
            ]
          },
          "metadata": {
            "tags": []
          }
        }
      ]
    },
    {
      "cell_type": "markdown",
      "metadata": {
        "id": "hpimg0CXA39B",
        "colab_type": "text"
      },
      "source": [
        "### Monthly Revenue Growth Rate\n",
        "\n",
        "Let's calculate the grow rate of the monthly revenue for hair products sold in Gratis.\n",
        "Monthly growth % oscillates around a value slightly above 0 and seems stable. Notice that the amplitude of the oscillations are larger for Brand A when compared to rest, due to small sample size."
      ]
    },
    {
      "cell_type": "code",
      "metadata": {
        "id": "PShEDAVZChvN",
        "colab_type": "code",
        "colab": {
          "base_uri": "https://localhost:8080/",
          "height": 204
        },
        "outputId": "407f431f-259c-41c8-be91-b6cc229d66e1"
      },
      "source": [
        "#using pct_change() function to see monthly percentage change\n",
        "tx_revenue['MonthlyGrowth'] = tx_revenue['Revenue'].pct_change()\n",
        "\n",
        "#showing first 5 rows\n",
        "tx_revenue.head()"
      ],
      "execution_count": 121,
      "outputs": [
        {
          "output_type": "execute_result",
          "data": {
            "text/html": [
              "<div>\n",
              "<style scoped>\n",
              "    .dataframe tbody tr th:only-of-type {\n",
              "        vertical-align: middle;\n",
              "    }\n",
              "\n",
              "    .dataframe tbody tr th {\n",
              "        vertical-align: top;\n",
              "    }\n",
              "\n",
              "    .dataframe thead th {\n",
              "        text-align: right;\n",
              "    }\n",
              "</style>\n",
              "<table border=\"1\" class=\"dataframe\">\n",
              "  <thead>\n",
              "    <tr style=\"text-align: right;\">\n",
              "      <th></th>\n",
              "      <th>InvoiceYearMonth</th>\n",
              "      <th>Revenue</th>\n",
              "      <th>MonthlyGrowth</th>\n",
              "    </tr>\n",
              "  </thead>\n",
              "  <tbody>\n",
              "    <tr>\n",
              "      <th>0</th>\n",
              "      <td>201709</td>\n",
              "      <td>271441.300000</td>\n",
              "      <td>NaN</td>\n",
              "    </tr>\n",
              "    <tr>\n",
              "      <th>1</th>\n",
              "      <td>201710</td>\n",
              "      <td>629475.640000</td>\n",
              "      <td>1.319012</td>\n",
              "    </tr>\n",
              "    <tr>\n",
              "      <th>2</th>\n",
              "      <td>201711</td>\n",
              "      <td>526596.390000</td>\n",
              "      <td>-0.163436</td>\n",
              "    </tr>\n",
              "    <tr>\n",
              "      <th>3</th>\n",
              "      <td>201712</td>\n",
              "      <td>766644.920001</td>\n",
              "      <td>0.455849</td>\n",
              "    </tr>\n",
              "    <tr>\n",
              "      <th>4</th>\n",
              "      <td>201801</td>\n",
              "      <td>520568.950000</td>\n",
              "      <td>-0.320978</td>\n",
              "    </tr>\n",
              "  </tbody>\n",
              "</table>\n",
              "</div>"
            ],
            "text/plain": [
              "   InvoiceYearMonth        Revenue  MonthlyGrowth\n",
              "0            201709  271441.300000            NaN\n",
              "1            201710  629475.640000       1.319012\n",
              "2            201711  526596.390000      -0.163436\n",
              "3            201712  766644.920001       0.455849\n",
              "4            201801  520568.950000      -0.320978"
            ]
          },
          "metadata": {
            "tags": []
          },
          "execution_count": 121
        }
      ]
    },
    {
      "cell_type": "markdown",
      "metadata": {
        "id": "X3v859Kh-Z8J",
        "colab_type": "text"
      },
      "source": [
        "Since there is no reference value to compare the first entry of growth rate returns as NaN. It is further replaced with 0 (meaning no increase) for the sake of proper visualization."
      ]
    },
    {
      "cell_type": "code",
      "metadata": {
        "id": "ZqHLN6-N-YI5",
        "colab_type": "code",
        "colab": {}
      },
      "source": [
        "import numpy as np\n",
        "tx_revenue = tx_revenue.replace(np.nan, 0)"
      ],
      "execution_count": 0,
      "outputs": []
    },
    {
      "cell_type": "markdown",
      "metadata": {
        "id": "Gk87WmuZC4Uf",
        "colab_type": "text"
      },
      "source": [
        "...and for Brand A. Following the same reasoning, miscalculated (NaN) rate replaced with 0."
      ]
    },
    {
      "cell_type": "code",
      "metadata": {
        "id": "FemowdF3C68Y",
        "colab_type": "code",
        "colab": {
          "base_uri": "https://localhost:8080/",
          "height": 793
        },
        "outputId": "63237ca4-ccbe-4b9f-88f6-e4c9ff71d074"
      },
      "source": [
        "#using pct_change() function to see monthly percentage change\n",
        "tx_revenue_A['MonthlyGrowth'] = tx_revenue_A['Revenue'].pct_change()\n",
        "tx_revenue_A = tx_revenue_A.replace(np.nan, 0)\n",
        "#showing first 5 rows\n",
        "tx_revenue_A"
      ],
      "execution_count": 123,
      "outputs": [
        {
          "output_type": "execute_result",
          "data": {
            "text/html": [
              "<div>\n",
              "<style scoped>\n",
              "    .dataframe tbody tr th:only-of-type {\n",
              "        vertical-align: middle;\n",
              "    }\n",
              "\n",
              "    .dataframe tbody tr th {\n",
              "        vertical-align: top;\n",
              "    }\n",
              "\n",
              "    .dataframe thead th {\n",
              "        text-align: right;\n",
              "    }\n",
              "</style>\n",
              "<table border=\"1\" class=\"dataframe\">\n",
              "  <thead>\n",
              "    <tr style=\"text-align: right;\">\n",
              "      <th></th>\n",
              "      <th>InvoiceYearMonth</th>\n",
              "      <th>Revenue</th>\n",
              "      <th>MonthlyGrowth</th>\n",
              "    </tr>\n",
              "  </thead>\n",
              "  <tbody>\n",
              "    <tr>\n",
              "      <th>0</th>\n",
              "      <td>201709</td>\n",
              "      <td>7845.33000</td>\n",
              "      <td>0.000000</td>\n",
              "    </tr>\n",
              "    <tr>\n",
              "      <th>1</th>\n",
              "      <td>201710</td>\n",
              "      <td>16267.85000</td>\n",
              "      <td>1.073571</td>\n",
              "    </tr>\n",
              "    <tr>\n",
              "      <th>2</th>\n",
              "      <td>201711</td>\n",
              "      <td>13109.06000</td>\n",
              "      <td>-0.194174</td>\n",
              "    </tr>\n",
              "    <tr>\n",
              "      <th>3</th>\n",
              "      <td>201712</td>\n",
              "      <td>20124.40000</td>\n",
              "      <td>0.535152</td>\n",
              "    </tr>\n",
              "    <tr>\n",
              "      <th>4</th>\n",
              "      <td>201801</td>\n",
              "      <td>12983.80000</td>\n",
              "      <td>-0.354823</td>\n",
              "    </tr>\n",
              "    <tr>\n",
              "      <th>5</th>\n",
              "      <td>201802</td>\n",
              "      <td>18838.20000</td>\n",
              "      <td>0.450900</td>\n",
              "    </tr>\n",
              "    <tr>\n",
              "      <th>6</th>\n",
              "      <td>201803</td>\n",
              "      <td>25353.27000</td>\n",
              "      <td>0.345844</td>\n",
              "    </tr>\n",
              "    <tr>\n",
              "      <th>7</th>\n",
              "      <td>201804</td>\n",
              "      <td>20359.53000</td>\n",
              "      <td>-0.196966</td>\n",
              "    </tr>\n",
              "    <tr>\n",
              "      <th>8</th>\n",
              "      <td>201805</td>\n",
              "      <td>23153.49000</td>\n",
              "      <td>0.137231</td>\n",
              "    </tr>\n",
              "    <tr>\n",
              "      <th>9</th>\n",
              "      <td>201806</td>\n",
              "      <td>27329.80000</td>\n",
              "      <td>0.180375</td>\n",
              "    </tr>\n",
              "    <tr>\n",
              "      <th>10</th>\n",
              "      <td>201807</td>\n",
              "      <td>21099.30000</td>\n",
              "      <td>-0.227975</td>\n",
              "    </tr>\n",
              "    <tr>\n",
              "      <th>11</th>\n",
              "      <td>201808</td>\n",
              "      <td>32285.40000</td>\n",
              "      <td>0.530165</td>\n",
              "    </tr>\n",
              "    <tr>\n",
              "      <th>12</th>\n",
              "      <td>201809</td>\n",
              "      <td>26657.15000</td>\n",
              "      <td>-0.174328</td>\n",
              "    </tr>\n",
              "    <tr>\n",
              "      <th>13</th>\n",
              "      <td>201810</td>\n",
              "      <td>29406.10000</td>\n",
              "      <td>0.103122</td>\n",
              "    </tr>\n",
              "    <tr>\n",
              "      <th>14</th>\n",
              "      <td>201811</td>\n",
              "      <td>23788.38000</td>\n",
              "      <td>-0.191039</td>\n",
              "    </tr>\n",
              "    <tr>\n",
              "      <th>15</th>\n",
              "      <td>201812</td>\n",
              "      <td>35285.49000</td>\n",
              "      <td>0.483308</td>\n",
              "    </tr>\n",
              "    <tr>\n",
              "      <th>16</th>\n",
              "      <td>201901</td>\n",
              "      <td>17361.00000</td>\n",
              "      <td>-0.507985</td>\n",
              "    </tr>\n",
              "    <tr>\n",
              "      <th>17</th>\n",
              "      <td>201902</td>\n",
              "      <td>28588.72000</td>\n",
              "      <td>0.646721</td>\n",
              "    </tr>\n",
              "    <tr>\n",
              "      <th>18</th>\n",
              "      <td>201903</td>\n",
              "      <td>30474.51000</td>\n",
              "      <td>0.065963</td>\n",
              "    </tr>\n",
              "    <tr>\n",
              "      <th>19</th>\n",
              "      <td>201904</td>\n",
              "      <td>25745.19000</td>\n",
              "      <td>-0.155189</td>\n",
              "    </tr>\n",
              "    <tr>\n",
              "      <th>20</th>\n",
              "      <td>201905</td>\n",
              "      <td>38436.46003</td>\n",
              "      <td>0.492957</td>\n",
              "    </tr>\n",
              "    <tr>\n",
              "      <th>21</th>\n",
              "      <td>201906</td>\n",
              "      <td>45314.85000</td>\n",
              "      <td>0.178955</td>\n",
              "    </tr>\n",
              "    <tr>\n",
              "      <th>22</th>\n",
              "      <td>201907</td>\n",
              "      <td>62734.63000</td>\n",
              "      <td>0.384417</td>\n",
              "    </tr>\n",
              "    <tr>\n",
              "      <th>23</th>\n",
              "      <td>201908</td>\n",
              "      <td>55998.77000</td>\n",
              "      <td>-0.107371</td>\n",
              "    </tr>\n",
              "  </tbody>\n",
              "</table>\n",
              "</div>"
            ],
            "text/plain": [
              "    InvoiceYearMonth      Revenue  MonthlyGrowth\n",
              "0             201709   7845.33000       0.000000\n",
              "1             201710  16267.85000       1.073571\n",
              "2             201711  13109.06000      -0.194174\n",
              "3             201712  20124.40000       0.535152\n",
              "4             201801  12983.80000      -0.354823\n",
              "5             201802  18838.20000       0.450900\n",
              "6             201803  25353.27000       0.345844\n",
              "7             201804  20359.53000      -0.196966\n",
              "8             201805  23153.49000       0.137231\n",
              "9             201806  27329.80000       0.180375\n",
              "10            201807  21099.30000      -0.227975\n",
              "11            201808  32285.40000       0.530165\n",
              "12            201809  26657.15000      -0.174328\n",
              "13            201810  29406.10000       0.103122\n",
              "14            201811  23788.38000      -0.191039\n",
              "15            201812  35285.49000       0.483308\n",
              "16            201901  17361.00000      -0.507985\n",
              "17            201902  28588.72000       0.646721\n",
              "18            201903  30474.51000       0.065963\n",
              "19            201904  25745.19000      -0.155189\n",
              "20            201905  38436.46003       0.492957\n",
              "21            201906  45314.85000       0.178955\n",
              "22            201907  62734.63000       0.384417\n",
              "23            201908  55998.77000      -0.107371"
            ]
          },
          "metadata": {
            "tags": []
          },
          "execution_count": 123
        }
      ]
    },
    {
      "cell_type": "code",
      "metadata": {
        "id": "ZM-6sI0sNus0",
        "colab_type": "code",
        "colab": {
          "base_uri": "https://localhost:8080/",
          "height": 343
        },
        "outputId": "1ce89923-d09f-4662-997c-b3b1996defdd"
      },
      "source": [
        "import numpy as np\n",
        "fig, (ax1, ax2) = plt.subplots(2)\n",
        "\n",
        "#plot of Gratis\n",
        "ax1.plot(tx_revenue['InvoiceYearMonth'].astype(str),tx_revenue['MonthlyGrowth'], color=\"blue\", linestyle='-', marker='.')\n",
        "\n",
        "# add trendline\n",
        "x = tx_revenue['InvoiceYearMonth']\n",
        "y = tx_revenue['MonthlyGrowth']\n",
        "z = np.polyfit(x.astype(float) , y, 1)\n",
        "p = np.poly1d(z)\n",
        "ax1.plot(x.astype(str),p(x),\"b--\")\n",
        "\n",
        "\n",
        "#plot for Brand A\n",
        "ax2.plot(tx_revenue_A['InvoiceYearMonth'].astype(str),tx_revenue_A['MonthlyGrowth'], color=\"orange\", linestyle='-', marker='.')\n",
        "# add trendline\n",
        "x_A = tx_revenue_A['InvoiceYearMonth']\n",
        "y_A = tx_revenue_A['MonthlyGrowth']\n",
        "z_A = np.polyfit(x_A.astype(float), y_A, 1)\n",
        "p = np.poly1d(z_A)\n",
        "ax2.plot(x_A.astype(str),p(x_A),\"y--\")\n",
        "\n",
        "# style related things\n",
        "ax1.set_title('Monthly Growth Rate of All Hair Products')\n",
        "ax2.set_title('Monthly Growth Rate of Brand A Hair Products')\n",
        "ax1.tick_params(axis ='x', rotation =90)\n",
        "ax2.tick_params(axis ='x', rotation =90)\n",
        "plt.subplots_adjust(hspace = 1)\n",
        "plt.show()\n",
        "\n",
        "print(\"Trendline Equation for All Hair Products:\",\"y=%.6fx+%.6f\"%(z[0],z[1])) \n",
        "print(\"Trendline Equation for All Hair Products:\",\"y=%.6fx+%.6f\"%(z_A[0],z_A[1]))\n"
      ],
      "execution_count": 124,
      "outputs": [
        {
          "output_type": "display_data",
          "data": {
            "image/png": "[encoded data removed]",
            "text/plain": [
              "<Figure size 432x288 with 2 Axes>"
            ]
          },
          "metadata": {
            "tags": []
          }
        },
        {
          "output_type": "stream",
          "text": [
            "Trendline Equation for All Hair Products: y=-0.001257x+253.808406\n",
            "Trendline Equation for All Hair Products: y=-0.000872x+176.217366\n"
          ],
          "name": "stdout"
        }
      ]
    },
    {
      "cell_type": "markdown",
      "metadata": {
        "id": "cmnkNOJ8gjQ3",
        "colab_type": "text"
      },
      "source": [
        "We observe an nearly monthly oscillating behaviour of growth rate. This might be related to campaign frequency (in every 2 months?). Both of the growth rates are in the decreasing trend but Brand A's rate decreases slower than the rest. By the end of August, 2019, we saw monthly growth is decreased by 10.7% for Brand A wheras it is increased by 38.1% for overall hair products in Gratis. Monthly revenue also decreased for Brand A in August, 2019 while it increased for other hair products. We think that this is due to customers opting for cheaper option. Reming that Brand A's hair products are way expesive than the others and sunlight's and sea water's descructive effects requires people to apply extensive hair care in the summer season. They could have opted out for cheaper or UV resistant options which Brand A cannot provide.\n",
        "There is a sudden increase in growth for Brand A from January, 2019 to February, 2019 (+64%). After May 2019, growth rate behaves positively. This might be due to discounts of Mother's Day and Ramadan Holliday done in May."
      ]
    },
    {
      "cell_type": "code",
      "metadata": {
        "id": "Jj3ihCzteK2l",
        "colab_type": "code",
        "colab": {
          "base_uri": "https://localhost:8080/",
          "height": 85
        },
        "outputId": "72b14d6a-5608-4c4c-994b-875642c7dc28"
      },
      "source": [
        "print(tx_revenue_A[len(tx_revenue_A)-1:])\n",
        "print(tx_revenue[len(tx_revenue)-1:])"
      ],
      "execution_count": 125,
      "outputs": [
        {
          "output_type": "stream",
          "text": [
            "    InvoiceYearMonth   Revenue  MonthlyGrowth\n",
            "23            201908  55998.77      -0.107371\n",
            "    InvoiceYearMonth       Revenue  MonthlyGrowth\n",
            "23            201908  2.015467e+06        0.38142\n"
          ],
          "name": "stdout"
        }
      ]
    },
    {
      "cell_type": "markdown",
      "metadata": {
        "id": "J4ragfsui-bd",
        "colab_type": "text"
      },
      "source": [
        "### Monthly Active Customers\n",
        "\n",
        "We can get the monthly active customers by counting unique customer IDs (Using nunique() function we will count distinct observations). We will be focusing on Brand A from now on. "
      ]
    },
    {
      "cell_type": "code",
      "metadata": {
        "id": "o2pSukYojypq",
        "colab_type": "code",
        "colab": {
          "base_uri": "https://localhost:8080/",
          "height": 793
        },
        "outputId": "c205329a-bc48-42a6-b4f4-e969b5b172b3"
      },
      "source": [
        "#creating a new dataframe with UK customers only\n",
        "tx_A = df.query(\"BRAND_NAME == 'A'\").reset_index(drop=True)\n",
        "\n",
        "#creating monthly active customers dataframe by counting unique Customer IDs\n",
        "tx_monthly_active = tx_A.groupby('InvoiceYearMonth')['CUST_ID'].nunique().reset_index()\n",
        "\n",
        "#print the dataframe\n",
        "tx_monthly_active"
      ],
      "execution_count": 126,
      "outputs": [
        {
          "output_type": "execute_result",
          "data": {
            "text/html": [
              "<div>\n",
              "<style scoped>\n",
              "    .dataframe tbody tr th:only-of-type {\n",
              "        vertical-align: middle;\n",
              "    }\n",
              "\n",
              "    .dataframe tbody tr th {\n",
              "        vertical-align: top;\n",
              "    }\n",
              "\n",
              "    .dataframe thead th {\n",
              "        text-align: right;\n",
              "    }\n",
              "</style>\n",
              "<table border=\"1\" class=\"dataframe\">\n",
              "  <thead>\n",
              "    <tr style=\"text-align: right;\">\n",
              "      <th></th>\n",
              "      <th>InvoiceYearMonth</th>\n",
              "      <th>CUST_ID</th>\n",
              "    </tr>\n",
              "  </thead>\n",
              "  <tbody>\n",
              "    <tr>\n",
              "      <th>0</th>\n",
              "      <td>201709</td>\n",
              "      <td>532</td>\n",
              "    </tr>\n",
              "    <tr>\n",
              "      <th>1</th>\n",
              "      <td>201710</td>\n",
              "      <td>1042</td>\n",
              "    </tr>\n",
              "    <tr>\n",
              "      <th>2</th>\n",
              "      <td>201711</td>\n",
              "      <td>912</td>\n",
              "    </tr>\n",
              "    <tr>\n",
              "      <th>3</th>\n",
              "      <td>201712</td>\n",
              "      <td>1327</td>\n",
              "    </tr>\n",
              "    <tr>\n",
              "      <th>4</th>\n",
              "      <td>201801</td>\n",
              "      <td>777</td>\n",
              "    </tr>\n",
              "    <tr>\n",
              "      <th>5</th>\n",
              "      <td>201802</td>\n",
              "      <td>1224</td>\n",
              "    </tr>\n",
              "    <tr>\n",
              "      <th>6</th>\n",
              "      <td>201803</td>\n",
              "      <td>1686</td>\n",
              "    </tr>\n",
              "    <tr>\n",
              "      <th>7</th>\n",
              "      <td>201804</td>\n",
              "      <td>1232</td>\n",
              "    </tr>\n",
              "    <tr>\n",
              "      <th>8</th>\n",
              "      <td>201805</td>\n",
              "      <td>1434</td>\n",
              "    </tr>\n",
              "    <tr>\n",
              "      <th>9</th>\n",
              "      <td>201806</td>\n",
              "      <td>1731</td>\n",
              "    </tr>\n",
              "    <tr>\n",
              "      <th>10</th>\n",
              "      <td>201807</td>\n",
              "      <td>1153</td>\n",
              "    </tr>\n",
              "    <tr>\n",
              "      <th>11</th>\n",
              "      <td>201808</td>\n",
              "      <td>1945</td>\n",
              "    </tr>\n",
              "    <tr>\n",
              "      <th>12</th>\n",
              "      <td>201809</td>\n",
              "      <td>1524</td>\n",
              "    </tr>\n",
              "    <tr>\n",
              "      <th>13</th>\n",
              "      <td>201810</td>\n",
              "      <td>1760</td>\n",
              "    </tr>\n",
              "    <tr>\n",
              "      <th>14</th>\n",
              "      <td>201811</td>\n",
              "      <td>1101</td>\n",
              "    </tr>\n",
              "    <tr>\n",
              "      <th>15</th>\n",
              "      <td>201812</td>\n",
              "      <td>1742</td>\n",
              "    </tr>\n",
              "    <tr>\n",
              "      <th>16</th>\n",
              "      <td>201901</td>\n",
              "      <td>663</td>\n",
              "    </tr>\n",
              "    <tr>\n",
              "      <th>17</th>\n",
              "      <td>201902</td>\n",
              "      <td>1349</td>\n",
              "    </tr>\n",
              "    <tr>\n",
              "      <th>18</th>\n",
              "      <td>201903</td>\n",
              "      <td>1300</td>\n",
              "    </tr>\n",
              "    <tr>\n",
              "      <th>19</th>\n",
              "      <td>201904</td>\n",
              "      <td>1064</td>\n",
              "    </tr>\n",
              "    <tr>\n",
              "      <th>20</th>\n",
              "      <td>201905</td>\n",
              "      <td>1886</td>\n",
              "    </tr>\n",
              "    <tr>\n",
              "      <th>21</th>\n",
              "      <td>201906</td>\n",
              "      <td>2075</td>\n",
              "    </tr>\n",
              "    <tr>\n",
              "      <th>22</th>\n",
              "      <td>201907</td>\n",
              "      <td>3463</td>\n",
              "    </tr>\n",
              "    <tr>\n",
              "      <th>23</th>\n",
              "      <td>201908</td>\n",
              "      <td>2447</td>\n",
              "    </tr>\n",
              "  </tbody>\n",
              "</table>\n",
              "</div>"
            ],
            "text/plain": [
              "    InvoiceYearMonth  CUST_ID\n",
              "0             201709      532\n",
              "1             201710     1042\n",
              "2             201711      912\n",
              "3             201712     1327\n",
              "4             201801      777\n",
              "5             201802     1224\n",
              "6             201803     1686\n",
              "7             201804     1232\n",
              "8             201805     1434\n",
              "9             201806     1731\n",
              "10            201807     1153\n",
              "11            201808     1945\n",
              "12            201809     1524\n",
              "13            201810     1760\n",
              "14            201811     1101\n",
              "15            201812     1742\n",
              "16            201901      663\n",
              "17            201902     1349\n",
              "18            201903     1300\n",
              "19            201904     1064\n",
              "20            201905     1886\n",
              "21            201906     2075\n",
              "22            201907     3463\n",
              "23            201908     2447"
            ]
          },
          "metadata": {
            "tags": []
          },
          "execution_count": 126
        }
      ]
    },
    {
      "cell_type": "markdown",
      "metadata": {
        "id": "pSXuq30ytEb5",
        "colab_type": "text"
      },
      "source": [
        "Number of active customers of Brand A first decreased from 1742 to 663 then increased to 1349 from December, 2019 to February 2019 (-61.94, +103.47%). This manifest itself as an abrupt jump in the growth rate. Number of active customers were obviously high for December and February due to New Year's Eve and Valantine's Day discounts. This high trend kept later for March by the help of Women's Day discount. After a decrease for April, then came the Mother's Day discount in May."
      ]
    },
    {
      "cell_type": "code",
      "metadata": {
        "id": "dcHJlpPwoD6e",
        "colab_type": "code",
        "colab": {
          "base_uri": "https://localhost:8080/",
          "height": 340
        },
        "outputId": "f03addb8-c0a2-4516-f70a-e1cad5f3feab"
      },
      "source": [
        "tx_monthly_active.plot(kind='bar', x = \"InvoiceYearMonth\", y = \"CUST_ID\",\n",
        "                       color =\"orange\", title = \"Monthly Active Customers\")"
      ],
      "execution_count": 127,
      "outputs": [
        {
          "output_type": "execute_result",
          "data": {
            "text/plain": [
              "<matplotlib.axes._subplots.AxesSubplot at 0x7fad0c20bb00>"
            ]
          },
          "metadata": {
            "tags": []
          },
          "execution_count": 127
        },
        {
          "output_type": "display_data",
          "data": {
            "image/png": "[encoded data removed]",
            "text/plain": [
              "<Figure size 432x288 with 1 Axes>"
            ]
          },
          "metadata": {
            "tags": []
          }
        }
      ]
    },
    {
      "cell_type": "markdown",
      "metadata": {
        "id": "MgU-hIzZJdNQ",
        "colab_type": "text"
      },
      "source": [
        "### Monthly Order Count\n",
        "\n",
        "Summing values in the quantity field we obtain order count for each month."
      ]
    },
    {
      "cell_type": "code",
      "metadata": {
        "id": "aNHM7eyRKUpk",
        "colab_type": "code",
        "colab": {
          "base_uri": "https://localhost:8080/",
          "height": 793
        },
        "outputId": "f1243045-a500-49fa-dd2d-40a8b04d6dbd"
      },
      "source": [
        "#create a new dataframe for no. of order by using quantity field\n",
        "tx_monthly_sales = tx_A.groupby('InvoiceYearMonth')['ITEM_QUANTITY'].sum().reset_index()\n",
        "\n",
        "#print the dataframe\n",
        "tx_monthly_sales"
      ],
      "execution_count": 128,
      "outputs": [
        {
          "output_type": "execute_result",
          "data": {
            "text/html": [
              "<div>\n",
              "<style scoped>\n",
              "    .dataframe tbody tr th:only-of-type {\n",
              "        vertical-align: middle;\n",
              "    }\n",
              "\n",
              "    .dataframe tbody tr th {\n",
              "        vertical-align: top;\n",
              "    }\n",
              "\n",
              "    .dataframe thead th {\n",
              "        text-align: right;\n",
              "    }\n",
              "</style>\n",
              "<table border=\"1\" class=\"dataframe\">\n",
              "  <thead>\n",
              "    <tr style=\"text-align: right;\">\n",
              "      <th></th>\n",
              "      <th>InvoiceYearMonth</th>\n",
              "      <th>ITEM_QUANTITY</th>\n",
              "    </tr>\n",
              "  </thead>\n",
              "  <tbody>\n",
              "    <tr>\n",
              "      <th>0</th>\n",
              "      <td>201709</td>\n",
              "      <td>543.0</td>\n",
              "    </tr>\n",
              "    <tr>\n",
              "      <th>1</th>\n",
              "      <td>201710</td>\n",
              "      <td>1059.0</td>\n",
              "    </tr>\n",
              "    <tr>\n",
              "      <th>2</th>\n",
              "      <td>201711</td>\n",
              "      <td>937.0</td>\n",
              "    </tr>\n",
              "    <tr>\n",
              "      <th>3</th>\n",
              "      <td>201712</td>\n",
              "      <td>1354.0</td>\n",
              "    </tr>\n",
              "    <tr>\n",
              "      <th>4</th>\n",
              "      <td>201801</td>\n",
              "      <td>790.0</td>\n",
              "    </tr>\n",
              "    <tr>\n",
              "      <th>5</th>\n",
              "      <td>201802</td>\n",
              "      <td>1256.0</td>\n",
              "    </tr>\n",
              "    <tr>\n",
              "      <th>6</th>\n",
              "      <td>201803</td>\n",
              "      <td>1718.0</td>\n",
              "    </tr>\n",
              "    <tr>\n",
              "      <th>7</th>\n",
              "      <td>201804</td>\n",
              "      <td>1243.0</td>\n",
              "    </tr>\n",
              "    <tr>\n",
              "      <th>8</th>\n",
              "      <td>201805</td>\n",
              "      <td>1465.0</td>\n",
              "    </tr>\n",
              "    <tr>\n",
              "      <th>9</th>\n",
              "      <td>201806</td>\n",
              "      <td>1782.0</td>\n",
              "    </tr>\n",
              "    <tr>\n",
              "      <th>10</th>\n",
              "      <td>201807</td>\n",
              "      <td>1177.0</td>\n",
              "    </tr>\n",
              "    <tr>\n",
              "      <th>11</th>\n",
              "      <td>201808</td>\n",
              "      <td>2006.0</td>\n",
              "    </tr>\n",
              "    <tr>\n",
              "      <th>12</th>\n",
              "      <td>201809</td>\n",
              "      <td>1576.0</td>\n",
              "    </tr>\n",
              "    <tr>\n",
              "      <th>13</th>\n",
              "      <td>201810</td>\n",
              "      <td>1859.0</td>\n",
              "    </tr>\n",
              "    <tr>\n",
              "      <th>14</th>\n",
              "      <td>201811</td>\n",
              "      <td>1148.0</td>\n",
              "    </tr>\n",
              "    <tr>\n",
              "      <th>15</th>\n",
              "      <td>201812</td>\n",
              "      <td>1823.0</td>\n",
              "    </tr>\n",
              "    <tr>\n",
              "      <th>16</th>\n",
              "      <td>201901</td>\n",
              "      <td>706.0</td>\n",
              "    </tr>\n",
              "    <tr>\n",
              "      <th>17</th>\n",
              "      <td>201902</td>\n",
              "      <td>1431.0</td>\n",
              "    </tr>\n",
              "    <tr>\n",
              "      <th>18</th>\n",
              "      <td>201903</td>\n",
              "      <td>1402.0</td>\n",
              "    </tr>\n",
              "    <tr>\n",
              "      <th>19</th>\n",
              "      <td>201904</td>\n",
              "      <td>1128.0</td>\n",
              "    </tr>\n",
              "    <tr>\n",
              "      <th>20</th>\n",
              "      <td>201905</td>\n",
              "      <td>1972.0</td>\n",
              "    </tr>\n",
              "    <tr>\n",
              "      <th>21</th>\n",
              "      <td>201906</td>\n",
              "      <td>2156.0</td>\n",
              "    </tr>\n",
              "    <tr>\n",
              "      <th>22</th>\n",
              "      <td>201907</td>\n",
              "      <td>3999.0</td>\n",
              "    </tr>\n",
              "    <tr>\n",
              "      <th>23</th>\n",
              "      <td>201908</td>\n",
              "      <td>2565.0</td>\n",
              "    </tr>\n",
              "  </tbody>\n",
              "</table>\n",
              "</div>"
            ],
            "text/plain": [
              "    InvoiceYearMonth  ITEM_QUANTITY\n",
              "0             201709          543.0\n",
              "1             201710         1059.0\n",
              "2             201711          937.0\n",
              "3             201712         1354.0\n",
              "4             201801          790.0\n",
              "5             201802         1256.0\n",
              "6             201803         1718.0\n",
              "7             201804         1243.0\n",
              "8             201805         1465.0\n",
              "9             201806         1782.0\n",
              "10            201807         1177.0\n",
              "11            201808         2006.0\n",
              "12            201809         1576.0\n",
              "13            201810         1859.0\n",
              "14            201811         1148.0\n",
              "15            201812         1823.0\n",
              "16            201901          706.0\n",
              "17            201902         1431.0\n",
              "18            201903         1402.0\n",
              "19            201904         1128.0\n",
              "20            201905         1972.0\n",
              "21            201906         2156.0\n",
              "22            201907         3999.0\n",
              "23            201908         2565.0"
            ]
          },
          "metadata": {
            "tags": []
          },
          "execution_count": 128
        }
      ]
    },
    {
      "cell_type": "code",
      "metadata": {
        "id": "hOdWOWfRKxw4",
        "colab_type": "code",
        "colab": {
          "base_uri": "https://localhost:8080/",
          "height": 340
        },
        "outputId": "3e7a9310-f775-4e22-f7a1-8a0a2efb8494"
      },
      "source": [
        "tx_monthly_sales.plot(kind='bar', x = \"InvoiceYearMonth\", y = \"ITEM_QUANTITY\",\n",
        "                       color =\"orange\", title = \"Monthly Order Count\")"
      ],
      "execution_count": 129,
      "outputs": [
        {
          "output_type": "execute_result",
          "data": {
            "text/plain": [
              "<matplotlib.axes._subplots.AxesSubplot at 0x7fad2f6c2b70>"
            ]
          },
          "metadata": {
            "tags": []
          },
          "execution_count": 129
        },
        {
          "output_type": "display_data",
          "data": {
            "image/png": "[encoded data removed]",
            "text/plain": [
              "<Figure size 432x288 with 1 Axes>"
            ]
          },
          "metadata": {
            "tags": []
          }
        }
      ]
    },
    {
      "cell_type": "markdown",
      "metadata": {
        "id": "pONgB0zv7Y6A",
        "colab_type": "text"
      },
      "source": [
        "We see the same trend for number of orders so number of active customers directly affects order count.\n",
        "We also searched Google Trends for the for discount keywords within in the transaction timespan of the dataset.\n",
        "[See Interest over time on Google Trends for \"gratis indirim\" - Turkey, 06/09/2017 - 29/08/2019](https://trends.google.com.tr/trends/explore?date=2017-09-06%202019-08-29&geo=TR&q=gratis%20indirim). The popularity of those keywords peaks at 14-20 October, 2018 and 23-29 June, 2019. We strongly believe that Gratis had gone a campaign in those era, so that explains the peak at June, 2019."
      ]
    },
    {
      "cell_type": "code",
      "metadata": {
        "id": "ZVC2243eRZix",
        "colab_type": "code",
        "colab": {
          "base_uri": "https://localhost:8080/",
          "height": 570
        },
        "outputId": "692eb843-75b8-403e-cdae-aa4075d8ffc9"
      },
      "source": [
        "from IPython.display import Image, display\n",
        "display(Image('/content/drive/My Drive/Gratis/Google_Trends.png'))"
      ],
      "execution_count": 130,
      "outputs": [
        {
          "output_type": "display_data",
          "data": {
            "image/png": "[encoded data removed]",
            "text/plain": [
              "<IPython.core.display.Image object>"
            ]
          },
          "metadata": {
            "tags": []
          }
        }
      ]
    },
    {
      "cell_type": "markdown",
      "metadata": {
        "id": "18hIh-vFOZwx",
        "colab_type": "text"
      },
      "source": [
        "### Average Revenue per Order\n",
        "\n",
        "We also calculated the average of revenue for each month."
      ]
    },
    {
      "cell_type": "code",
      "metadata": {
        "id": "rPNuNnPHX0QP",
        "colab_type": "code",
        "colab": {
          "base_uri": "https://localhost:8080/",
          "height": 793
        },
        "outputId": "7ff82d44-0bd6-4d04-b3ce-033ac9149365"
      },
      "source": [
        "# create a new dataframe for average revenue by taking the mean of it\n",
        "tx_monthly_order_avg = tx_A.groupby('InvoiceYearMonth')['Revenue'].mean().reset_index()\n",
        "\n",
        "#print the dataframe\n",
        "tx_monthly_order_avg"
      ],
      "execution_count": 131,
      "outputs": [
        {
          "output_type": "execute_result",
          "data": {
            "text/html": [
              "<div>\n",
              "<style scoped>\n",
              "    .dataframe tbody tr th:only-of-type {\n",
              "        vertical-align: middle;\n",
              "    }\n",
              "\n",
              "    .dataframe tbody tr th {\n",
              "        vertical-align: top;\n",
              "    }\n",
              "\n",
              "    .dataframe thead th {\n",
              "        text-align: right;\n",
              "    }\n",
              "</style>\n",
              "<table border=\"1\" class=\"dataframe\">\n",
              "  <thead>\n",
              "    <tr style=\"text-align: right;\">\n",
              "      <th></th>\n",
              "      <th>InvoiceYearMonth</th>\n",
              "      <th>Revenue</th>\n",
              "    </tr>\n",
              "  </thead>\n",
              "  <tbody>\n",
              "    <tr>\n",
              "      <th>0</th>\n",
              "      <td>201709</td>\n",
              "      <td>14.691629</td>\n",
              "    </tr>\n",
              "    <tr>\n",
              "      <th>1</th>\n",
              "      <td>201710</td>\n",
              "      <td>15.537584</td>\n",
              "    </tr>\n",
              "    <tr>\n",
              "      <th>2</th>\n",
              "      <td>201711</td>\n",
              "      <td>14.280022</td>\n",
              "    </tr>\n",
              "    <tr>\n",
              "      <th>3</th>\n",
              "      <td>201712</td>\n",
              "      <td>15.097074</td>\n",
              "    </tr>\n",
              "    <tr>\n",
              "      <th>4</th>\n",
              "      <td>201801</td>\n",
              "      <td>16.624584</td>\n",
              "    </tr>\n",
              "    <tr>\n",
              "      <th>5</th>\n",
              "      <td>201802</td>\n",
              "      <td>15.241262</td>\n",
              "    </tr>\n",
              "    <tr>\n",
              "      <th>6</th>\n",
              "      <td>201803</td>\n",
              "      <td>14.948862</td>\n",
              "    </tr>\n",
              "    <tr>\n",
              "      <th>7</th>\n",
              "      <td>201804</td>\n",
              "      <td>16.432228</td>\n",
              "    </tr>\n",
              "    <tr>\n",
              "      <th>8</th>\n",
              "      <td>201805</td>\n",
              "      <td>16.023176</td>\n",
              "    </tr>\n",
              "    <tr>\n",
              "      <th>9</th>\n",
              "      <td>201806</td>\n",
              "      <td>15.563667</td>\n",
              "    </tr>\n",
              "    <tr>\n",
              "      <th>10</th>\n",
              "      <td>201807</td>\n",
              "      <td>18.002816</td>\n",
              "    </tr>\n",
              "    <tr>\n",
              "      <th>11</th>\n",
              "      <td>201808</td>\n",
              "      <td>16.207530</td>\n",
              "    </tr>\n",
              "    <tr>\n",
              "      <th>12</th>\n",
              "      <td>201809</td>\n",
              "      <td>17.131844</td>\n",
              "    </tr>\n",
              "    <tr>\n",
              "      <th>13</th>\n",
              "      <td>201810</td>\n",
              "      <td>16.255445</td>\n",
              "    </tr>\n",
              "    <tr>\n",
              "      <th>14</th>\n",
              "      <td>201811</td>\n",
              "      <td>20.903673</td>\n",
              "    </tr>\n",
              "    <tr>\n",
              "      <th>15</th>\n",
              "      <td>201812</td>\n",
              "      <td>19.473228</td>\n",
              "    </tr>\n",
              "    <tr>\n",
              "      <th>16</th>\n",
              "      <td>201901</td>\n",
              "      <td>24.660511</td>\n",
              "    </tr>\n",
              "    <tr>\n",
              "      <th>17</th>\n",
              "      <td>201902</td>\n",
              "      <td>20.090457</td>\n",
              "    </tr>\n",
              "    <tr>\n",
              "      <th>18</th>\n",
              "      <td>201903</td>\n",
              "      <td>21.861198</td>\n",
              "    </tr>\n",
              "    <tr>\n",
              "      <th>19</th>\n",
              "      <td>201904</td>\n",
              "      <td>22.945802</td>\n",
              "    </tr>\n",
              "    <tr>\n",
              "      <th>20</th>\n",
              "      <td>201905</td>\n",
              "      <td>19.874074</td>\n",
              "    </tr>\n",
              "    <tr>\n",
              "      <th>21</th>\n",
              "      <td>201906</td>\n",
              "      <td>21.145520</td>\n",
              "    </tr>\n",
              "    <tr>\n",
              "      <th>22</th>\n",
              "      <td>201907</td>\n",
              "      <td>17.173455</td>\n",
              "    </tr>\n",
              "    <tr>\n",
              "      <th>23</th>\n",
              "      <td>201908</td>\n",
              "      <td>22.151412</td>\n",
              "    </tr>\n",
              "  </tbody>\n",
              "</table>\n",
              "</div>"
            ],
            "text/plain": [
              "    InvoiceYearMonth    Revenue\n",
              "0             201709  14.691629\n",
              "1             201710  15.537584\n",
              "2             201711  14.280022\n",
              "3             201712  15.097074\n",
              "4             201801  16.624584\n",
              "5             201802  15.241262\n",
              "6             201803  14.948862\n",
              "7             201804  16.432228\n",
              "8             201805  16.023176\n",
              "9             201806  15.563667\n",
              "10            201807  18.002816\n",
              "11            201808  16.207530\n",
              "12            201809  17.131844\n",
              "13            201810  16.255445\n",
              "14            201811  20.903673\n",
              "15            201812  19.473228\n",
              "16            201901  24.660511\n",
              "17            201902  20.090457\n",
              "18            201903  21.861198\n",
              "19            201904  22.945802\n",
              "20            201905  19.874074\n",
              "21            201906  21.145520\n",
              "22            201907  17.173455\n",
              "23            201908  22.151412"
            ]
          },
          "metadata": {
            "tags": []
          },
          "execution_count": 131
        }
      ]
    },
    {
      "cell_type": "code",
      "metadata": {
        "id": "zW2NHhSkYa4F",
        "colab_type": "code",
        "colab": {
          "base_uri": "https://localhost:8080/",
          "height": 340
        },
        "outputId": "ad210931-6c35-48ee-8c4c-8bdd070c9e20"
      },
      "source": [
        "tx_monthly_order_avg.plot(kind='bar', x = \"InvoiceYearMonth\", y = \"Revenue\",\n",
        "                       color =\"orange\", title = \"Average Revenue per Order\")"
      ],
      "execution_count": 132,
      "outputs": [
        {
          "output_type": "execute_result",
          "data": {
            "text/plain": [
              "<matplotlib.axes._subplots.AxesSubplot at 0x7fad0c10e5c0>"
            ]
          },
          "metadata": {
            "tags": []
          },
          "execution_count": 132
        },
        {
          "output_type": "display_data",
          "data": {
            "image/png": "[encoded data removed]",
            "text/plain": [
              "<Figure size 432x288 with 1 Axes>"
            ]
          },
          "metadata": {
            "tags": []
          }
        }
      ]
    },
    {
      "cell_type": "markdown",
      "metadata": {
        "id": "7eOewi9GZFBb",
        "colab_type": "text"
      },
      "source": [
        "Even though active customer and order count peaked at July 2019, we donot observe the same behaviour in the revenue for Brand A. Customers must be active buying their needs only during the campaign season and de-active for the rest of the month."
      ]
    },
    {
      "cell_type": "markdown",
      "metadata": {
        "id": "HVgblQShmNlP",
        "colab_type": "text"
      },
      "source": [
        "### New Customer Ratio\n",
        "\n",
        "We will be using this metric to check whether we are loosing existing customers or unable to atrack new ones. For the sake of simplicity we define new customer as whoever did the first purchase in the time window of one mount. If the customer makes its first purchase"
      ]
    },
    {
      "cell_type": "code",
      "metadata": {
        "id": "lw2xo9aLnQa2",
        "colab_type": "code",
        "colab": {
          "base_uri": "https://localhost:8080/",
          "height": 394
        },
        "outputId": "ca138648-615f-426e-9bfd-67f920d6a8f1"
      },
      "source": [
        "tx_A['MinPurchaseYearMonth'] = tx_A['FIRST_TRANS_DATE'].map(lambda date: 100*date.year + date.month)\n",
        "tx_A.head()"
      ],
      "execution_count": 133,
      "outputs": [
        {
          "output_type": "execute_result",
          "data": {
            "text/html": [
              "<div>\n",
              "<style scoped>\n",
              "    .dataframe tbody tr th:only-of-type {\n",
              "        vertical-align: middle;\n",
              "    }\n",
              "\n",
              "    .dataframe tbody tr th {\n",
              "        vertical-align: top;\n",
              "    }\n",
              "\n",
              "    .dataframe thead th {\n",
              "        text-align: right;\n",
              "    }\n",
              "</style>\n",
              "<table border=\"1\" class=\"dataframe\">\n",
              "  <thead>\n",
              "    <tr style=\"text-align: right;\">\n",
              "      <th></th>\n",
              "      <th>CUST_ID</th>\n",
              "      <th>RTL_TRANS_ID</th>\n",
              "      <th>TRX_DATE</th>\n",
              "      <th>ITEM_QUANTITY</th>\n",
              "      <th>ITEM_UNIT_PRICE</th>\n",
              "      <th>ITEM_ID</th>\n",
              "      <th>BRAND_NAME</th>\n",
              "      <th>FIRST_TRANS_DATE</th>\n",
              "      <th>LAST_TRANS_DATE</th>\n",
              "      <th>InvoiceYearMonth</th>\n",
              "      <th>Revenue</th>\n",
              "      <th>MinPurchaseYearMonth</th>\n",
              "    </tr>\n",
              "  </thead>\n",
              "  <tbody>\n",
              "    <tr>\n",
              "      <th>0</th>\n",
              "      <td>100010</td>\n",
              "      <td>01114000022017101617382167</td>\n",
              "      <td>2017-10-16 17:38:12</td>\n",
              "      <td>1.0</td>\n",
              "      <td>12.50</td>\n",
              "      <td>12000474</td>\n",
              "      <td>A</td>\n",
              "      <td>2017-10-09 15:00:00</td>\n",
              "      <td>2019-08-26 15:00:00</td>\n",
              "      <td>201710</td>\n",
              "      <td>12.50</td>\n",
              "      <td>201710</td>\n",
              "    </tr>\n",
              "    <tr>\n",
              "      <th>1</th>\n",
              "      <td>1000179</td>\n",
              "      <td>01066000032017100218577142</td>\n",
              "      <td>2017-10-02 18:57:46</td>\n",
              "      <td>1.0</td>\n",
              "      <td>18.50</td>\n",
              "      <td>12000460</td>\n",
              "      <td>A</td>\n",
              "      <td>2017-09-20 15:00:00</td>\n",
              "      <td>2019-08-21 15:00:00</td>\n",
              "      <td>201710</td>\n",
              "      <td>18.50</td>\n",
              "      <td>201709</td>\n",
              "    </tr>\n",
              "    <tr>\n",
              "      <th>2</th>\n",
              "      <td>1000222</td>\n",
              "      <td>01046000032018042220204223</td>\n",
              "      <td>2018-04-22 20:20:29</td>\n",
              "      <td>1.0</td>\n",
              "      <td>13.90</td>\n",
              "      <td>12001143</td>\n",
              "      <td>A</td>\n",
              "      <td>2018-04-22 15:00:00</td>\n",
              "      <td>2019-07-17 15:00:00</td>\n",
              "      <td>201804</td>\n",
              "      <td>13.90</td>\n",
              "      <td>201804</td>\n",
              "    </tr>\n",
              "    <tr>\n",
              "      <th>3</th>\n",
              "      <td>1000280</td>\n",
              "      <td>01378000012019071515204230</td>\n",
              "      <td>2019-07-15 15:20:25</td>\n",
              "      <td>1.0</td>\n",
              "      <td>10.95</td>\n",
              "      <td>12000474</td>\n",
              "      <td>A</td>\n",
              "      <td>2017-10-03 15:00:00</td>\n",
              "      <td>2019-08-07 15:00:00</td>\n",
              "      <td>201907</td>\n",
              "      <td>10.95</td>\n",
              "      <td>201710</td>\n",
              "    </tr>\n",
              "    <tr>\n",
              "      <th>4</th>\n",
              "      <td>100031</td>\n",
              "      <td>01515000012019080610393025</td>\n",
              "      <td>2019-08-06 10:39:19</td>\n",
              "      <td>1.0</td>\n",
              "      <td>19.95</td>\n",
              "      <td>12000475</td>\n",
              "      <td>A</td>\n",
              "      <td>2017-09-23 15:00:00</td>\n",
              "      <td>2019-08-21 15:00:00</td>\n",
              "      <td>201908</td>\n",
              "      <td>19.95</td>\n",
              "      <td>201709</td>\n",
              "    </tr>\n",
              "  </tbody>\n",
              "</table>\n",
              "</div>"
            ],
            "text/plain": [
              "   CUST_ID                RTL_TRANS_ID  ... Revenue  MinPurchaseYearMonth\n",
              "0   100010  01114000022017101617382167  ...   12.50                201710\n",
              "1  1000179  01066000032017100218577142  ...   18.50                201709\n",
              "2  1000222  01046000032018042220204223  ...   13.90                201804\n",
              "3  1000280  01378000012019071515204230  ...   10.95                201710\n",
              "4   100031  01515000012019080610393025  ...   19.95                201709\n",
              "\n",
              "[5 rows x 12 columns]"
            ]
          },
          "metadata": {
            "tags": []
          },
          "execution_count": 133
        }
      ]
    },
    {
      "cell_type": "markdown",
      "metadata": {
        "id": "d6isuKhvbe5F",
        "colab_type": "text"
      },
      "source": [
        "According to our calculations we have found 4484 new and 31881 new customers for Brand A."
      ]
    },
    {
      "cell_type": "code",
      "metadata": {
        "id": "vxUo4pRKEBUX",
        "colab_type": "code",
        "colab": {
          "base_uri": "https://localhost:8080/",
          "height": 68
        },
        "outputId": "2b26f3b9-5a01-426d-8855-02f14decb2ab"
      },
      "source": [
        "#create a column called User Type and assign Existing \n",
        "#if User's First Purchase Year Month before the selected Invoice Year Month\n",
        "tx_A['UserType'] = 'New'\n",
        "tx_A.loc[tx_A['InvoiceYearMonth']>tx_A['MinPurchaseYearMonth'],'UserType'] = 'Existing'\n",
        "tx_A[\"UserType\"].value_counts()"
      ],
      "execution_count": 135,
      "outputs": [
        {
          "output_type": "execute_result",
          "data": {
            "text/plain": [
              "Existing    31881\n",
              "New          4484\n",
              "Name: UserType, dtype: int64"
            ]
          },
          "metadata": {
            "tags": []
          },
          "execution_count": 135
        }
      ]
    },
    {
      "cell_type": "markdown",
      "metadata": {
        "id": "BoBLNMbMcxc_",
        "colab_type": "text"
      },
      "source": [
        "Now, we will look at the revenue breakdown for each group monthly."
      ]
    },
    {
      "cell_type": "code",
      "metadata": {
        "id": "SrK3hKd8E6gr",
        "colab_type": "code",
        "colab": {
          "base_uri": "https://localhost:8080/",
          "height": 1000
        },
        "outputId": "72407c05-47ff-4e71-f873-4101eb234918"
      },
      "source": [
        "#calculate the Revenue per month for each user type\n",
        "tx_user_type_revenue = tx_A.groupby(['InvoiceYearMonth','UserType'])['Revenue'].sum().reset_index()\n",
        "tx_user_type_revenue"
      ],
      "execution_count": 137,
      "outputs": [
        {
          "output_type": "execute_result",
          "data": {
            "text/html": [
              "<div>\n",
              "<style scoped>\n",
              "    .dataframe tbody tr th:only-of-type {\n",
              "        vertical-align: middle;\n",
              "    }\n",
              "\n",
              "    .dataframe tbody tr th {\n",
              "        vertical-align: top;\n",
              "    }\n",
              "\n",
              "    .dataframe thead th {\n",
              "        text-align: right;\n",
              "    }\n",
              "</style>\n",
              "<table border=\"1\" class=\"dataframe\">\n",
              "  <thead>\n",
              "    <tr style=\"text-align: right;\">\n",
              "      <th></th>\n",
              "      <th>InvoiceYearMonth</th>\n",
              "      <th>UserType</th>\n",
              "      <th>Revenue</th>\n",
              "    </tr>\n",
              "  </thead>\n",
              "  <tbody>\n",
              "    <tr>\n",
              "      <th>0</th>\n",
              "      <td>201709</td>\n",
              "      <td>New</td>\n",
              "      <td>7845.33000</td>\n",
              "    </tr>\n",
              "    <tr>\n",
              "      <th>1</th>\n",
              "      <td>201710</td>\n",
              "      <td>Existing</td>\n",
              "      <td>4966.81000</td>\n",
              "    </tr>\n",
              "    <tr>\n",
              "      <th>2</th>\n",
              "      <td>201710</td>\n",
              "      <td>New</td>\n",
              "      <td>11301.04000</td>\n",
              "    </tr>\n",
              "    <tr>\n",
              "      <th>3</th>\n",
              "      <td>201711</td>\n",
              "      <td>Existing</td>\n",
              "      <td>8065.00000</td>\n",
              "    </tr>\n",
              "    <tr>\n",
              "      <th>4</th>\n",
              "      <td>201711</td>\n",
              "      <td>New</td>\n",
              "      <td>5044.06000</td>\n",
              "    </tr>\n",
              "    <tr>\n",
              "      <th>5</th>\n",
              "      <td>201712</td>\n",
              "      <td>Existing</td>\n",
              "      <td>14544.90000</td>\n",
              "    </tr>\n",
              "    <tr>\n",
              "      <th>6</th>\n",
              "      <td>201712</td>\n",
              "      <td>New</td>\n",
              "      <td>5579.50000</td>\n",
              "    </tr>\n",
              "    <tr>\n",
              "      <th>7</th>\n",
              "      <td>201801</td>\n",
              "      <td>Existing</td>\n",
              "      <td>10267.90000</td>\n",
              "    </tr>\n",
              "    <tr>\n",
              "      <th>8</th>\n",
              "      <td>201801</td>\n",
              "      <td>New</td>\n",
              "      <td>2715.90000</td>\n",
              "    </tr>\n",
              "    <tr>\n",
              "      <th>9</th>\n",
              "      <td>201802</td>\n",
              "      <td>Existing</td>\n",
              "      <td>15931.90000</td>\n",
              "    </tr>\n",
              "    <tr>\n",
              "      <th>10</th>\n",
              "      <td>201802</td>\n",
              "      <td>New</td>\n",
              "      <td>2906.30000</td>\n",
              "    </tr>\n",
              "    <tr>\n",
              "      <th>11</th>\n",
              "      <td>201803</td>\n",
              "      <td>Existing</td>\n",
              "      <td>21599.44000</td>\n",
              "    </tr>\n",
              "    <tr>\n",
              "      <th>12</th>\n",
              "      <td>201803</td>\n",
              "      <td>New</td>\n",
              "      <td>3753.83000</td>\n",
              "    </tr>\n",
              "    <tr>\n",
              "      <th>13</th>\n",
              "      <td>201804</td>\n",
              "      <td>Existing</td>\n",
              "      <td>17987.99000</td>\n",
              "    </tr>\n",
              "    <tr>\n",
              "      <th>14</th>\n",
              "      <td>201804</td>\n",
              "      <td>New</td>\n",
              "      <td>2371.54000</td>\n",
              "    </tr>\n",
              "    <tr>\n",
              "      <th>15</th>\n",
              "      <td>201805</td>\n",
              "      <td>Existing</td>\n",
              "      <td>20714.84000</td>\n",
              "    </tr>\n",
              "    <tr>\n",
              "      <th>16</th>\n",
              "      <td>201805</td>\n",
              "      <td>New</td>\n",
              "      <td>2438.65000</td>\n",
              "    </tr>\n",
              "    <tr>\n",
              "      <th>17</th>\n",
              "      <td>201806</td>\n",
              "      <td>Existing</td>\n",
              "      <td>24371.10000</td>\n",
              "    </tr>\n",
              "    <tr>\n",
              "      <th>18</th>\n",
              "      <td>201806</td>\n",
              "      <td>New</td>\n",
              "      <td>2958.70000</td>\n",
              "    </tr>\n",
              "    <tr>\n",
              "      <th>19</th>\n",
              "      <td>201807</td>\n",
              "      <td>Existing</td>\n",
              "      <td>19670.30000</td>\n",
              "    </tr>\n",
              "    <tr>\n",
              "      <th>20</th>\n",
              "      <td>201807</td>\n",
              "      <td>New</td>\n",
              "      <td>1429.00000</td>\n",
              "    </tr>\n",
              "    <tr>\n",
              "      <th>21</th>\n",
              "      <td>201808</td>\n",
              "      <td>Existing</td>\n",
              "      <td>29960.40000</td>\n",
              "    </tr>\n",
              "    <tr>\n",
              "      <th>22</th>\n",
              "      <td>201808</td>\n",
              "      <td>New</td>\n",
              "      <td>2325.00000</td>\n",
              "    </tr>\n",
              "    <tr>\n",
              "      <th>23</th>\n",
              "      <td>201809</td>\n",
              "      <td>Existing</td>\n",
              "      <td>25786.45000</td>\n",
              "    </tr>\n",
              "    <tr>\n",
              "      <th>24</th>\n",
              "      <td>201809</td>\n",
              "      <td>New</td>\n",
              "      <td>870.70000</td>\n",
              "    </tr>\n",
              "    <tr>\n",
              "      <th>25</th>\n",
              "      <td>201810</td>\n",
              "      <td>Existing</td>\n",
              "      <td>28317.80000</td>\n",
              "    </tr>\n",
              "    <tr>\n",
              "      <th>26</th>\n",
              "      <td>201810</td>\n",
              "      <td>New</td>\n",
              "      <td>1088.30000</td>\n",
              "    </tr>\n",
              "    <tr>\n",
              "      <th>27</th>\n",
              "      <td>201811</td>\n",
              "      <td>Existing</td>\n",
              "      <td>22963.13000</td>\n",
              "    </tr>\n",
              "    <tr>\n",
              "      <th>28</th>\n",
              "      <td>201811</td>\n",
              "      <td>New</td>\n",
              "      <td>825.25000</td>\n",
              "    </tr>\n",
              "    <tr>\n",
              "      <th>29</th>\n",
              "      <td>201812</td>\n",
              "      <td>Existing</td>\n",
              "      <td>34262.79000</td>\n",
              "    </tr>\n",
              "    <tr>\n",
              "      <th>30</th>\n",
              "      <td>201812</td>\n",
              "      <td>New</td>\n",
              "      <td>1022.70000</td>\n",
              "    </tr>\n",
              "    <tr>\n",
              "      <th>31</th>\n",
              "      <td>201901</td>\n",
              "      <td>Existing</td>\n",
              "      <td>17045.70000</td>\n",
              "    </tr>\n",
              "    <tr>\n",
              "      <th>32</th>\n",
              "      <td>201901</td>\n",
              "      <td>New</td>\n",
              "      <td>315.30000</td>\n",
              "    </tr>\n",
              "    <tr>\n",
              "      <th>33</th>\n",
              "      <td>201902</td>\n",
              "      <td>Existing</td>\n",
              "      <td>27750.12000</td>\n",
              "    </tr>\n",
              "    <tr>\n",
              "      <th>34</th>\n",
              "      <td>201902</td>\n",
              "      <td>New</td>\n",
              "      <td>838.60000</td>\n",
              "    </tr>\n",
              "    <tr>\n",
              "      <th>35</th>\n",
              "      <td>201903</td>\n",
              "      <td>Existing</td>\n",
              "      <td>29600.51000</td>\n",
              "    </tr>\n",
              "    <tr>\n",
              "      <th>36</th>\n",
              "      <td>201903</td>\n",
              "      <td>New</td>\n",
              "      <td>874.00000</td>\n",
              "    </tr>\n",
              "    <tr>\n",
              "      <th>37</th>\n",
              "      <td>201904</td>\n",
              "      <td>Existing</td>\n",
              "      <td>25243.29000</td>\n",
              "    </tr>\n",
              "    <tr>\n",
              "      <th>38</th>\n",
              "      <td>201904</td>\n",
              "      <td>New</td>\n",
              "      <td>501.90000</td>\n",
              "    </tr>\n",
              "    <tr>\n",
              "      <th>39</th>\n",
              "      <td>201905</td>\n",
              "      <td>Existing</td>\n",
              "      <td>37595.86003</td>\n",
              "    </tr>\n",
              "    <tr>\n",
              "      <th>40</th>\n",
              "      <td>201905</td>\n",
              "      <td>New</td>\n",
              "      <td>840.60000</td>\n",
              "    </tr>\n",
              "    <tr>\n",
              "      <th>41</th>\n",
              "      <td>201906</td>\n",
              "      <td>Existing</td>\n",
              "      <td>44226.35000</td>\n",
              "    </tr>\n",
              "    <tr>\n",
              "      <th>42</th>\n",
              "      <td>201906</td>\n",
              "      <td>New</td>\n",
              "      <td>1088.50000</td>\n",
              "    </tr>\n",
              "    <tr>\n",
              "      <th>43</th>\n",
              "      <td>201907</td>\n",
              "      <td>Existing</td>\n",
              "      <td>59231.89000</td>\n",
              "    </tr>\n",
              "    <tr>\n",
              "      <th>44</th>\n",
              "      <td>201907</td>\n",
              "      <td>New</td>\n",
              "      <td>3502.74000</td>\n",
              "    </tr>\n",
              "    <tr>\n",
              "      <th>45</th>\n",
              "      <td>201908</td>\n",
              "      <td>Existing</td>\n",
              "      <td>43643.72000</td>\n",
              "    </tr>\n",
              "    <tr>\n",
              "      <th>46</th>\n",
              "      <td>201908</td>\n",
              "      <td>New</td>\n",
              "      <td>12355.05000</td>\n",
              "    </tr>\n",
              "  </tbody>\n",
              "</table>\n",
              "</div>"
            ],
            "text/plain": [
              "    InvoiceYearMonth  UserType      Revenue\n",
              "0             201709       New   7845.33000\n",
              "1             201710  Existing   4966.81000\n",
              "2             201710       New  11301.04000\n",
              "3             201711  Existing   8065.00000\n",
              "4             201711       New   5044.06000\n",
              "5             201712  Existing  14544.90000\n",
              "6             201712       New   5579.50000\n",
              "7             201801  Existing  10267.90000\n",
              "8             201801       New   2715.90000\n",
              "9             201802  Existing  15931.90000\n",
              "10            201802       New   2906.30000\n",
              "11            201803  Existing  21599.44000\n",
              "12            201803       New   3753.83000\n",
              "13            201804  Existing  17987.99000\n",
              "14            201804       New   2371.54000\n",
              "15            201805  Existing  20714.84000\n",
              "16            201805       New   2438.65000\n",
              "17            201806  Existing  24371.10000\n",
              "18            201806       New   2958.70000\n",
              "19            201807  Existing  19670.30000\n",
              "20            201807       New   1429.00000\n",
              "21            201808  Existing  29960.40000\n",
              "22            201808       New   2325.00000\n",
              "23            201809  Existing  25786.45000\n",
              "24            201809       New    870.70000\n",
              "25            201810  Existing  28317.80000\n",
              "26            201810       New   1088.30000\n",
              "27            201811  Existing  22963.13000\n",
              "28            201811       New    825.25000\n",
              "29            201812  Existing  34262.79000\n",
              "30            201812       New   1022.70000\n",
              "31            201901  Existing  17045.70000\n",
              "32            201901       New    315.30000\n",
              "33            201902  Existing  27750.12000\n",
              "34            201902       New    838.60000\n",
              "35            201903  Existing  29600.51000\n",
              "36            201903       New    874.00000\n",
              "37            201904  Existing  25243.29000\n",
              "38            201904       New    501.90000\n",
              "39            201905  Existing  37595.86003\n",
              "40            201905       New    840.60000\n",
              "41            201906  Existing  44226.35000\n",
              "42            201906       New   1088.50000\n",
              "43            201907  Existing  59231.89000\n",
              "44            201907       New   3502.74000\n",
              "45            201908  Existing  43643.72000\n",
              "46            201908       New  12355.05000"
            ]
          },
          "metadata": {
            "tags": []
          },
          "execution_count": 137
        }
      ]
    },
    {
      "cell_type": "markdown",
      "metadata": {
        "id": "Oc-RyCjniHwM",
        "colab_type": "text"
      },
      "source": [
        "Revenue per month for new and existing customers of Brand A:"
      ]
    },
    {
      "cell_type": "code",
      "metadata": {
        "id": "_ivhrRfxiQgw",
        "colab_type": "code",
        "colab": {
          "base_uri": "https://localhost:8080/",
          "height": 204
        },
        "outputId": "6f12486f-2d6d-438e-b0ff-05b5b6875533"
      },
      "source": [
        "#filtering the dates for the 1st month because all customers are New in that month acc to our calculation\n",
        "tx_user_type_revenue = tx_user_type_revenue.query(\"InvoiceYearMonth != 201709 and InvoiceYearMonth != 201709\")\n",
        "tx_user_type_revenue.tail()"
      ],
      "execution_count": 161,
      "outputs": [
        {
          "output_type": "execute_result",
          "data": {
            "text/html": [
              "<div>\n",
              "<style scoped>\n",
              "    .dataframe tbody tr th:only-of-type {\n",
              "        vertical-align: middle;\n",
              "    }\n",
              "\n",
              "    .dataframe tbody tr th {\n",
              "        vertical-align: top;\n",
              "    }\n",
              "\n",
              "    .dataframe thead th {\n",
              "        text-align: right;\n",
              "    }\n",
              "</style>\n",
              "<table border=\"1\" class=\"dataframe\">\n",
              "  <thead>\n",
              "    <tr style=\"text-align: right;\">\n",
              "      <th></th>\n",
              "      <th>InvoiceYearMonth</th>\n",
              "      <th>UserType</th>\n",
              "      <th>Revenue</th>\n",
              "    </tr>\n",
              "  </thead>\n",
              "  <tbody>\n",
              "    <tr>\n",
              "      <th>42</th>\n",
              "      <td>201906</td>\n",
              "      <td>New</td>\n",
              "      <td>1088.50</td>\n",
              "    </tr>\n",
              "    <tr>\n",
              "      <th>43</th>\n",
              "      <td>201907</td>\n",
              "      <td>Existing</td>\n",
              "      <td>59231.89</td>\n",
              "    </tr>\n",
              "    <tr>\n",
              "      <th>44</th>\n",
              "      <td>201907</td>\n",
              "      <td>New</td>\n",
              "      <td>3502.74</td>\n",
              "    </tr>\n",
              "    <tr>\n",
              "      <th>45</th>\n",
              "      <td>201908</td>\n",
              "      <td>Existing</td>\n",
              "      <td>43643.72</td>\n",
              "    </tr>\n",
              "    <tr>\n",
              "      <th>46</th>\n",
              "      <td>201908</td>\n",
              "      <td>New</td>\n",
              "      <td>12355.05</td>\n",
              "    </tr>\n",
              "  </tbody>\n",
              "</table>\n",
              "</div>"
            ],
            "text/plain": [
              "   InvoiceYearMonth  UserType   Revenue\n",
              "42           201906       New   1088.50\n",
              "43           201907  Existing  59231.89\n",
              "44           201907       New   3502.74\n",
              "45           201908  Existing  43643.72\n",
              "46           201908       New  12355.05"
            ]
          },
          "metadata": {
            "tags": []
          },
          "execution_count": 161
        }
      ]
    },
    {
      "cell_type": "markdown",
      "metadata": {
        "id": "37Apxx-6xmGH",
        "colab_type": "text"
      },
      "source": [
        "Existing customers of Brand A are showing a positive trend until July, 2019 but decreases in August. Still, we can assume that the customer base is growing. New customers have a slight negative trend until May, 2019. Hopefully it shows a positive trend after that month. But still we saw an decreasing trend for monthly revenue and growth rate in our previous plots, because Brand A's core customers are existing customers which outnumbers the new ones and their behaviour dominates. We previously discussed about the possibility of their opting for cheaper hair care products in that specific month. May be a special loyalty program for Brand A works."
      ]
    },
    {
      "cell_type": "code",
      "metadata": {
        "colab_type": "code",
        "outputId": "a246fa59-c716-470d-f54a-44cc8049e231",
        "id": "gpxW5pP4qJYC",
        "colab": {
          "base_uri": "https://localhost:8080/",
          "height": 340
        }
      },
      "source": [
        "fig, ax = plt.subplots(1, 1)\n",
        "tx_user_type_revenue[\"InvoiceYearMonth\"] =tx_user_type_revenue[\"InvoiceYearMonth\"].astype(str)\n",
        "tx_user_type_revenue[tx_user_type_revenue.UserType == \"Existing\"].plot(x = \"InvoiceYearMonth\",\n",
        "                                                                            y = \"Revenue\",\n",
        "                                                                            color = \"darkorange\",\n",
        "                                                                            label = \"Existing\",\n",
        "                                                                            marker='.',\n",
        "                                                                            linewidth=2,\n",
        "                                                                            alpha=1, ax=ax)\n",
        "tx_user_type_revenue[tx_user_type_revenue.UserType == \"New\"].plot(x = \"InvoiceYearMonth\",\n",
        "                                                                       y = \"Revenue\",\n",
        "                                                                       color=\"orangered\",\n",
        "                                                                       label = \"New\",\n",
        "                                                                       marker='.',\n",
        "                                                                       linewidth=2,\n",
        "                                                                      alpha=1, ax=ax)\n",
        "ax.tick_params(axis ='x', rotation =90)\n",
        "ax.set_visible(True)\n",
        "ax.set_title('Revenue per Month for New and Existing Customers')\n",
        "ax.set_ylabel('Revenue')\n",
        "ax.set_xlabel('Year-Month')\n",
        "# set ticks visible, if using sharex = True. Not needed otherwise\n"
      ],
      "execution_count": 165,
      "outputs": [
        {
          "output_type": "execute_result",
          "data": {
            "text/plain": [
              "Text(0.5, 0, 'Year-Month')"
            ]
          },
          "metadata": {
            "tags": []
          },
          "execution_count": 165
        },
        {
          "output_type": "display_data",
          "data": {
            "image/png": "[encoded data removed]",
            "text/plain": [
              "<Figure size 432x288 with 1 Axes>"
            ]
          },
          "metadata": {
            "tags": []
          }
        }
      ]
    },
    {
      "cell_type": "markdown",
      "metadata": {
        "id": "a7R6nDoZ7t13",
        "colab_type": "text"
      },
      "source": [
        ""
      ]
    },
    {
      "cell_type": "code",
      "metadata": {
        "id": "A-c_mLYs7wd7",
        "colab_type": "code",
        "colab": {}
      },
      "source": [
        ""
      ],
      "execution_count": 0,
      "outputs": []
    },
    {
      "cell_type": "markdown",
      "metadata": {
        "id": "bZYJIOAw21vN",
        "colab_type": "text"
      },
      "source": [
        "## References\n",
        "\n",
        "1. [Know Your Metrics](https://towardsdatascience.com/data-driven-growth-with-python-part-1-know-your-metrics-812781e66a5b)\n",
        "2. [Find Your Best Customers with Customer Segmentation in Python](https://towardsdatascience.com/find-your-best-customers-with-customer-segmentation-in-python-61d602f9eee6)\n",
        "3. [İndirim Oranı Belli Oldu! İşte 2019 Gratis İndirim Günleri](https://www.modaizle.com/indirim-orani-belli-oldu-iste-2019-gratis-indirim-gunleri/)\n",
        "4. [Gratis 2018 yılbaşı indirimleri 22-31 Aralık](https://kampanyabul.org/magaza-market-kampanyalari/gratis-2018-yilbasi-indirimleri-22-31-aralik.html)\n",
        "5. [Gratis Şubat indirim kataloğu 2019! Sevgililer günü indirimi başladı mı?](https://www.superhaber.tv/gratis-subat-indirim-katalogu-2019-gratis-sevgililer-gunu-indirimi-basladi-mi-gratis-indirimi-ne-zamana-kadar-hangi-urunlerde-haber-172777)"
      ]
    }
  ]
}