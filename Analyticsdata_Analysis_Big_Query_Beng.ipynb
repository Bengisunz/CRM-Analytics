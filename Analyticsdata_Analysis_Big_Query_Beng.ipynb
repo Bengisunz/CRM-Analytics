{
  "nbformat": 4,
  "nbformat_minor": 0,
  "metadata": {
    "colab": {
      "name": "Analyticsdata_Analysis_Big_Query_Beng",
      "provenance": [],
      "collapsed_sections": [
        "EXDsDiuIDfra",
        "mlEAWtvysOd0",
        "TdRccYXGPGq2",
        "_dt23KyuysdS",
        "zENm0p7vJhjb"
      ],
      "include_colab_link": true
    },
    "kernelspec": {
      "name": "python3",
      "display_name": "Python 3"
    },
    "accelerator": "GPU"
  },
  "cells": [
    {
      "cell_type": "markdown",
      "metadata": {
        "id": "view-in-github",
        "colab_type": "text"
      },
      "source": [
        "<a href=\"https://colab.research.google.com/github/Bengisunz/CRM-Analytics/blob/master/Analyticsdata_Analysis_Big_Query_Beng.ipynb\" target=\"_parent\"><img src=\"https://colab.research.google.com/assets/colab-badge.svg\" alt=\"Open In Colab\"/></a>"
      ]
    },
    {
      "cell_type": "markdown",
      "metadata": {
        "id": "EXDsDiuIDfra",
        "colab_type": "text"
      },
      "source": [
        "# Introduction"
      ]
    },
    {
      "cell_type": "markdown",
      "metadata": {
        "id": "pBHsJi_ZDtgT",
        "colab_type": "text"
      },
      "source": [
        "Bengisu Öniz\n",
        "\n",
        "13.11.2019"
      ]
    },
    {
      "cell_type": "markdown",
      "metadata": {
        "id": "mlEAWtvysOd0",
        "colab_type": "text"
      },
      "source": [
        "\n",
        "##About the Data & Case"
      ]
    },
    {
      "cell_type": "markdown",
      "metadata": {
        "id": "E5SLpgZHspV_",
        "colab_type": "text"
      },
      "source": [
        "The table is:\n",
        "bigquery-public-data:google_analytics_sample.ga_sessions_20170801\n"
      ]
    },
    {
      "cell_type": "markdown",
      "metadata": {
        "id": "FWbGvXq_st-P",
        "colab_type": "text"
      },
      "source": [
        "**Questions**\n",
        "\n",
        "1. How many sessions do users create on average within the day?\n",
        "2. What is the conversion rate per traffic medium?\n",
        "3. How many hits do users generate per visit on average on the platform? \n",
        "4. What is the top 5 country in terms of the amount of traffic (visits)\n",
        "\n",
        "5. How much time passes until users click on a product (hits.eventInfo.eventAction = 'Product Click')?\n",
        "\n",
        "Using Python or R (You can query the columns you need for each analysis from BigQuery and then export them as CSV and load into Python or R. The aggregation level should be ideally one row per each visit.):\n",
        "\n",
        "6. Visualise the visits per hour of the day.\n",
        "7. What is the peak hour for visits with transactions? Annotate it on the plot of Task 6.\n",
        "8. Plot a histogram of time spent on the platform.\n",
        "9. Do you see any correlation between time spent on the platform and the total revenue? Try to explain with a plot and comment on it.\n",
        "\n"
      ]
    },
    {
      "cell_type": "markdown",
      "metadata": {
        "id": "D79nskEHWz-9",
        "colab_type": "text"
      },
      "source": [
        "l want to check the main metrics of the web page at first.\n"
      ]
    },
    {
      "cell_type": "markdown",
      "metadata": {
        "id": "jd8bdPi-J2CO",
        "colab_type": "text"
      },
      "source": [
        "| date  |visits   |pageviews  |transactions |revenue\n",
        "|:--:|:--:|:--:|:--:|:--:|\n",
        "| 20170801|\t2556\t|10939|\t45\t|8304.94  |"
      ]
    },
    {
      "cell_type": "markdown",
      "metadata": {
        "id": "TdRccYXGPGq2",
        "colab_type": "text"
      },
      "source": [
        "## Downloading Neccasary Python Libraries"
      ]
    },
    {
      "cell_type": "code",
      "metadata": {
        "id": "MSQUQWbgYmgx",
        "colab_type": "code",
        "outputId": "238cca3e-58af-4e53-8672-922c2d057219",
        "cellView": "form",
        "colab": {
          "base_uri": "https://localhost:8080/",
          "height": 125
        }
      },
      "source": [
        "#@title\n",
        "# Google Drive  ortamına bağlanma\n",
        "from google.colab import drive\n",
        "drive.mount('/content/drive')"
      ],
      "execution_count": 1,
      "outputs": [
        {
          "output_type": "stream",
          "text": [
            "Go to this URL in a browser: https://accounts.google.com/o/oauth2/auth?client_id=947318989803-6bn6qk8qdgf4n4g3pfee6491hc0brc4i.apps.googleusercontent.com&redirect_uri=urn%3Aietf%3Awg%3Aoauth%3A2.0%3Aoob&scope=email%20https%3A%2F%2Fwww.googleapis.com%2Fauth%2Fdocs.test%20https%3A%2F%2Fwww.googleapis.com%2Fauth%2Fdrive%20https%3A%2F%2Fwww.googleapis.com%2Fauth%2Fdrive.photos.readonly%20https%3A%2F%2Fwww.googleapis.com%2Fauth%2Fpeopleapi.readonly&response_type=code\n",
            "\n",
            "Enter your authorization code:\n",
            "··········\n",
            "Mounted at /content/drive\n"
          ],
          "name": "stdout"
        }
      ]
    },
    {
      "cell_type": "code",
      "metadata": {
        "id": "J3A31s8lZmYD",
        "colab_type": "code",
        "cellView": "form",
        "colab": {}
      },
      "source": [
        "#@title\n",
        "import pandas as pd\n",
        "import numpy as np\n",
        "import matplotlib.pyplot as plt\n",
        "import seaborn as sns\n",
        "import plotly.express as px\n",
        "from matplotlib.pyplot import figure\n",
        "import plotly.graph_objects as go\n",
        "from datetime import datetime\n",
        "\n",
        "\n",
        "%matplotlib inline\n",
        "\n",
        "plt.style.use(\"seaborn-notebook\")"
      ],
      "execution_count": 0,
      "outputs": []
    },
    {
      "cell_type": "markdown",
      "metadata": {
        "id": "_dt23KyuysdS",
        "colab_type": "text"
      },
      "source": [
        "## 1. How many sessions do users create on average within the day? \n"
      ]
    },
    {
      "cell_type": "markdown",
      "metadata": {
        "id": "GX3garnm3z5t",
        "colab_type": "text"
      },
      "source": [
        "| Row  |AVG_Sessions   |\n",
        "|:--:|:--:|\n",
        "|  1 | 1.1146  |\n"
      ]
    },
    {
      "cell_type": "markdown",
      "metadata": {
        "id": "0JjhQGgIbWBg",
        "colab_type": "text"
      },
      "source": [
        "Average sessions user create within the day is 1.12"
      ]
    },
    {
      "cell_type": "markdown",
      "metadata": {
        "id": "m6AYotkczm6H",
        "colab_type": "text"
      },
      "source": [
        "  \n",
        "# 2. What is the conversion rate per traffic medium? "
      ]
    },
    {
      "cell_type": "markdown",
      "metadata": {
        "id": "IAXsHbxAMoYN",
        "colab_type": "text"
      },
      "source": [
        "| Conversion_rate  | trafficSource_medium  |\n",
        "|--:|---|\n",
        "|   0.019390581717451522|  \t(none) |\n",
        "| 0.003194888178913738\t|  referral    |\n",
        "|  0.0 | \torganic |   |\n",
        "| 0.0\t|  cpm  |   |\n",
        "| 0.0\t|  affiliate    |"
      ]
    },
    {
      "cell_type": "markdown",
      "metadata": {
        "id": "9ZECoI8Vzv2D",
        "colab_type": "text"
      },
      "source": [
        "#3. How many hits do users generate per visit on average on the platform?\n"
      ]
    },
    {
      "cell_type": "markdown",
      "metadata": {
        "id": "xZYFu4jfUcyx",
        "colab_type": "text"
      },
      "source": [
        "Average of the hits user generate per visit is\t4.85"
      ]
    },
    {
      "cell_type": "markdown",
      "metadata": {
        "id": "T7r8AQftztj6",
        "colab_type": "text"
      },
      "source": [
        "# 4. What is the top 5 country in terms of the amount of traffic (visits)? "
      ]
    },
    {
      "cell_type": "markdown",
      "metadata": {
        "id": "14g9mYNCO94k",
        "colab_type": "text"
      },
      "source": [
        "| Country  | Visits  |\n",
        "|--:|---|\n",
        "|   United States|  \t1287 |\n",
        "| India\t|  155    |\n",
        "|  United Kingdom | \t142 |   |\n",
        "| Germany\t|  91  |   |\n",
        "| Canada\t|  85    |\n"
      ]
    },
    {
      "cell_type": "markdown",
      "metadata": {
        "id": "dntVGdZxzttK",
        "colab_type": "text"
      },
      "source": [
        "# 5. How much time passes until users click on a product (hits.eventInfo.eventAction = 'Product Click')? "
      ]
    },
    {
      "cell_type": "code",
      "metadata": {
        "id": "nPyEfT8nMxKz",
        "colab_type": "code",
        "cellView": "form",
        "colab": {
          "base_uri": "https://localhost:8080/",
          "height": 197
        },
        "outputId": "8b6364d4-374b-44c3-db88-17e307e0c257"
      },
      "source": [
        "#@title About the data\n",
        "\n",
        "path = \"/content/drive/My Drive/dh_data/q5_data.csv\"\n",
        "data = pd.read_csv(path)\n",
        "data.head()\n"
      ],
      "execution_count": 88,
      "outputs": [
        {
          "output_type": "execute_result",
          "data": {
            "text/html": [
              "<div>\n",
              "<style scoped>\n",
              "    .dataframe tbody tr th:only-of-type {\n",
              "        vertical-align: middle;\n",
              "    }\n",
              "\n",
              "    .dataframe tbody tr th {\n",
              "        vertical-align: top;\n",
              "    }\n",
              "\n",
              "    .dataframe thead th {\n",
              "        text-align: right;\n",
              "    }\n",
              "</style>\n",
              "<table border=\"1\" class=\"dataframe\">\n",
              "  <thead>\n",
              "    <tr style=\"text-align: right;\">\n",
              "      <th></th>\n",
              "      <th>fullVisitorId</th>\n",
              "      <th>visitid</th>\n",
              "      <th>visitStartTime</th>\n",
              "      <th>hits_time</th>\n",
              "      <th>start_time12</th>\n",
              "      <th>hits_time12</th>\n",
              "    </tr>\n",
              "  </thead>\n",
              "  <tbody>\n",
              "    <tr>\n",
              "      <th>0</th>\n",
              "      <td>138058039294367332</td>\n",
              "      <td>1501628807</td>\n",
              "      <td>1501628807</td>\n",
              "      <td>0</td>\n",
              "      <td>2017-08-01 23:06:47 UTC</td>\n",
              "      <td>2017-08-01 23:06:47 UTC</td>\n",
              "    </tr>\n",
              "    <tr>\n",
              "      <th>1</th>\n",
              "      <td>7605971862730185115</td>\n",
              "      <td>1501580187</td>\n",
              "      <td>1501580187</td>\n",
              "      <td>37012</td>\n",
              "      <td>2017-08-01 09:36:27 UTC</td>\n",
              "      <td>2017-08-01 09:37:04.012 UTC</td>\n",
              "    </tr>\n",
              "    <tr>\n",
              "      <th>2</th>\n",
              "      <td>4107476716931948379</td>\n",
              "      <td>1501574999</td>\n",
              "      <td>1501574999</td>\n",
              "      <td>36298</td>\n",
              "      <td>2017-08-01 08:09:59 UTC</td>\n",
              "      <td>2017-08-01 08:10:35.298 UTC</td>\n",
              "    </tr>\n",
              "    <tr>\n",
              "      <th>3</th>\n",
              "      <td>1792126295682358590</td>\n",
              "      <td>1501577127</td>\n",
              "      <td>1501577127</td>\n",
              "      <td>36749</td>\n",
              "      <td>2017-08-01 08:45:27 UTC</td>\n",
              "      <td>2017-08-01 08:46:03.749 UTC</td>\n",
              "    </tr>\n",
              "    <tr>\n",
              "      <th>4</th>\n",
              "      <td>1281234459613429134</td>\n",
              "      <td>1501586692</td>\n",
              "      <td>1501586692</td>\n",
              "      <td>25834</td>\n",
              "      <td>2017-08-01 11:24:52 UTC</td>\n",
              "      <td>2017-08-01 11:25:17.834 UTC</td>\n",
              "    </tr>\n",
              "  </tbody>\n",
              "</table>\n",
              "</div>"
            ],
            "text/plain": [
              "         fullVisitorId  ...                  hits_time12\n",
              "0   138058039294367332  ...      2017-08-01 23:06:47 UTC\n",
              "1  7605971862730185115  ...  2017-08-01 09:37:04.012 UTC\n",
              "2  4107476716931948379  ...  2017-08-01 08:10:35.298 UTC\n",
              "3  1792126295682358590  ...  2017-08-01 08:46:03.749 UTC\n",
              "4  1281234459613429134  ...  2017-08-01 11:25:17.834 UTC\n",
              "\n",
              "[5 rows x 6 columns]"
            ]
          },
          "metadata": {
            "tags": []
          },
          "execution_count": 88
        }
      ]
    },
    {
      "cell_type": "code",
      "metadata": {
        "id": "p--5ouXWzC8S",
        "colab_type": "code",
        "colab": {},
        "cellView": "form"
      },
      "source": [
        "#@title Verifying the times differences \n",
        "\n",
        "list_hits=[]\n",
        "for i in range(len(data[\"hits_time12\"])):\n",
        "  time = data[\"hits_time12\"].loc[i][:-4]\n",
        "  list_hits.append(time)\n",
        "\n",
        "\n",
        "list_hits_date=[]\n",
        "for i in range(len(list_hits)):\n",
        "  if len(list_hits[i]) == 19: #without micro seconds \n",
        "    time_short = datetime.strptime(list_hits[i], '%Y-%m-%d %H:%M:%S')\n",
        "    list_hits_date.append(time_short)\n",
        "  else:\n",
        "    time = datetime.strptime(list_hits[i], '%Y-%m-%d %H:%M:%S.%f')\n",
        "    list_hits_date.append(time)  \n",
        "\n",
        "\n",
        "data[\"hits_time_format\"] = list_hits_date   \n",
        "\n",
        "list_startime=[]\n",
        "for i in range(len(data[\"start_time12\"])):\n",
        "  time = data[\"start_time12\"].loc[i][:-4]\n",
        "  list_startime.append(time)\n",
        "\n",
        "\n",
        "list_starttime_date=[]\n",
        "for i in range(len(list_startime)):\n",
        "  if len(list_startime[i]) == 19: #without micro seconds \n",
        "    time_short = datetime.strptime(list_startime[i], '%Y-%m-%d %H:%M:%S')\n",
        "    list_starttime_date.append(time_short)\n",
        "  else:\n",
        "    time = datetime.strptime(list_startime[i], '%Y-%m-%d %H:%M:%S.%f')\n",
        "    list_starttime_date.append(time)\n",
        "\n",
        "data[\"visits_time_format\"] = list_starttime_date \n",
        "\n",
        "differences=[]\n",
        "for i in range(len(list_starttime_date)):\n",
        "    diff= (list_hits_date[i] - list_starttime_date[i]).total_seconds()\n",
        "    differences.append(diff)\n",
        "\n",
        "data[\"differences\"] = differences     \n",
        "\n",
        "mean_diff_per_visitor = data.groupby(\"fullVisitorId\").mean()[[\"differences\"]]\n",
        "mean_diff_per_visitor.sample(10)"
      ],
      "execution_count": 0,
      "outputs": []
    },
    {
      "cell_type": "code",
      "metadata": {
        "id": "v1sLQwcNBckI",
        "colab_type": "code",
        "colab": {
          "base_uri": "https://localhost:8080/",
          "height": 176
        },
        "cellView": "form",
        "outputId": "211c0149-57cd-4fbe-b84b-dcc283796944"
      },
      "source": [
        "#@title Basic Stattistics of the time passes until users click on a product\n",
        "data[\"differences\"].describe()"
      ],
      "execution_count": 96,
      "outputs": [
        {
          "output_type": "execute_result",
          "data": {
            "text/plain": [
              "count     411.000000\n",
              "mean      489.200579\n",
              "std       717.511784\n",
              "min         0.000000\n",
              "25%        85.559000\n",
              "50%       221.681000\n",
              "75%       617.646500\n",
              "max      5376.459000\n",
              "Name: differences, dtype: float64"
            ]
          },
          "metadata": {
            "tags": []
          },
          "execution_count": 96
        }
      ]
    },
    {
      "cell_type": "markdown",
      "metadata": {
        "id": "o15wat8EBzGi",
        "colab_type": "text"
      },
      "source": [
        "**Average time passes for users to click on a product after they start to be active on the site is 489 seconds. % 75 of the visiters click on a product after 618 seconds after they visit to platfrom.**\n",
        "\n",
        "\n"
      ]
    },
    {
      "cell_type": "code",
      "metadata": {
        "id": "rWZXmQMRBJ0X",
        "colab_type": "code",
        "colab": {
          "base_uri": "https://localhost:8080/",
          "height": 616
        },
        "cellView": "form",
        "outputId": "586f2b40-295e-400a-cd28-062793606180"
      },
      "source": [
        "#@title Histogram of Time Passes until Users Click on a Product\n",
        "\n",
        "fig = px.histogram(data, x=\"differences\", nbins=100)\n",
        "fig.show()"
      ],
      "execution_count": 95,
      "outputs": [
        {
          "output_type": "display_data",
          "data": {
            "text/html": [
              "<html>\n",
              "<head><meta charset=\"utf-8\" /></head>\n",
              "<body>\n",
              "    <div>\n",
              "            <script src=\"https://cdnjs.cloudflare.com/ajax/libs/mathjax/2.7.5/MathJax.js?config=TeX-AMS-MML_SVG\"></script><script type=\"text/javascript\">if (window.MathJax) {MathJax.Hub.Config({SVG: {font: \"STIX-Web\"}});}</script>\n",
              "                <script type=\"text/javascript\">window.PlotlyConfig = {MathJaxConfig: 'local'};</script>\n",
              "        <script src=\"https://cdn.plot.ly/plotly-latest.min.js\"></script>    \n",
              "            <div id=\"a9d7f5cd-e651-47bf-b4da-0b63aa68df51\" class=\"plotly-graph-div\" style=\"height:600px; width:100%;\"></div>\n",
              "            <script type=\"text/javascript\">\n",
              "                \n",
              "                    window.PLOTLYENV=window.PLOTLYENV || {};\n",
              "                    \n",
              "                if (document.getElementById(\"a9d7f5cd-e651-47bf-b4da-0b63aa68df51\")) {\n",
              "                    Plotly.newPlot(\n",
              "                        'a9d7f5cd-e651-47bf-b4da-0b63aa68df51',\n",
              "                        [{\"alignmentgroup\": \"True\", \"bingroup\": \"x\", \"hoverlabel\": {\"namelength\": 0}, \"hovertemplate\": \"differences=%{x}<br>count=%{y}\", \"legendgroup\": \"\", \"marker\": {\"color\": \"#636efa\"}, \"name\": \"\", \"nbinsx\": 100, \"offsetgroup\": \"\", \"orientation\": \"v\", \"showlegend\": false, \"type\": \"histogram\", \"x\": [0.0, 37.012, 36.298, 36.749, 25.834, 38.4, 188.269, 56.109, 98.188, 18.995, 55.63, 28.593, 45.348, 57.431, 3.392, 35.315, 9.592, 300.817, 9.302, 26.096, 200.414, 10.699, 16.107, 21.11, 23.905, 11.346, 12.55, 54.582, 83.984, 42.626, 90.254, 40.576, 163.097, 46.592, 28.254, 127.167, 214.503, 26.58, 77.786, 947.37, 947.563, 206.015, 109.396, 186.127, 20.22, 178.68, 28.256, 84.901, 65.052, 433.235, 17.254, 116.923, 12.294, 119.771, 45.141, 33.982, 85.135, 27.072, 68.582, 204.854, 36.493, 106.575, 128.187, 34.471, 21.04, 170.397, 168.32, 106.182, 221.783, 532.267, 278.155, 339.978, 423.075, 744.041, 747.42, 106.146, 13.046, 120.63, 209.632, 87.229, 35.3, 39.74, 200.792, 526.212, 95.329, 94.478, 291.73, 290.013, 44.529, 243.694, 190.672, 108.393, 158.615, 505.796, 488.972, 269.616, 50.447, 82.044, 123.367, 173.087, 67.881, 179.859, 665.304, 138.813, 68.154, 265.055, 164.233, 106.312, 173.002, 64.771, 139.258, 104.413, 558.848, 352.641, 426.964, 154.739, 245.246, 34.804, 150.165, 115.889, 217.042, 267.135, 20.268, 326.549, 372.128, 19.249, 664.977, 55.796, 109.202, 158.221, 238.689, 0.0, 728.716, 43.544, 123.065, 68.966, 366.019, 789.759, 183.674, 184.826, 249.125, 17.868, 296.573, 92.524, 64.53, 96.187, 125.783, 58.796, 122.307, 239.48, 33.248, 71.005, 99.12, 238.481, 114.339, 260.292, 249.796, 288.923, 213.932, 198.589, 49.328, 117.702, 162.263, 151.039, 200.62, 259.887, 261.558, 62.952, 64.081, 64.881, 66.022, 78.911, 245.294, 172.542, 165.606, 190.613, 256.115, 360.484, 150.689, 141.048, 210.665, 371.734, 171.452, 74.569, 75.598, 153.488, 373.136, 93.735, 233.574, 23.184, 466.086, 480.317, 501.088, 53.492, 74.025, 102.074, 642.311, 674.003, 481.865, 140.624, 299.443, 563.253, 728.783, 56.361, 455.826, 304.872, 316.228, 388.637, 474.385, 1201.842, 896.379, 75.843, 746.658, 28.587, 49.275, 82.879, 199.361, 109.562, 16.969, 71.111, 236.411, 437.708, 754.415, 22.751, 59.598, 1351.862, 112.435, 178.808, 162.108, 367.588, 381.832, 405.234, 1172.873, 156.527, 85.314, 140.945, 202.44, 118.262, 348.362, 323.081, 65.117, 239.317, 259.126, 318.18, 872.045, 46.561, 86.689, 187.047, 260.137, 296.114, 338.846, 353.084, 288.344, 327.614, 424.6, 85.804, 147.204, 200.218, 293.436, 92.592, 131.244, 163.186, 431.124, 460.472, 589.834, 65.138, 71.772, 80.817, 59.504, 337.896, 337.986, 803.698, 92.472, 152.38, 183.205, 234.201, 866.763, 1644.385, 144.231, 778.279, 194.975, 260.304, 78.181, 355.457, 390.388, 44.22, 751.978, 237.113, 309.049, 395.902, 112.3, 3854.141, 4211.746, 4374.306, 1190.536, 682.989, 729.2, 748.187, 771.487, 784.809, 884.782, 914.435, 269.45, 447.7, 696.0, 3656.005, 37.083, 82.337, 164.298, 202.53, 584.825, 621.832, 1248.799, 288.961, 3125.556, 3198.036, 3505.628, 230.448, 523.616, 844.605, 1205.052, 1222.553, 1231.764, 1243.196, 1306.359, 1317.899, 1350.905, 1692.336, 168.734, 219.64, 249.044, 291.861, 325.888, 599.985, 634.898, 1459.212, 1576.907, 1723.442, 2117.186, 5376.459, 84.7, 84.726, 145.083, 221.681, 1520.644, 1636.692, 1744.636, 108.709, 1128.135, 1197.056, 1267.058, 85.008, 162.83, 225.919, 765.347, 844.006, 859.246, 874.613, 1193.645, 1266.083, 1346.453, 19.809, 339.588, 510.812, 575.243, 613.461, 640.301, 698.866, 715.042, 731.946, 788.803, 963.254, 1045.167, 1138.227, 1277.801, 1391.491, 1641.234, 2371.662, 137.445, 146.688, 512.804, 652.17, 685.999, 726.18, 764.66, 861.07, 71.988, 292.803, 1537.505, 1617.694, 1853.696, 1912.593, 2219.322, 2356.03, 2387.794, 2407.658, 262.298, 307.216, 339.637, 430.088, 780.963, 1016.986, 1046.431, 1211.482, 3866.154, 480.547, 2042.017, 2396.512, 2779.419, 62.481, 648.2], \"xaxis\": \"x\", \"yaxis\": \"y\"}],\n",
              "                        {\"barmode\": \"relative\", \"height\": 600, \"legend\": {\"tracegroupgap\": 0}, \"margin\": {\"t\": 60}, \"template\": {\"data\": {\"bar\": [{\"error_x\": {\"color\": \"#2a3f5f\"}, \"error_y\": {\"color\": \"#2a3f5f\"}, \"marker\": {\"line\": {\"color\": \"#E5ECF6\", \"width\": 0.5}}, \"type\": \"bar\"}], \"barpolar\": [{\"marker\": {\"line\": {\"color\": \"#E5ECF6\", \"width\": 0.5}}, \"type\": \"barpolar\"}], \"carpet\": [{\"aaxis\": {\"endlinecolor\": \"#2a3f5f\", \"gridcolor\": \"white\", \"linecolor\": \"white\", \"minorgridcolor\": \"white\", \"startlinecolor\": \"#2a3f5f\"}, \"baxis\": {\"endlinecolor\": \"#2a3f5f\", \"gridcolor\": \"white\", \"linecolor\": \"white\", \"minorgridcolor\": \"white\", \"startlinecolor\": \"#2a3f5f\"}, \"type\": \"carpet\"}], \"choropleth\": [{\"colorbar\": {\"outlinewidth\": 0, \"ticks\": \"\"}, \"type\": \"choropleth\"}], \"contour\": [{\"colorbar\": {\"outlinewidth\": 0, \"ticks\": \"\"}, \"colorscale\": [[0.0, \"#0d0887\"], [0.1111111111111111, \"#46039f\"], [0.2222222222222222, \"#7201a8\"], [0.3333333333333333, \"#9c179e\"], [0.4444444444444444, \"#bd3786\"], [0.5555555555555556, \"#d8576b\"], [0.6666666666666666, \"#ed7953\"], [0.7777777777777778, \"#fb9f3a\"], [0.8888888888888888, \"#fdca26\"], [1.0, \"#f0f921\"]], \"type\": \"contour\"}], \"contourcarpet\": [{\"colorbar\": {\"outlinewidth\": 0, \"ticks\": \"\"}, \"type\": \"contourcarpet\"}], \"heatmap\": [{\"colorbar\": {\"outlinewidth\": 0, \"ticks\": \"\"}, \"colorscale\": [[0.0, \"#0d0887\"], [0.1111111111111111, \"#46039f\"], [0.2222222222222222, \"#7201a8\"], [0.3333333333333333, \"#9c179e\"], [0.4444444444444444, \"#bd3786\"], [0.5555555555555556, \"#d8576b\"], [0.6666666666666666, \"#ed7953\"], [0.7777777777777778, \"#fb9f3a\"], [0.8888888888888888, \"#fdca26\"], [1.0, \"#f0f921\"]], \"type\": \"heatmap\"}], \"heatmapgl\": [{\"colorbar\": {\"outlinewidth\": 0, \"ticks\": \"\"}, \"colorscale\": [[0.0, \"#0d0887\"], [0.1111111111111111, \"#46039f\"], [0.2222222222222222, \"#7201a8\"], [0.3333333333333333, \"#9c179e\"], [0.4444444444444444, \"#bd3786\"], [0.5555555555555556, \"#d8576b\"], [0.6666666666666666, \"#ed7953\"], [0.7777777777777778, \"#fb9f3a\"], [0.8888888888888888, \"#fdca26\"], [1.0, \"#f0f921\"]], \"type\": \"heatmapgl\"}], \"histogram\": [{\"marker\": {\"colorbar\": {\"outlinewidth\": 0, \"ticks\": \"\"}}, \"type\": \"histogram\"}], \"histogram2d\": [{\"colorbar\": {\"outlinewidth\": 0, \"ticks\": \"\"}, \"colorscale\": [[0.0, \"#0d0887\"], [0.1111111111111111, \"#46039f\"], [0.2222222222222222, \"#7201a8\"], [0.3333333333333333, \"#9c179e\"], [0.4444444444444444, \"#bd3786\"], [0.5555555555555556, \"#d8576b\"], [0.6666666666666666, \"#ed7953\"], [0.7777777777777778, \"#fb9f3a\"], [0.8888888888888888, \"#fdca26\"], [1.0, \"#f0f921\"]], \"type\": \"histogram2d\"}], \"histogram2dcontour\": [{\"colorbar\": {\"outlinewidth\": 0, \"ticks\": \"\"}, \"colorscale\": [[0.0, \"#0d0887\"], [0.1111111111111111, \"#46039f\"], [0.2222222222222222, \"#7201a8\"], [0.3333333333333333, \"#9c179e\"], [0.4444444444444444, \"#bd3786\"], [0.5555555555555556, \"#d8576b\"], [0.6666666666666666, \"#ed7953\"], [0.7777777777777778, \"#fb9f3a\"], [0.8888888888888888, \"#fdca26\"], [1.0, \"#f0f921\"]], \"type\": \"histogram2dcontour\"}], \"mesh3d\": [{\"colorbar\": {\"outlinewidth\": 0, \"ticks\": \"\"}, \"type\": \"mesh3d\"}], \"parcoords\": [{\"line\": {\"colorbar\": {\"outlinewidth\": 0, \"ticks\": \"\"}}, \"type\": \"parcoords\"}], \"scatter\": [{\"marker\": {\"colorbar\": {\"outlinewidth\": 0, \"ticks\": \"\"}}, \"type\": \"scatter\"}], \"scatter3d\": [{\"line\": {\"colorbar\": {\"outlinewidth\": 0, \"ticks\": \"\"}}, \"marker\": {\"colorbar\": {\"outlinewidth\": 0, \"ticks\": \"\"}}, \"type\": \"scatter3d\"}], \"scattercarpet\": [{\"marker\": {\"colorbar\": {\"outlinewidth\": 0, \"ticks\": \"\"}}, \"type\": \"scattercarpet\"}], \"scattergeo\": [{\"marker\": {\"colorbar\": {\"outlinewidth\": 0, \"ticks\": \"\"}}, \"type\": \"scattergeo\"}], \"scattergl\": [{\"marker\": {\"colorbar\": {\"outlinewidth\": 0, \"ticks\": \"\"}}, \"type\": \"scattergl\"}], \"scattermapbox\": [{\"marker\": {\"colorbar\": {\"outlinewidth\": 0, \"ticks\": \"\"}}, \"type\": \"scattermapbox\"}], \"scatterpolar\": [{\"marker\": {\"colorbar\": {\"outlinewidth\": 0, \"ticks\": \"\"}}, \"type\": \"scatterpolar\"}], \"scatterpolargl\": [{\"marker\": {\"colorbar\": {\"outlinewidth\": 0, \"ticks\": \"\"}}, \"type\": \"scatterpolargl\"}], \"scatterternary\": [{\"marker\": {\"colorbar\": {\"outlinewidth\": 0, \"ticks\": \"\"}}, \"type\": \"scatterternary\"}], \"surface\": [{\"colorbar\": {\"outlinewidth\": 0, \"ticks\": \"\"}, \"colorscale\": [[0.0, \"#0d0887\"], [0.1111111111111111, \"#46039f\"], [0.2222222222222222, \"#7201a8\"], [0.3333333333333333, \"#9c179e\"], [0.4444444444444444, \"#bd3786\"], [0.5555555555555556, \"#d8576b\"], [0.6666666666666666, \"#ed7953\"], [0.7777777777777778, \"#fb9f3a\"], [0.8888888888888888, \"#fdca26\"], [1.0, \"#f0f921\"]], \"type\": \"surface\"}], \"table\": [{\"cells\": {\"fill\": {\"color\": \"#EBF0F8\"}, \"line\": {\"color\": \"white\"}}, \"header\": {\"fill\": {\"color\": \"#C8D4E3\"}, \"line\": {\"color\": \"white\"}}, \"type\": \"table\"}]}, \"layout\": {\"annotationdefaults\": {\"arrowcolor\": \"#2a3f5f\", \"arrowhead\": 0, \"arrowwidth\": 1}, \"colorscale\": {\"diverging\": [[0, \"#8e0152\"], [0.1, \"#c51b7d\"], [0.2, \"#de77ae\"], [0.3, \"#f1b6da\"], [0.4, \"#fde0ef\"], [0.5, \"#f7f7f7\"], [0.6, \"#e6f5d0\"], [0.7, \"#b8e186\"], [0.8, \"#7fbc41\"], [0.9, \"#4d9221\"], [1, \"#276419\"]], \"sequential\": [[0.0, \"#0d0887\"], [0.1111111111111111, \"#46039f\"], [0.2222222222222222, \"#7201a8\"], [0.3333333333333333, \"#9c179e\"], [0.4444444444444444, \"#bd3786\"], [0.5555555555555556, \"#d8576b\"], [0.6666666666666666, \"#ed7953\"], [0.7777777777777778, \"#fb9f3a\"], [0.8888888888888888, \"#fdca26\"], [1.0, \"#f0f921\"]], \"sequentialminus\": [[0.0, \"#0d0887\"], [0.1111111111111111, \"#46039f\"], [0.2222222222222222, \"#7201a8\"], [0.3333333333333333, \"#9c179e\"], [0.4444444444444444, \"#bd3786\"], [0.5555555555555556, \"#d8576b\"], [0.6666666666666666, \"#ed7953\"], [0.7777777777777778, \"#fb9f3a\"], [0.8888888888888888, \"#fdca26\"], [1.0, \"#f0f921\"]]}, \"colorway\": [\"#636efa\", \"#EF553B\", \"#00cc96\", \"#ab63fa\", \"#FFA15A\", \"#19d3f3\", \"#FF6692\", \"#B6E880\", \"#FF97FF\", \"#FECB52\"], \"font\": {\"color\": \"#2a3f5f\"}, \"geo\": {\"bgcolor\": \"white\", \"lakecolor\": \"white\", \"landcolor\": \"#E5ECF6\", \"showlakes\": true, \"showland\": true, \"subunitcolor\": \"white\"}, \"hoverlabel\": {\"align\": \"left\"}, \"hovermode\": \"closest\", \"mapbox\": {\"style\": \"light\"}, \"paper_bgcolor\": \"white\", \"plot_bgcolor\": \"#E5ECF6\", \"polar\": {\"angularaxis\": {\"gridcolor\": \"white\", \"linecolor\": \"white\", \"ticks\": \"\"}, \"bgcolor\": \"#E5ECF6\", \"radialaxis\": {\"gridcolor\": \"white\", \"linecolor\": \"white\", \"ticks\": \"\"}}, \"scene\": {\"xaxis\": {\"backgroundcolor\": \"#E5ECF6\", \"gridcolor\": \"white\", \"gridwidth\": 2, \"linecolor\": \"white\", \"showbackground\": true, \"ticks\": \"\", \"zerolinecolor\": \"white\"}, \"yaxis\": {\"backgroundcolor\": \"#E5ECF6\", \"gridcolor\": \"white\", \"gridwidth\": 2, \"linecolor\": \"white\", \"showbackground\": true, \"ticks\": \"\", \"zerolinecolor\": \"white\"}, \"zaxis\": {\"backgroundcolor\": \"#E5ECF6\", \"gridcolor\": \"white\", \"gridwidth\": 2, \"linecolor\": \"white\", \"showbackground\": true, \"ticks\": \"\", \"zerolinecolor\": \"white\"}}, \"shapedefaults\": {\"line\": {\"color\": \"#2a3f5f\"}}, \"ternary\": {\"aaxis\": {\"gridcolor\": \"white\", \"linecolor\": \"white\", \"ticks\": \"\"}, \"baxis\": {\"gridcolor\": \"white\", \"linecolor\": \"white\", \"ticks\": \"\"}, \"bgcolor\": \"#E5ECF6\", \"caxis\": {\"gridcolor\": \"white\", \"linecolor\": \"white\", \"ticks\": \"\"}}, \"title\": {\"x\": 0.05}, \"xaxis\": {\"automargin\": true, \"gridcolor\": \"white\", \"linecolor\": \"white\", \"ticks\": \"\", \"zerolinecolor\": \"white\", \"zerolinewidth\": 2}, \"yaxis\": {\"automargin\": true, \"gridcolor\": \"white\", \"linecolor\": \"white\", \"ticks\": \"\", \"zerolinecolor\": \"white\", \"zerolinewidth\": 2}}}, \"xaxis\": {\"anchor\": \"y\", \"domain\": [0.0, 0.98], \"title\": {\"text\": \"differences\"}}, \"yaxis\": {\"anchor\": \"x\", \"domain\": [0.0, 1.0], \"title\": {\"text\": \"count\"}}},\n",
              "                        {\"responsive\": true}\n",
              "                    ).then(function(){\n",
              "                            \n",
              "var gd = document.getElementById('a9d7f5cd-e651-47bf-b4da-0b63aa68df51');\n",
              "var x = new MutationObserver(function (mutations, observer) {{\n",
              "        var display = window.getComputedStyle(gd).display;\n",
              "        if (!display || display === 'none') {{\n",
              "            console.log([gd, 'removed!']);\n",
              "            Plotly.purge(gd);\n",
              "            observer.disconnect();\n",
              "        }}\n",
              "}});\n",
              "\n",
              "// Listen for the removal of the full notebook cells\n",
              "var notebookContainer = gd.closest('#notebook-container');\n",
              "if (notebookContainer) {{\n",
              "    x.observe(notebookContainer, {childList: true});\n",
              "}}\n",
              "\n",
              "// Listen for the clearing of the current output cell\n",
              "var outputEl = gd.closest('.output');\n",
              "if (outputEl) {{\n",
              "    x.observe(outputEl, {childList: true});\n",
              "}}\n",
              "\n",
              "                        })\n",
              "                };\n",
              "                \n",
              "            </script>\n",
              "        </div>\n",
              "</body>\n",
              "</html>"
            ]
          },
          "metadata": {
            "tags": []
          }
        }
      ]
    },
    {
      "cell_type": "markdown",
      "metadata": {
        "id": "97NTJEU7ztwc",
        "colab_type": "text"
      },
      "source": [
        "# 6. Visualise the visits per hour of the day. \n",
        "#  7. What is the peak hour for visits with transactions? Annotate it on the plot of Task 6. "
      ]
    },
    {
      "cell_type": "code",
      "metadata": {
        "id": "PWS8fYFEZj5Q",
        "colab_type": "code",
        "cellView": "form",
        "outputId": "5f12f51f-a508-4640-cbc7-f39357107daa",
        "colab": {
          "base_uri": "https://localhost:8080/",
          "height": 198
        }
      },
      "source": [
        "#@title About the data\n",
        "\n",
        "path = \"/content/drive/My Drive/dh_data/q_7_6.csv\"\n",
        "veri = pd.read_csv(path)\n",
        "veri.head()"
      ],
      "execution_count": 0,
      "outputs": [
        {
          "output_type": "execute_result",
          "data": {
            "text/html": [
              "<div>\n",
              "<style scoped>\n",
              "    .dataframe tbody tr th:only-of-type {\n",
              "        vertical-align: middle;\n",
              "    }\n",
              "\n",
              "    .dataframe tbody tr th {\n",
              "        vertical-align: top;\n",
              "    }\n",
              "\n",
              "    .dataframe thead th {\n",
              "        text-align: right;\n",
              "    }\n",
              "</style>\n",
              "<table border=\"1\" class=\"dataframe\">\n",
              "  <thead>\n",
              "    <tr style=\"text-align: right;\">\n",
              "      <th></th>\n",
              "      <th>sessionHour</th>\n",
              "      <th>sessionCount</th>\n",
              "      <th>transactions</th>\n",
              "    </tr>\n",
              "  </thead>\n",
              "  <tbody>\n",
              "    <tr>\n",
              "      <th>0</th>\n",
              "      <td>0</td>\n",
              "      <td>87</td>\n",
              "      <td>0</td>\n",
              "    </tr>\n",
              "    <tr>\n",
              "      <th>1</th>\n",
              "      <td>1</td>\n",
              "      <td>102</td>\n",
              "      <td>0</td>\n",
              "    </tr>\n",
              "    <tr>\n",
              "      <th>2</th>\n",
              "      <td>2</td>\n",
              "      <td>84</td>\n",
              "      <td>3</td>\n",
              "    </tr>\n",
              "    <tr>\n",
              "      <th>3</th>\n",
              "      <td>3</td>\n",
              "      <td>99</td>\n",
              "      <td>0</td>\n",
              "    </tr>\n",
              "    <tr>\n",
              "      <th>4</th>\n",
              "      <td>4</td>\n",
              "      <td>79</td>\n",
              "      <td>2</td>\n",
              "    </tr>\n",
              "  </tbody>\n",
              "</table>\n",
              "</div>"
            ],
            "text/plain": [
              "   sessionHour  sessionCount  transactions\n",
              "0            0            87             0\n",
              "1            1           102             0\n",
              "2            2            84             3\n",
              "3            3            99             0\n",
              "4            4            79             2"
            ]
          },
          "metadata": {
            "tags": []
          },
          "execution_count": 11
        }
      ]
    },
    {
      "cell_type": "code",
      "metadata": {
        "id": "OVzYSAcn7Uen",
        "colab_type": "code",
        "outputId": "49b1059b-69fb-4743-fff0-bf5c4a4379cf",
        "cellView": "form",
        "colab": {
          "base_uri": "https://localhost:8080/",
          "height": 198
        }
      },
      "source": [
        "#@title Transforming the data for plotting\n",
        "\n",
        "df_melt = veri.melt(id_vars='sessionHour', value_vars=['sessionCount', 'transactions'])\n",
        "df_melt.head()"
      ],
      "execution_count": 0,
      "outputs": [
        {
          "output_type": "execute_result",
          "data": {
            "text/html": [
              "<div>\n",
              "<style scoped>\n",
              "    .dataframe tbody tr th:only-of-type {\n",
              "        vertical-align: middle;\n",
              "    }\n",
              "\n",
              "    .dataframe tbody tr th {\n",
              "        vertical-align: top;\n",
              "    }\n",
              "\n",
              "    .dataframe thead th {\n",
              "        text-align: right;\n",
              "    }\n",
              "</style>\n",
              "<table border=\"1\" class=\"dataframe\">\n",
              "  <thead>\n",
              "    <tr style=\"text-align: right;\">\n",
              "      <th></th>\n",
              "      <th>sessionHour</th>\n",
              "      <th>variable</th>\n",
              "      <th>value</th>\n",
              "    </tr>\n",
              "  </thead>\n",
              "  <tbody>\n",
              "    <tr>\n",
              "      <th>0</th>\n",
              "      <td>0</td>\n",
              "      <td>sessionCount</td>\n",
              "      <td>87</td>\n",
              "    </tr>\n",
              "    <tr>\n",
              "      <th>1</th>\n",
              "      <td>1</td>\n",
              "      <td>sessionCount</td>\n",
              "      <td>102</td>\n",
              "    </tr>\n",
              "    <tr>\n",
              "      <th>2</th>\n",
              "      <td>2</td>\n",
              "      <td>sessionCount</td>\n",
              "      <td>84</td>\n",
              "    </tr>\n",
              "    <tr>\n",
              "      <th>3</th>\n",
              "      <td>3</td>\n",
              "      <td>sessionCount</td>\n",
              "      <td>99</td>\n",
              "    </tr>\n",
              "    <tr>\n",
              "      <th>4</th>\n",
              "      <td>4</td>\n",
              "      <td>sessionCount</td>\n",
              "      <td>79</td>\n",
              "    </tr>\n",
              "  </tbody>\n",
              "</table>\n",
              "</div>"
            ],
            "text/plain": [
              "   sessionHour      variable  value\n",
              "0            0  sessionCount     87\n",
              "1            1  sessionCount    102\n",
              "2            2  sessionCount     84\n",
              "3            3  sessionCount     99\n",
              "4            4  sessionCount     79"
            ]
          },
          "metadata": {
            "tags": []
          },
          "execution_count": 14
        }
      ]
    },
    {
      "cell_type": "code",
      "metadata": {
        "id": "01EM0BpW7PcY",
        "colab_type": "code",
        "cellView": "form",
        "outputId": "e4adb258-3ef9-4da4-d1b8-9d0d02ba39a0",
        "colab": {
          "base_uri": "https://localhost:8080/",
          "height": 617
        }
      },
      "source": [
        "#@title Number of Visits and Transactions per Hour of the Day\n",
        "px.line(df_melt, x='sessionHour' , y='value' , color='variable')"
      ],
      "execution_count": 0,
      "outputs": [
        {
          "output_type": "display_data",
          "data": {
            "text/html": [
              "<html>\n",
              "<head><meta charset=\"utf-8\" /></head>\n",
              "<body>\n",
              "    <div>\n",
              "            <script src=\"https://cdnjs.cloudflare.com/ajax/libs/mathjax/2.7.5/MathJax.js?config=TeX-AMS-MML_SVG\"></script><script type=\"text/javascript\">if (window.MathJax) {MathJax.Hub.Config({SVG: {font: \"STIX-Web\"}});}</script>\n",
              "                <script type=\"text/javascript\">window.PlotlyConfig = {MathJaxConfig: 'local'};</script>\n",
              "        <script src=\"https://cdn.plot.ly/plotly-latest.min.js\"></script>    \n",
              "            <div id=\"96b9adba-6317-40b6-b85f-41d4bdec6b6f\" class=\"plotly-graph-div\" style=\"height:600px; width:100%;\"></div>\n",
              "            <script type=\"text/javascript\">\n",
              "                \n",
              "                    window.PLOTLYENV=window.PLOTLYENV || {};\n",
              "                    \n",
              "                if (document.getElementById(\"96b9adba-6317-40b6-b85f-41d4bdec6b6f\")) {\n",
              "                    Plotly.newPlot(\n",
              "                        '96b9adba-6317-40b6-b85f-41d4bdec6b6f',\n",
              "                        [{\"hoverlabel\": {\"namelength\": 0}, \"hovertemplate\": \"variable=sessionCount<br>sessionHour=%{x}<br>value=%{y}\", \"legendgroup\": \"variable=sessionCount\", \"line\": {\"color\": \"#636efa\", \"dash\": \"solid\"}, \"mode\": \"lines\", \"name\": \"variable=sessionCount\", \"showlegend\": true, \"type\": \"scatter\", \"x\": [0, 1, 2, 3, 4, 5, 6, 7, 8, 9, 10, 11, 12, 13, 14, 15, 16, 17, 18, 19, 20, 21, 22, 23], \"xaxis\": \"x\", \"y\": [87, 102, 84, 99, 79, 96, 91, 96, 69, 73, 67, 73, 99, 121, 138, 129, 121, 147, 144, 135, 156, 130, 121, 99], \"yaxis\": \"y\"}, {\"hoverlabel\": {\"namelength\": 0}, \"hovertemplate\": \"variable=transactions<br>sessionHour=%{x}<br>value=%{y}\", \"legendgroup\": \"variable=transactions\", \"line\": {\"color\": \"#EF553B\", \"dash\": \"solid\"}, \"mode\": \"lines\", \"name\": \"variable=transactions\", \"showlegend\": true, \"type\": \"scatter\", \"x\": [0, 1, 2, 3, 4, 5, 6, 7, 8, 9, 10, 11, 12, 13, 14, 15, 16, 17, 18, 19, 20, 21, 22, 23], \"xaxis\": \"x\", \"y\": [0, 0, 3, 0, 2, 1, 0, 0, 0, 0, 0, 0, 0, 1, 5, 2, 5, 6, 3, 3, 3, 4, 4, 1], \"yaxis\": \"y\"}],\n",
              "                        {\"height\": 600, \"legend\": {\"tracegroupgap\": 0}, \"margin\": {\"t\": 60}, \"template\": {\"data\": {\"bar\": [{\"error_x\": {\"color\": \"#2a3f5f\"}, \"error_y\": {\"color\": \"#2a3f5f\"}, \"marker\": {\"line\": {\"color\": \"#E5ECF6\", \"width\": 0.5}}, \"type\": \"bar\"}], \"barpolar\": [{\"marker\": {\"line\": {\"color\": \"#E5ECF6\", \"width\": 0.5}}, \"type\": \"barpolar\"}], \"carpet\": [{\"aaxis\": {\"endlinecolor\": \"#2a3f5f\", \"gridcolor\": \"white\", \"linecolor\": \"white\", \"minorgridcolor\": \"white\", \"startlinecolor\": \"#2a3f5f\"}, \"baxis\": {\"endlinecolor\": \"#2a3f5f\", \"gridcolor\": \"white\", \"linecolor\": \"white\", \"minorgridcolor\": \"white\", \"startlinecolor\": \"#2a3f5f\"}, \"type\": \"carpet\"}], \"choropleth\": [{\"colorbar\": {\"outlinewidth\": 0, \"ticks\": \"\"}, \"type\": \"choropleth\"}], \"contour\": [{\"colorbar\": {\"outlinewidth\": 0, \"ticks\": \"\"}, \"colorscale\": [[0.0, \"#0d0887\"], [0.1111111111111111, \"#46039f\"], [0.2222222222222222, \"#7201a8\"], [0.3333333333333333, \"#9c179e\"], [0.4444444444444444, \"#bd3786\"], [0.5555555555555556, \"#d8576b\"], [0.6666666666666666, \"#ed7953\"], [0.7777777777777778, \"#fb9f3a\"], [0.8888888888888888, \"#fdca26\"], [1.0, \"#f0f921\"]], \"type\": \"contour\"}], \"contourcarpet\": [{\"colorbar\": {\"outlinewidth\": 0, \"ticks\": \"\"}, \"type\": \"contourcarpet\"}], \"heatmap\": [{\"colorbar\": {\"outlinewidth\": 0, \"ticks\": \"\"}, \"colorscale\": [[0.0, \"#0d0887\"], [0.1111111111111111, \"#46039f\"], [0.2222222222222222, \"#7201a8\"], [0.3333333333333333, \"#9c179e\"], [0.4444444444444444, \"#bd3786\"], [0.5555555555555556, \"#d8576b\"], [0.6666666666666666, \"#ed7953\"], [0.7777777777777778, \"#fb9f3a\"], [0.8888888888888888, \"#fdca26\"], [1.0, \"#f0f921\"]], \"type\": \"heatmap\"}], \"heatmapgl\": [{\"colorbar\": {\"outlinewidth\": 0, \"ticks\": \"\"}, \"colorscale\": [[0.0, \"#0d0887\"], [0.1111111111111111, \"#46039f\"], [0.2222222222222222, \"#7201a8\"], [0.3333333333333333, \"#9c179e\"], [0.4444444444444444, \"#bd3786\"], [0.5555555555555556, \"#d8576b\"], [0.6666666666666666, \"#ed7953\"], [0.7777777777777778, \"#fb9f3a\"], [0.8888888888888888, \"#fdca26\"], [1.0, \"#f0f921\"]], \"type\": \"heatmapgl\"}], \"histogram\": [{\"marker\": {\"colorbar\": {\"outlinewidth\": 0, \"ticks\": \"\"}}, \"type\": \"histogram\"}], \"histogram2d\": [{\"colorbar\": {\"outlinewidth\": 0, \"ticks\": \"\"}, \"colorscale\": [[0.0, \"#0d0887\"], [0.1111111111111111, \"#46039f\"], [0.2222222222222222, \"#7201a8\"], [0.3333333333333333, \"#9c179e\"], [0.4444444444444444, \"#bd3786\"], [0.5555555555555556, \"#d8576b\"], [0.6666666666666666, \"#ed7953\"], [0.7777777777777778, \"#fb9f3a\"], [0.8888888888888888, \"#fdca26\"], [1.0, \"#f0f921\"]], \"type\": \"histogram2d\"}], \"histogram2dcontour\": [{\"colorbar\": {\"outlinewidth\": 0, \"ticks\": \"\"}, \"colorscale\": [[0.0, \"#0d0887\"], [0.1111111111111111, \"#46039f\"], [0.2222222222222222, \"#7201a8\"], [0.3333333333333333, \"#9c179e\"], [0.4444444444444444, \"#bd3786\"], [0.5555555555555556, \"#d8576b\"], [0.6666666666666666, \"#ed7953\"], [0.7777777777777778, \"#fb9f3a\"], [0.8888888888888888, \"#fdca26\"], [1.0, \"#f0f921\"]], \"type\": \"histogram2dcontour\"}], \"mesh3d\": [{\"colorbar\": {\"outlinewidth\": 0, \"ticks\": \"\"}, \"type\": \"mesh3d\"}], \"parcoords\": [{\"line\": {\"colorbar\": {\"outlinewidth\": 0, \"ticks\": \"\"}}, \"type\": \"parcoords\"}], \"scatter\": [{\"marker\": {\"colorbar\": {\"outlinewidth\": 0, \"ticks\": \"\"}}, \"type\": \"scatter\"}], \"scatter3d\": [{\"line\": {\"colorbar\": {\"outlinewidth\": 0, \"ticks\": \"\"}}, \"marker\": {\"colorbar\": {\"outlinewidth\": 0, \"ticks\": \"\"}}, \"type\": \"scatter3d\"}], \"scattercarpet\": [{\"marker\": {\"colorbar\": {\"outlinewidth\": 0, \"ticks\": \"\"}}, \"type\": \"scattercarpet\"}], \"scattergeo\": [{\"marker\": {\"colorbar\": {\"outlinewidth\": 0, \"ticks\": \"\"}}, \"type\": \"scattergeo\"}], \"scattergl\": [{\"marker\": {\"colorbar\": {\"outlinewidth\": 0, \"ticks\": \"\"}}, \"type\": \"scattergl\"}], \"scattermapbox\": [{\"marker\": {\"colorbar\": {\"outlinewidth\": 0, \"ticks\": \"\"}}, \"type\": \"scattermapbox\"}], \"scatterpolar\": [{\"marker\": {\"colorbar\": {\"outlinewidth\": 0, \"ticks\": \"\"}}, \"type\": \"scatterpolar\"}], \"scatterpolargl\": [{\"marker\": {\"colorbar\": {\"outlinewidth\": 0, \"ticks\": \"\"}}, \"type\": \"scatterpolargl\"}], \"scatterternary\": [{\"marker\": {\"colorbar\": {\"outlinewidth\": 0, \"ticks\": \"\"}}, \"type\": \"scatterternary\"}], \"surface\": [{\"colorbar\": {\"outlinewidth\": 0, \"ticks\": \"\"}, \"colorscale\": [[0.0, \"#0d0887\"], [0.1111111111111111, \"#46039f\"], [0.2222222222222222, \"#7201a8\"], [0.3333333333333333, \"#9c179e\"], [0.4444444444444444, \"#bd3786\"], [0.5555555555555556, \"#d8576b\"], [0.6666666666666666, \"#ed7953\"], [0.7777777777777778, \"#fb9f3a\"], [0.8888888888888888, \"#fdca26\"], [1.0, \"#f0f921\"]], \"type\": \"surface\"}], \"table\": [{\"cells\": {\"fill\": {\"color\": \"#EBF0F8\"}, \"line\": {\"color\": \"white\"}}, \"header\": {\"fill\": {\"color\": \"#C8D4E3\"}, \"line\": {\"color\": \"white\"}}, \"type\": \"table\"}]}, \"layout\": {\"annotationdefaults\": {\"arrowcolor\": \"#2a3f5f\", \"arrowhead\": 0, \"arrowwidth\": 1}, \"colorscale\": {\"diverging\": [[0, \"#8e0152\"], [0.1, \"#c51b7d\"], [0.2, \"#de77ae\"], [0.3, \"#f1b6da\"], [0.4, \"#fde0ef\"], [0.5, \"#f7f7f7\"], [0.6, \"#e6f5d0\"], [0.7, \"#b8e186\"], [0.8, \"#7fbc41\"], [0.9, \"#4d9221\"], [1, \"#276419\"]], \"sequential\": [[0.0, \"#0d0887\"], [0.1111111111111111, \"#46039f\"], [0.2222222222222222, \"#7201a8\"], [0.3333333333333333, \"#9c179e\"], [0.4444444444444444, \"#bd3786\"], [0.5555555555555556, \"#d8576b\"], [0.6666666666666666, \"#ed7953\"], [0.7777777777777778, \"#fb9f3a\"], [0.8888888888888888, \"#fdca26\"], [1.0, \"#f0f921\"]], \"sequentialminus\": [[0.0, \"#0d0887\"], [0.1111111111111111, \"#46039f\"], [0.2222222222222222, \"#7201a8\"], [0.3333333333333333, \"#9c179e\"], [0.4444444444444444, \"#bd3786\"], [0.5555555555555556, \"#d8576b\"], [0.6666666666666666, \"#ed7953\"], [0.7777777777777778, \"#fb9f3a\"], [0.8888888888888888, \"#fdca26\"], [1.0, \"#f0f921\"]]}, \"colorway\": [\"#636efa\", \"#EF553B\", \"#00cc96\", \"#ab63fa\", \"#FFA15A\", \"#19d3f3\", \"#FF6692\", \"#B6E880\", \"#FF97FF\", \"#FECB52\"], \"font\": {\"color\": \"#2a3f5f\"}, \"geo\": {\"bgcolor\": \"white\", \"lakecolor\": \"white\", \"landcolor\": \"#E5ECF6\", \"showlakes\": true, \"showland\": true, \"subunitcolor\": \"white\"}, \"hoverlabel\": {\"align\": \"left\"}, \"hovermode\": \"closest\", \"mapbox\": {\"style\": \"light\"}, \"paper_bgcolor\": \"white\", \"plot_bgcolor\": \"#E5ECF6\", \"polar\": {\"angularaxis\": {\"gridcolor\": \"white\", \"linecolor\": \"white\", \"ticks\": \"\"}, \"bgcolor\": \"#E5ECF6\", \"radialaxis\": {\"gridcolor\": \"white\", \"linecolor\": \"white\", \"ticks\": \"\"}}, \"scene\": {\"xaxis\": {\"backgroundcolor\": \"#E5ECF6\", \"gridcolor\": \"white\", \"gridwidth\": 2, \"linecolor\": \"white\", \"showbackground\": true, \"ticks\": \"\", \"zerolinecolor\": \"white\"}, \"yaxis\": {\"backgroundcolor\": \"#E5ECF6\", \"gridcolor\": \"white\", \"gridwidth\": 2, \"linecolor\": \"white\", \"showbackground\": true, \"ticks\": \"\", \"zerolinecolor\": \"white\"}, \"zaxis\": {\"backgroundcolor\": \"#E5ECF6\", \"gridcolor\": \"white\", \"gridwidth\": 2, \"linecolor\": \"white\", \"showbackground\": true, \"ticks\": \"\", \"zerolinecolor\": \"white\"}}, \"shapedefaults\": {\"line\": {\"color\": \"#2a3f5f\"}}, \"ternary\": {\"aaxis\": {\"gridcolor\": \"white\", \"linecolor\": \"white\", \"ticks\": \"\"}, \"baxis\": {\"gridcolor\": \"white\", \"linecolor\": \"white\", \"ticks\": \"\"}, \"bgcolor\": \"#E5ECF6\", \"caxis\": {\"gridcolor\": \"white\", \"linecolor\": \"white\", \"ticks\": \"\"}}, \"title\": {\"x\": 0.05}, \"xaxis\": {\"automargin\": true, \"gridcolor\": \"white\", \"linecolor\": \"white\", \"ticks\": \"\", \"zerolinecolor\": \"white\", \"zerolinewidth\": 2}, \"yaxis\": {\"automargin\": true, \"gridcolor\": \"white\", \"linecolor\": \"white\", \"ticks\": \"\", \"zerolinecolor\": \"white\", \"zerolinewidth\": 2}}}, \"xaxis\": {\"anchor\": \"y\", \"domain\": [0.0, 0.98], \"title\": {\"text\": \"sessionHour\"}}, \"yaxis\": {\"anchor\": \"x\", \"domain\": [0.0, 1.0], \"title\": {\"text\": \"value\"}}},\n",
              "                        {\"responsive\": true}\n",
              "                    ).then(function(){\n",
              "                            \n",
              "var gd = document.getElementById('96b9adba-6317-40b6-b85f-41d4bdec6b6f');\n",
              "var x = new MutationObserver(function (mutations, observer) {{\n",
              "        var display = window.getComputedStyle(gd).display;\n",
              "        if (!display || display === 'none') {{\n",
              "            console.log([gd, 'removed!']);\n",
              "            Plotly.purge(gd);\n",
              "            observer.disconnect();\n",
              "        }}\n",
              "}});\n",
              "\n",
              "// Listen for the removal of the full notebook cells\n",
              "var notebookContainer = gd.closest('#notebook-container');\n",
              "if (notebookContainer) {{\n",
              "    x.observe(notebookContainer, {childList: true});\n",
              "}}\n",
              "\n",
              "// Listen for the clearing of the current output cell\n",
              "var outputEl = gd.closest('.output');\n",
              "if (outputEl) {{\n",
              "    x.observe(outputEl, {childList: true});\n",
              "}}\n",
              "\n",
              "                        })\n",
              "                };\n",
              "                \n",
              "            </script>\n",
              "        </div>\n",
              "</body>\n",
              "</html>"
            ]
          },
          "metadata": {
            "tags": []
          }
        }
      ]
    },
    {
      "cell_type": "markdown",
      "metadata": {
        "id": "JsNj-1F3zty_",
        "colab_type": "text"
      },
      "source": [
        "The peak time of the visits is 8 pm.\n",
        "The peak time of the visits is 2 pm. The number of the visits at 2pm is also higher than the average visits. It may be indicated that visitors check the products at eveninig times, buy the product after lunch time."
      ]
    },
    {
      "cell_type": "markdown",
      "metadata": {
        "id": "Zi6BEFeyzt6Q",
        "colab_type": "text"
      },
      "source": [
        "# 8. Plot a histogram of time spent on the platform. "
      ]
    },
    {
      "cell_type": "code",
      "metadata": {
        "id": "7Ca6lSSVp9o8",
        "colab_type": "code",
        "cellView": "form",
        "outputId": "bdb45256-bf48-43c4-c72a-54646ae0ee8d",
        "colab": {
          "base_uri": "https://localhost:8080/",
          "height": 198
        }
      },
      "source": [
        "#@title About the Data\n",
        "\n",
        "path = \"/content/drive/My Drive/dh_data/notcounted_8.csv\"\n",
        "data = pd.read_csv(path)\n",
        "data.head()"
      ],
      "execution_count": 0,
      "outputs": [
        {
          "output_type": "execute_result",
          "data": {
            "text/html": [
              "<div>\n",
              "<style scoped>\n",
              "    .dataframe tbody tr th:only-of-type {\n",
              "        vertical-align: middle;\n",
              "    }\n",
              "\n",
              "    .dataframe tbody tr th {\n",
              "        vertical-align: top;\n",
              "    }\n",
              "\n",
              "    .dataframe thead th {\n",
              "        text-align: right;\n",
              "    }\n",
              "</style>\n",
              "<table border=\"1\" class=\"dataframe\">\n",
              "  <thead>\n",
              "    <tr style=\"text-align: right;\">\n",
              "      <th></th>\n",
              "      <th>timeOnSite</th>\n",
              "      <th>fullVisitorId</th>\n",
              "    </tr>\n",
              "  </thead>\n",
              "  <tbody>\n",
              "    <tr>\n",
              "      <th>0</th>\n",
              "      <td>21</td>\n",
              "      <td>95632012</td>\n",
              "    </tr>\n",
              "    <tr>\n",
              "      <th>1</th>\n",
              "      <td>22</td>\n",
              "      <td>4468813</td>\n",
              "    </tr>\n",
              "    <tr>\n",
              "      <th>2</th>\n",
              "      <td>14</td>\n",
              "      <td>76399816</td>\n",
              "    </tr>\n",
              "    <tr>\n",
              "      <th>3</th>\n",
              "      <td>60</td>\n",
              "      <td>13231436</td>\n",
              "    </tr>\n",
              "    <tr>\n",
              "      <th>4</th>\n",
              "      <td>6</td>\n",
              "      <td>517038168</td>\n",
              "    </tr>\n",
              "  </tbody>\n",
              "</table>\n",
              "</div>"
            ],
            "text/plain": [
              "   timeOnSite  fullVisitorId\n",
              "0          21       95632012\n",
              "1          22        4468813\n",
              "2          14       76399816\n",
              "3          60       13231436\n",
              "4           6      517038168"
            ]
          },
          "metadata": {
            "tags": []
          },
          "execution_count": 17
        }
      ]
    },
    {
      "cell_type": "code",
      "metadata": {
        "id": "0xxhvpOdqMz9",
        "colab_type": "code",
        "cellView": "form",
        "outputId": "d4bedef2-a3a8-4c20-c293-d9b20e1a8479",
        "colab": {
          "base_uri": "https://localhost:8080/",
          "height": 617
        }
      },
      "source": [
        "#@title Histogram of Time Spent on the Platform\n",
        "\n",
        "fig = px.histogram(data, x=\"timeOnSite\", nbins=150)\n",
        "fig.show()"
      ],
      "execution_count": 0,
      "outputs": [
        {
          "output_type": "display_data",
          "data": {
            "text/html": [
              "<html>\n",
              "<head><meta charset=\"utf-8\" /></head>\n",
              "<body>\n",
              "    <div>\n",
              "            <script src=\"https://cdnjs.cloudflare.com/ajax/libs/mathjax/2.7.5/MathJax.js?config=TeX-AMS-MML_SVG\"></script><script type=\"text/javascript\">if (window.MathJax) {MathJax.Hub.Config({SVG: {font: \"STIX-Web\"}});}</script>\n",
              "                <script type=\"text/javascript\">window.PlotlyConfig = {MathJaxConfig: 'local'};</script>\n",
              "        <script src=\"https://cdn.plot.ly/plotly-latest.min.js\"></script>    \n",
              "            <div id=\"47a3b222-e555-4b4e-a9f9-5f28a1a59115\" class=\"plotly-graph-div\" style=\"height:600px; width:100%;\"></div>\n",
              "            <script type=\"text/javascript\">\n",
              "                \n",
              "                    window.PLOTLYENV=window.PLOTLYENV || {};\n",
              "                    \n",
              "                if (document.getElementById(\"47a3b222-e555-4b4e-a9f9-5f28a1a59115\")) {\n",
              "                    Plotly.newPlot(\n",
              "                        '47a3b222-e555-4b4e-a9f9-5f28a1a59115',\n",
              "                        [{\"alignmentgroup\": \"True\", \"bingroup\": \"x\", \"hoverlabel\": {\"namelength\": 0}, \"hovertemplate\": \"timeOnSite=%{x}<br>count=%{y}\", \"legendgroup\": \"\", \"marker\": {\"color\": \"#636efa\"}, \"name\": \"\", \"nbinsx\": 150, \"offsetgroup\": \"\", \"orientation\": \"v\", \"showlegend\": false, \"type\": \"histogram\", \"x\": [21, 22, 14, 60, 6, 1, 17, 154, 48, 24, 45, 30, 536, 30, 34, 10, 27, 131, 39, 45, 64, 46, 25, 10, 87, 10, 19, 11, 23, 37, 161, 501, 61, 8, 290, 48, 87, 12, 21, 31, 35, 16, 80, 6, 31, 31, 98, 57, 353, 8, 44, 54, 10, 29, 137, 12, 629, 27, 56, 17, 447, 7, 34, 35, 973, 131, 77, 30, 28, 11, 762, 540, 118, 17, 495, 103, 7, 14, 36, 41, 46, 73, 15, 9, 27, 58, 1335, 43, 22, 111, 8, 35, 954, 46, 33, 17, 8, 27, 7, 810, 5, 6, 5, 21, 17, 27, 42, 57, 27, 36, 37, 16, 306, 38, 24, 177, 90, 12, 277, 58, 6, 13, 25, 149, 30, 1179, 9, 320, 13, 18, 86, 6, 25, 8, 82, 57, 3, 5, 3, 10, 7, 8, 3, 5, 4, 4, 2, 3, 21, 6, 1725, 5, 7, 10, 8, 10, 8, 12, 9, 5, 5, 14, 4, 4, 14, 4, 189, 32, 6, 10, 3, 14, 10, 28, 22, 3, 1, 5, 114, 6, 5, 54, 9, 11, 456, 13, 17, 15, 7, 4, 16, 10, 23, 43, 17, 9, 11, 4, 3, 5, 45, 37, 2, 35, 8, 20, 47, 25, 5, 32, 13, 39, 48, 77, 6, 5, 8, 11, 23, 26, 22, 5, 42, 32, 58, 816, 761, 98, 16, 55, 16, 33, 13, 36, 21, 41, 21, 127, 27, 137, 11, 21, 22, 43, 11, 122, 185, 16, 12, 153, 26, 51, 11, 68, 6, 22, 7, 8, 290, 278, 38, 57, 21, 12, 3, 48, 134, 122, 293, 21, 46, 5, 26, 5, 664, 14, 77, 26, 24, 35, 14, 24, 70, 56, 5, 36, 23, 16, 24, 24, 11, 49, 70, 29, 33, 88, 111, 13, 285, 23, 2, 177, 538, 226, 18, 427, 12, 15, 72, 19, 53, 29, 55, 220, 32, 12, 70, 255, 62, 85, 130, 22, 25, 24, 190, 37, 46, 38, 71, 76, 34, 18, 27, 43, 21, 50, 505, 84, 53, 37, 16, 5, 34, 50, 87, 47, 94, 123, 41, 95, 21, 30, 66, 29, 65, 41, 1, 24, 38, 33, 187, 53, 135, 167, 132, 47, 66, 31, 91, 1008, 41, 41, 617, 69, 275, 706, 479, 128, 70, 75, 12, 11, 23, 26, 36, 14, 768, 20, 18, 16, 16, 941, 82, 1095, 16, 14, 11, 17, 31, 13, 56, 14, 1162, 67, 27, 29, 34, 44, 19, 56, 142, 39, 23, 6, 22, 22, 41, 33, 28, 67, 31, 26, 35, 51, 19, 22, 24, 22, 19, 53, 38, 22, 66, 45, 62, 53, 24, 28, 19, 22, 96, 29, 5, 23, 118, 54, 11, 18, 1223, 10, 30, 13, 87, 1194, 6, 19, 8, 15, 11, 18, 24, 12, 32, 90, 86, 137, 13, 194, 63, 37, 24, 149, 38, 25, 237, 99, 122, 37, 29, 78, 186, 189, 26, 47, 64, 40, 32, 75, 20, 68, 223, 45, 272, 22, 18, 14, 77, 60, 18, 65, 19, 43, 44, 265, 19, 17, 27, 25, 9, 89, 90, 43, 49, 46, 45, 413, 22, 30, 838, 116, 66, 41, 354, 214, 68, 76, 81, 207, 80, 239, 13, 77, 42, 828, 158, 29, 760, 153, 31, 55, 41, 249, 93, 390, 12, 89, 1723, 94, 538, 147, 44, 755, 1, 36, 83, 78, 34, 22, 30, 46, 453, 64, 1668, 35, 110, 119, 168, 36, 27, 213, 21, 19, 95, 94, 225, 61, 42, 34, 29, 47, 52, 140, 116, 79, 60, 223, 236, 51, 144, 37, 37, 29, 418, 239, 93, 44, 57, 928, 206, 43, 136, 205, 24, 138, 202, 301, 190, 610, 72, 16, 112, 70, 199, 466, 59, 74, 59, 90, 48, 85, 23, 99, 351, 310, 327, 39, 67, 41, 74, 449, 20, 37, 18, 69, 195, 111, 59, 102, 166, 75, 27, 53, 120, 40, 64, 29, 280, 107, 81, 127, 31, 91, 56, 43, 81, 37, 39, 65, 778, 116, 102, 40, 50, 138, 75, 42, 32, 83, 47, 70, 672, 14, 53, 278, 191, 61, 98, 11, 97, 158, 98, 35, 23, 68, 45, 70, 106, 61, 307, 85, 29, 44, 179, 110, 56, 564, 69, 202, 45, 99, 60, 57, 55, 100, 130, 140, 100, 561, 263, 33, 52, 570, 287, 126, 122, 39, 128, 60, 70, 634, 156, 83, 85, 302, 72, 65, 84, 46, 86, 161, 1824, 131, 269, 145, 149, 138, 1664, 35, 447, 3078, 1219, 29, 98, 2005, 34, 84, 150, 104, 104, 354, 597, 122, 99, 64, 107, 629, 68, 60, 222, 27, 75, 29, 77, 1205, 64, 234, 306, 143, 443, 669, 29, 45, 398, 215, 67, 54, 106, 209, 102, 64, 420, 1345, 143, 19, 99, 24, 26, 13, 301, 213, 16, 58, 266, 409, 363, 80, 237, 451, 2210, 206, 228, 877, 136, 142, 30, 88, 48, 92, 181, 109, 47, 14, 93, 227, 195, 45, 72, 169, 209, 93, 35, 358, 141, 527, 98, 168, 20, 128, 24, 156, 113, 333, 32, 124, 38, 68, 66, 105, 269, 968, 121, 45, 117, 132, 126, 396, 152, 979, 187, 1025, 309, 91, 203, 580, 47, 280, 1057, 200, 62, 494, 125, 325, 100, 203, 277, 613, 216, 158, 259, 56, 125, 825, 33, 342, 135, 1040, 212, 28, 77, 457, 86, 963, 237, 336, 51, 184, 1114, 112, 1676, 166, 287, 130, 45, 135, 155, 157, 325, 112, 704, 427, 45, 132, 88, 114, 150, 111, 47, 1221, 119, 125, 461, 591, 1224, 160, 116, 523, 429, 102, 129, 20, 294, 213, 249, 1505, 139, 109, 126, 124, 275, 102, 146, 1560, 370, 93, 599, 451, 120, 78, 111, 118, 1451, 430, 1681, 58, 586, 130, 59, 95, 173, 5362, 233, 198, 415, 238, 281, 248, 225, 1077, 565, 53, 589, 272, 512, 731, 456, 340, 212, 685, 666, 358, 750, 228, 1215, 273, 288, 143, 1192, 341, 190, 316, 80, 121, 212, 569, 380, 153, 194, 420, 374, 106, 2815, 269, 203, 1320, 400, 688, 116, 177, 188, 1283, 626, 292, 380, 188, 157, 515, 467, 545, 469, 175, 701, 245, 237, 193, 485, 96, 135, 286, 310, 749, 466, 491, 311, 364, 70, 140, 364, 782, 1471, 271, 631, 255, 239, 1415, 646, 517, 671, 208, 325, 640, 152, 314, 431, 294, 795, 559, 353, 250, 178, 1514, 847, 149, 1053, 135, 498, 477, 507, 353, 230, 237, 443, 1474, 320, 151, 189, 270, 197, 554, 262, 2225, 665, 514, 2725, 178, 241, 484, 1721, 732, 505, 230, 713, 965, 802, 504, 744, 1634, 1612, 201, 735, 484, 219, 758, 585, 1102, 1162, 716, 1114, 162, 1145, 604, 326, 385, 675, 1203, 676, 1187, 196, 433, 459, 127, 238, 334, 966, 778, 309, 292, 309, 1349, 293, 204, 2328, 176, 263, 154, 1157, 401, 463, 1478, 384, 330, 261, 647, 966, 524, 390, 429, 312, 662, 333, 656, 705, 343, 3092, 1926, 396, 234, 503, 629, 139, 678, 950, 647, 455, 627, 628, 278, 1376, 914, 3261, 2445, 1065, 262, 1209, 565, 332, 1021, 2011, 335, 561, 936, 277, 553, 239, 757, 1795, 605, 1133, 1414, 441, 1533, 672, 1150, 336, 957, 2684, 846, 794, 761, 1005, 1176, 4238, 561, 2772, 426, 495, 3441, 465, 263, 874, 2344, 3156, 365, 378, 693, 922, 832, 647, 840, 1548, 832, 2112, 870, 2055, 2171, 1383, 487, 639, 3250, 806, 413, 722, 4379, 882, 1681, 1222, 1278, 923, 676, 935, 852, 1546, 4345, 1405, 1689, 4885, 2451, 1701, 840, 2543, 5455, 2025, 1827, 1501, 1685, 3363, 1572, 2374, 1792, 2493, 4444, 3316, 220, 1, 37, 57, 78, 21, 42, 26, 103, 913, 92, 59, 17, 52, 337, 10, 6, 8, 152, 297, 89, 56, 14, 4, 69, 13, 198, 31, 27, 100, 212, 39, 556, 44, 429, 1254, 53, 126, 62, 54, 94, 1199, 21, 40, 249, 28, 198, 43, 613, 154, 74, 70, 619, 98, 53, 1449, 41, 467, 493], \"xaxis\": \"x\", \"yaxis\": \"y\"}],\n",
              "                        {\"barmode\": \"relative\", \"height\": 600, \"legend\": {\"tracegroupgap\": 0}, \"margin\": {\"t\": 60}, \"template\": {\"data\": {\"bar\": [{\"error_x\": {\"color\": \"#2a3f5f\"}, \"error_y\": {\"color\": \"#2a3f5f\"}, \"marker\": {\"line\": {\"color\": \"#E5ECF6\", \"width\": 0.5}}, \"type\": \"bar\"}], \"barpolar\": [{\"marker\": {\"line\": {\"color\": \"#E5ECF6\", \"width\": 0.5}}, \"type\": \"barpolar\"}], \"carpet\": [{\"aaxis\": {\"endlinecolor\": \"#2a3f5f\", \"gridcolor\": \"white\", \"linecolor\": \"white\", \"minorgridcolor\": \"white\", \"startlinecolor\": \"#2a3f5f\"}, \"baxis\": {\"endlinecolor\": \"#2a3f5f\", \"gridcolor\": \"white\", \"linecolor\": \"white\", \"minorgridcolor\": \"white\", \"startlinecolor\": \"#2a3f5f\"}, \"type\": \"carpet\"}], \"choropleth\": [{\"colorbar\": {\"outlinewidth\": 0, \"ticks\": \"\"}, \"type\": \"choropleth\"}], \"contour\": [{\"colorbar\": {\"outlinewidth\": 0, \"ticks\": \"\"}, \"colorscale\": [[0.0, \"#0d0887\"], [0.1111111111111111, \"#46039f\"], [0.2222222222222222, \"#7201a8\"], [0.3333333333333333, \"#9c179e\"], [0.4444444444444444, \"#bd3786\"], [0.5555555555555556, \"#d8576b\"], [0.6666666666666666, \"#ed7953\"], [0.7777777777777778, \"#fb9f3a\"], [0.8888888888888888, \"#fdca26\"], [1.0, \"#f0f921\"]], \"type\": \"contour\"}], \"contourcarpet\": [{\"colorbar\": {\"outlinewidth\": 0, \"ticks\": \"\"}, \"type\": \"contourcarpet\"}], \"heatmap\": [{\"colorbar\": {\"outlinewidth\": 0, \"ticks\": \"\"}, \"colorscale\": [[0.0, \"#0d0887\"], [0.1111111111111111, \"#46039f\"], [0.2222222222222222, \"#7201a8\"], [0.3333333333333333, \"#9c179e\"], [0.4444444444444444, \"#bd3786\"], [0.5555555555555556, \"#d8576b\"], [0.6666666666666666, \"#ed7953\"], [0.7777777777777778, \"#fb9f3a\"], [0.8888888888888888, \"#fdca26\"], [1.0, \"#f0f921\"]], \"type\": \"heatmap\"}], \"heatmapgl\": [{\"colorbar\": {\"outlinewidth\": 0, \"ticks\": \"\"}, \"colorscale\": [[0.0, \"#0d0887\"], [0.1111111111111111, \"#46039f\"], [0.2222222222222222, \"#7201a8\"], [0.3333333333333333, \"#9c179e\"], [0.4444444444444444, \"#bd3786\"], [0.5555555555555556, \"#d8576b\"], [0.6666666666666666, \"#ed7953\"], [0.7777777777777778, \"#fb9f3a\"], [0.8888888888888888, \"#fdca26\"], [1.0, \"#f0f921\"]], \"type\": \"heatmapgl\"}], \"histogram\": [{\"marker\": {\"colorbar\": {\"outlinewidth\": 0, \"ticks\": \"\"}}, \"type\": \"histogram\"}], \"histogram2d\": [{\"colorbar\": {\"outlinewidth\": 0, \"ticks\": \"\"}, \"colorscale\": [[0.0, \"#0d0887\"], [0.1111111111111111, \"#46039f\"], [0.2222222222222222, \"#7201a8\"], [0.3333333333333333, \"#9c179e\"], [0.4444444444444444, \"#bd3786\"], [0.5555555555555556, \"#d8576b\"], [0.6666666666666666, \"#ed7953\"], [0.7777777777777778, \"#fb9f3a\"], [0.8888888888888888, \"#fdca26\"], [1.0, \"#f0f921\"]], \"type\": \"histogram2d\"}], \"histogram2dcontour\": [{\"colorbar\": {\"outlinewidth\": 0, \"ticks\": \"\"}, \"colorscale\": [[0.0, \"#0d0887\"], [0.1111111111111111, \"#46039f\"], [0.2222222222222222, \"#7201a8\"], [0.3333333333333333, \"#9c179e\"], [0.4444444444444444, \"#bd3786\"], [0.5555555555555556, \"#d8576b\"], [0.6666666666666666, \"#ed7953\"], [0.7777777777777778, \"#fb9f3a\"], [0.8888888888888888, \"#fdca26\"], [1.0, \"#f0f921\"]], \"type\": \"histogram2dcontour\"}], \"mesh3d\": [{\"colorbar\": {\"outlinewidth\": 0, \"ticks\": \"\"}, \"type\": \"mesh3d\"}], \"parcoords\": [{\"line\": {\"colorbar\": {\"outlinewidth\": 0, \"ticks\": \"\"}}, \"type\": \"parcoords\"}], \"scatter\": [{\"marker\": {\"colorbar\": {\"outlinewidth\": 0, \"ticks\": \"\"}}, \"type\": \"scatter\"}], \"scatter3d\": [{\"line\": {\"colorbar\": {\"outlinewidth\": 0, \"ticks\": \"\"}}, \"marker\": {\"colorbar\": {\"outlinewidth\": 0, \"ticks\": \"\"}}, \"type\": \"scatter3d\"}], \"scattercarpet\": [{\"marker\": {\"colorbar\": {\"outlinewidth\": 0, \"ticks\": \"\"}}, \"type\": \"scattercarpet\"}], \"scattergeo\": [{\"marker\": {\"colorbar\": {\"outlinewidth\": 0, \"ticks\": \"\"}}, \"type\": \"scattergeo\"}], \"scattergl\": [{\"marker\": {\"colorbar\": {\"outlinewidth\": 0, \"ticks\": \"\"}}, \"type\": \"scattergl\"}], \"scattermapbox\": [{\"marker\": {\"colorbar\": {\"outlinewidth\": 0, \"ticks\": \"\"}}, \"type\": \"scattermapbox\"}], \"scatterpolar\": [{\"marker\": {\"colorbar\": {\"outlinewidth\": 0, \"ticks\": \"\"}}, \"type\": \"scatterpolar\"}], \"scatterpolargl\": [{\"marker\": {\"colorbar\": {\"outlinewidth\": 0, \"ticks\": \"\"}}, \"type\": \"scatterpolargl\"}], \"scatterternary\": [{\"marker\": {\"colorbar\": {\"outlinewidth\": 0, \"ticks\": \"\"}}, \"type\": \"scatterternary\"}], \"surface\": [{\"colorbar\": {\"outlinewidth\": 0, \"ticks\": \"\"}, \"colorscale\": [[0.0, \"#0d0887\"], [0.1111111111111111, \"#46039f\"], [0.2222222222222222, \"#7201a8\"], [0.3333333333333333, \"#9c179e\"], [0.4444444444444444, \"#bd3786\"], [0.5555555555555556, \"#d8576b\"], [0.6666666666666666, \"#ed7953\"], [0.7777777777777778, \"#fb9f3a\"], [0.8888888888888888, \"#fdca26\"], [1.0, \"#f0f921\"]], \"type\": \"surface\"}], \"table\": [{\"cells\": {\"fill\": {\"color\": \"#EBF0F8\"}, \"line\": {\"color\": \"white\"}}, \"header\": {\"fill\": {\"color\": \"#C8D4E3\"}, \"line\": {\"color\": \"white\"}}, \"type\": \"table\"}]}, \"layout\": {\"annotationdefaults\": {\"arrowcolor\": \"#2a3f5f\", \"arrowhead\": 0, \"arrowwidth\": 1}, \"colorscale\": {\"diverging\": [[0, \"#8e0152\"], [0.1, \"#c51b7d\"], [0.2, \"#de77ae\"], [0.3, \"#f1b6da\"], [0.4, \"#fde0ef\"], [0.5, \"#f7f7f7\"], [0.6, \"#e6f5d0\"], [0.7, \"#b8e186\"], [0.8, \"#7fbc41\"], [0.9, \"#4d9221\"], [1, \"#276419\"]], \"sequential\": [[0.0, \"#0d0887\"], [0.1111111111111111, \"#46039f\"], [0.2222222222222222, \"#7201a8\"], [0.3333333333333333, \"#9c179e\"], [0.4444444444444444, \"#bd3786\"], [0.5555555555555556, \"#d8576b\"], [0.6666666666666666, \"#ed7953\"], [0.7777777777777778, \"#fb9f3a\"], [0.8888888888888888, \"#fdca26\"], [1.0, \"#f0f921\"]], \"sequentialminus\": [[0.0, \"#0d0887\"], [0.1111111111111111, \"#46039f\"], [0.2222222222222222, \"#7201a8\"], [0.3333333333333333, \"#9c179e\"], [0.4444444444444444, \"#bd3786\"], [0.5555555555555556, \"#d8576b\"], [0.6666666666666666, \"#ed7953\"], [0.7777777777777778, \"#fb9f3a\"], [0.8888888888888888, \"#fdca26\"], [1.0, \"#f0f921\"]]}, \"colorway\": [\"#636efa\", \"#EF553B\", \"#00cc96\", \"#ab63fa\", \"#FFA15A\", \"#19d3f3\", \"#FF6692\", \"#B6E880\", \"#FF97FF\", \"#FECB52\"], \"font\": {\"color\": \"#2a3f5f\"}, \"geo\": {\"bgcolor\": \"white\", \"lakecolor\": \"white\", \"landcolor\": \"#E5ECF6\", \"showlakes\": true, \"showland\": true, \"subunitcolor\": \"white\"}, \"hoverlabel\": {\"align\": \"left\"}, \"hovermode\": \"closest\", \"mapbox\": {\"style\": \"light\"}, \"paper_bgcolor\": \"white\", \"plot_bgcolor\": \"#E5ECF6\", \"polar\": {\"angularaxis\": {\"gridcolor\": \"white\", \"linecolor\": \"white\", \"ticks\": \"\"}, \"bgcolor\": \"#E5ECF6\", \"radialaxis\": {\"gridcolor\": \"white\", \"linecolor\": \"white\", \"ticks\": \"\"}}, \"scene\": {\"xaxis\": {\"backgroundcolor\": \"#E5ECF6\", \"gridcolor\": \"white\", \"gridwidth\": 2, \"linecolor\": \"white\", \"showbackground\": true, \"ticks\": \"\", \"zerolinecolor\": \"white\"}, \"yaxis\": {\"backgroundcolor\": \"#E5ECF6\", \"gridcolor\": \"white\", \"gridwidth\": 2, \"linecolor\": \"white\", \"showbackground\": true, \"ticks\": \"\", \"zerolinecolor\": \"white\"}, \"zaxis\": {\"backgroundcolor\": \"#E5ECF6\", \"gridcolor\": \"white\", \"gridwidth\": 2, \"linecolor\": \"white\", \"showbackground\": true, \"ticks\": \"\", \"zerolinecolor\": \"white\"}}, \"shapedefaults\": {\"line\": {\"color\": \"#2a3f5f\"}}, \"ternary\": {\"aaxis\": {\"gridcolor\": \"white\", \"linecolor\": \"white\", \"ticks\": \"\"}, \"baxis\": {\"gridcolor\": \"white\", \"linecolor\": \"white\", \"ticks\": \"\"}, \"bgcolor\": \"#E5ECF6\", \"caxis\": {\"gridcolor\": \"white\", \"linecolor\": \"white\", \"ticks\": \"\"}}, \"title\": {\"x\": 0.05}, \"xaxis\": {\"automargin\": true, \"gridcolor\": \"white\", \"linecolor\": \"white\", \"ticks\": \"\", \"zerolinecolor\": \"white\", \"zerolinewidth\": 2}, \"yaxis\": {\"automargin\": true, \"gridcolor\": \"white\", \"linecolor\": \"white\", \"ticks\": \"\", \"zerolinecolor\": \"white\", \"zerolinewidth\": 2}}}, \"xaxis\": {\"anchor\": \"y\", \"domain\": [0.0, 0.98], \"title\": {\"text\": \"timeOnSite\"}}, \"yaxis\": {\"anchor\": \"x\", \"domain\": [0.0, 1.0], \"title\": {\"text\": \"count\"}}},\n",
              "                        {\"responsive\": true}\n",
              "                    ).then(function(){\n",
              "                            \n",
              "var gd = document.getElementById('47a3b222-e555-4b4e-a9f9-5f28a1a59115');\n",
              "var x = new MutationObserver(function (mutations, observer) {{\n",
              "        var display = window.getComputedStyle(gd).display;\n",
              "        if (!display || display === 'none') {{\n",
              "            console.log([gd, 'removed!']);\n",
              "            Plotly.purge(gd);\n",
              "            observer.disconnect();\n",
              "        }}\n",
              "}});\n",
              "\n",
              "// Listen for the removal of the full notebook cells\n",
              "var notebookContainer = gd.closest('#notebook-container');\n",
              "if (notebookContainer) {{\n",
              "    x.observe(notebookContainer, {childList: true});\n",
              "}}\n",
              "\n",
              "// Listen for the clearing of the current output cell\n",
              "var outputEl = gd.closest('.output');\n",
              "if (outputEl) {{\n",
              "    x.observe(outputEl, {childList: true});\n",
              "}}\n",
              "\n",
              "                        })\n",
              "                };\n",
              "                \n",
              "            </script>\n",
              "        </div>\n",
              "</body>\n",
              "</html>"
            ]
          },
          "metadata": {
            "tags": []
          }
        }
      ]
    },
    {
      "cell_type": "markdown",
      "metadata": {
        "id": "xK2sj9G1uHBf",
        "colab_type": "text"
      },
      "source": [
        "Most of the visitors spend time on the platform between 0- 99 seconds.\n",
        "It is seen that there are outliers who spend time on the platform more than 2000 seconds."
      ]
    },
    {
      "cell_type": "markdown",
      "metadata": {
        "id": "LjraFhso0LJO",
        "colab_type": "text"
      },
      "source": [
        "# 9. Do you see any correlation between time spent on the platform and the total revenue? Try to explain with a plot and comment on it."
      ]
    },
    {
      "cell_type": "code",
      "metadata": {
        "id": "IOPX43t2r9vg",
        "colab_type": "code",
        "cellView": "form",
        "outputId": "2c0f99d2-f55d-4ec1-ea96-8f8c693d0050",
        "colab": {
          "base_uri": "https://localhost:8080/",
          "height": 198
        }
      },
      "source": [
        "#@title About the Data\n",
        "\n",
        "path = \"/content/drive/My Drive/dh_data/q_9.csv\"\n",
        "data_q9 = pd.read_csv(path)\n",
        "data_q9.head()"
      ],
      "execution_count": 0,
      "outputs": [
        {
          "output_type": "execute_result",
          "data": {
            "text/html": [
              "<div>\n",
              "<style scoped>\n",
              "    .dataframe tbody tr th:only-of-type {\n",
              "        vertical-align: middle;\n",
              "    }\n",
              "\n",
              "    .dataframe tbody tr th {\n",
              "        vertical-align: top;\n",
              "    }\n",
              "\n",
              "    .dataframe thead th {\n",
              "        text-align: right;\n",
              "    }\n",
              "</style>\n",
              "<table border=\"1\" class=\"dataframe\">\n",
              "  <thead>\n",
              "    <tr style=\"text-align: right;\">\n",
              "      <th></th>\n",
              "      <th>timeOnSite</th>\n",
              "      <th>totalTransactionRevenue</th>\n",
              "      <th>fullVisitorId</th>\n",
              "    </tr>\n",
              "  </thead>\n",
              "  <tbody>\n",
              "    <tr>\n",
              "      <th>0</th>\n",
              "      <td>21</td>\n",
              "      <td>NaN</td>\n",
              "      <td>9563201247433687898</td>\n",
              "    </tr>\n",
              "    <tr>\n",
              "      <th>1</th>\n",
              "      <td>22</td>\n",
              "      <td>NaN</td>\n",
              "      <td>446881336866901267</td>\n",
              "    </tr>\n",
              "    <tr>\n",
              "      <th>2</th>\n",
              "      <td>14</td>\n",
              "      <td>NaN</td>\n",
              "      <td>7639981567880780476</td>\n",
              "    </tr>\n",
              "    <tr>\n",
              "      <th>3</th>\n",
              "      <td>60</td>\n",
              "      <td>NaN</td>\n",
              "      <td>1323143631015435941</td>\n",
              "    </tr>\n",
              "    <tr>\n",
              "      <th>4</th>\n",
              "      <td>6</td>\n",
              "      <td>NaN</td>\n",
              "      <td>5170381678885002061</td>\n",
              "    </tr>\n",
              "  </tbody>\n",
              "</table>\n",
              "</div>"
            ],
            "text/plain": [
              "   timeOnSite  totalTransactionRevenue        fullVisitorId\n",
              "0          21                      NaN  9563201247433687898\n",
              "1          22                      NaN   446881336866901267\n",
              "2          14                      NaN  7639981567880780476\n",
              "3          60                      NaN  1323143631015435941\n",
              "4           6                      NaN  5170381678885002061"
            ]
          },
          "metadata": {
            "tags": []
          },
          "execution_count": 19
        }
      ]
    },
    {
      "cell_type": "code",
      "metadata": {
        "id": "Qm_BpV_dsJuB",
        "colab_type": "code",
        "cellView": "form",
        "colab": {}
      },
      "source": [
        "#@title\n",
        "column_names=[\"timeOnSite\",\"totalTransactionRevenue\"]\n",
        "data_for_corr= data_q9[column_names]"
      ],
      "execution_count": 0,
      "outputs": []
    },
    {
      "cell_type": "code",
      "metadata": {
        "id": "2yqL_4O0s0bR",
        "colab_type": "code",
        "cellView": "form",
        "outputId": "d190c3e8-f612-4519-ce45-0768f5acc84a",
        "colab": {
          "base_uri": "https://localhost:8080/",
          "height": 422
        }
      },
      "source": [
        "#@title\n",
        "def CheckingCorrelations(df):\n",
        "\n",
        "    column_names=df.columns \n",
        "    num = len(column_names)\n",
        "    correlations = df[column_names].corr()\n",
        "    print(correlations)\n",
        "\n",
        "    fig = plt.figure(figsize=[8, 6])\n",
        "    ax = fig.add_subplot(111)\n",
        "    cax = ax.matshow(correlations, vmin=-1, vmax=1) #, cmap='BuPu'\n",
        "    fig.colorbar(cax)\n",
        "    ticks = np.arange(0, num, 1)\n",
        "    ax.set_xticks(ticks)\n",
        "    ax.set_yticks(ticks)\n",
        "    ax.set_xticklabels(column_names)\n",
        "    ax.set_yticklabels(column_names)\n",
        "    ax.tick_params(labelsize=13)\n",
        "    plt.show()\n",
        "\n",
        "CheckingCorrelations(data_for_corr)"
      ],
      "execution_count": 0,
      "outputs": [
        {
          "output_type": "stream",
          "text": [
            "                         timeOnSite  totalTransactionRevenue\n",
            "timeOnSite                 1.000000                 0.049149\n",
            "totalTransactionRevenue    0.049149                 1.000000\n"
          ],
          "name": "stdout"
        },
        {
          "output_type": "display_data",
          "data": {
            "image/png": "[encoded data removed]",
            "text/plain": [
              "<Figure size 576x432 with 2 Axes>"
            ]
          },
          "metadata": {
            "tags": []
          }
        }
      ]
    },
    {
      "cell_type": "markdown",
      "metadata": {
        "id": "5SkMvzFEwRoY",
        "colab_type": "text"
      },
      "source": [
        "In contrast to common expectation  there is no relation between time spent on the platform and the total revenue\n",
        "\n"
      ]
    },
    {
      "cell_type": "markdown",
      "metadata": {
        "id": "Se9uscTi0ZEt",
        "colab_type": "text"
      },
      "source": [
        "#10. Try to visualise the pair distribution (2D) of the time spent on the platform and total number of hits, for each visit. Compare and comment on such distribution for top two countries with most traffic. \n"
      ]
    },
    {
      "cell_type": "markdown",
      "metadata": {
        "id": "KxDvQYHJS0aG",
        "colab_type": "text"
      },
      "source": [
        "**USA**\n",
        "\n",
        "\n",
        "---\n",
        "\n",
        "\n",
        "\n",
        "\n"
      ]
    },
    {
      "cell_type": "code",
      "metadata": {
        "id": "NUoBYM5tus3j",
        "colab_type": "code",
        "cellView": "form",
        "outputId": "3968933b-8b50-44fe-d909-7bafce00f5ce",
        "colab": {
          "base_uri": "https://localhost:8080/",
          "height": 198
        }
      },
      "source": [
        "#@title About the Data\n",
        "\n",
        "path = \"/content/drive/My Drive/dh_data/q10_US.csv\"\n",
        "data_q10_us = pd.read_csv(path)\n",
        "data_q10_us.head()"
      ],
      "execution_count": 0,
      "outputs": [
        {
          "output_type": "execute_result",
          "data": {
            "text/html": [
              "<div>\n",
              "<style scoped>\n",
              "    .dataframe tbody tr th:only-of-type {\n",
              "        vertical-align: middle;\n",
              "    }\n",
              "\n",
              "    .dataframe tbody tr th {\n",
              "        vertical-align: top;\n",
              "    }\n",
              "\n",
              "    .dataframe thead th {\n",
              "        text-align: right;\n",
              "    }\n",
              "</style>\n",
              "<table border=\"1\" class=\"dataframe\">\n",
              "  <thead>\n",
              "    <tr style=\"text-align: right;\">\n",
              "      <th></th>\n",
              "      <th>hits</th>\n",
              "      <th>timeonsite</th>\n",
              "      <th>visitid</th>\n",
              "    </tr>\n",
              "  </thead>\n",
              "  <tbody>\n",
              "    <tr>\n",
              "      <th>0</th>\n",
              "      <td>2</td>\n",
              "      <td>6</td>\n",
              "      <td>1501639088</td>\n",
              "    </tr>\n",
              "    <tr>\n",
              "      <th>1</th>\n",
              "      <td>2</td>\n",
              "      <td>1</td>\n",
              "      <td>1501647074</td>\n",
              "    </tr>\n",
              "    <tr>\n",
              "      <th>2</th>\n",
              "      <td>2</td>\n",
              "      <td>154</td>\n",
              "      <td>1501632079</td>\n",
              "    </tr>\n",
              "    <tr>\n",
              "      <th>3</th>\n",
              "      <td>2</td>\n",
              "      <td>48</td>\n",
              "      <td>1501636720</td>\n",
              "    </tr>\n",
              "    <tr>\n",
              "      <th>4</th>\n",
              "      <td>2</td>\n",
              "      <td>30</td>\n",
              "      <td>1501617904</td>\n",
              "    </tr>\n",
              "  </tbody>\n",
              "</table>\n",
              "</div>"
            ],
            "text/plain": [
              "   hits  timeonsite     visitid\n",
              "0     2           6  1501639088\n",
              "1     2           1  1501647074\n",
              "2     2         154  1501632079\n",
              "3     2          48  1501636720\n",
              "4     2          30  1501617904"
            ]
          },
          "metadata": {
            "tags": []
          },
          "execution_count": 23
        }
      ]
    },
    {
      "cell_type": "code",
      "metadata": {
        "id": "zsu1cyJ_vAl0",
        "colab_type": "code",
        "cellView": "form",
        "outputId": "aca8496b-c333-4754-cd06-571142f1e34a",
        "colab": {
          "base_uri": "https://localhost:8080/",
          "height": 617
        }
      },
      "source": [
        "#@title Time Spent on the Platform vs Total Number of Hits in USA\n",
        "\n",
        "fig = px.scatter(data_q10_us, x=\"hits\", y=\"timeonsite\")\n",
        "fig.show()"
      ],
      "execution_count": 0,
      "outputs": [
        {
          "output_type": "display_data",
          "data": {
            "text/html": [
              "<html>\n",
              "<head><meta charset=\"utf-8\" /></head>\n",
              "<body>\n",
              "    <div>\n",
              "            <script src=\"https://cdnjs.cloudflare.com/ajax/libs/mathjax/2.7.5/MathJax.js?config=TeX-AMS-MML_SVG\"></script><script type=\"text/javascript\">if (window.MathJax) {MathJax.Hub.Config({SVG: {font: \"STIX-Web\"}});}</script>\n",
              "                <script type=\"text/javascript\">window.PlotlyConfig = {MathJaxConfig: 'local'};</script>\n",
              "        <script src=\"https://cdn.plot.ly/plotly-latest.min.js\"></script>    \n",
              "            <div id=\"9a993741-6888-4228-b5f9-8478df61e44d\" class=\"plotly-graph-div\" style=\"height:600px; width:100%;\"></div>\n",
              "            <script type=\"text/javascript\">\n",
              "                \n",
              "                    window.PLOTLYENV=window.PLOTLYENV || {};\n",
              "                    \n",
              "                if (document.getElementById(\"9a993741-6888-4228-b5f9-8478df61e44d\")) {\n",
              "                    Plotly.newPlot(\n",
              "                        '9a993741-6888-4228-b5f9-8478df61e44d',\n",
              "                        [{\"hoverlabel\": {\"namelength\": 0}, \"hovertemplate\": \"hits=%{x}<br>timeonsite=%{y}\", \"legendgroup\": \"\", \"marker\": {\"color\": \"#636efa\", \"symbol\": \"circle\"}, \"mode\": \"markers\", \"name\": \"\", \"showlegend\": false, \"type\": \"scatter\", \"x\": [2, 2, 2, 2, 2, 2, 2, 2, 2, 2, 2, 2, 2, 2, 2, 2, 2, 2, 2, 2, 2, 2, 2, 2, 2, 2, 2, 2, 2, 2, 2, 2, 2, 2, 2, 2, 2, 2, 2, 2, 2, 2, 2, 2, 2, 2, 2, 2, 2, 2, 2, 2, 2, 2, 2, 2, 2, 2, 2, 2, 2, 2, 2, 2, 2, 2, 2, 2, 2, 2, 2, 2, 2, 2, 2, 2, 2, 2, 2, 2, 2, 2, 2, 2, 2, 2, 2, 2, 2, 2, 2, 2, 2, 2, 2, 2, 2, 2, 2, 2, 2, 2, 2, 2, 2, 2, 2, 2, 2, 2, 2, 2, 2, 2, 2, 2, 2, 2, 2, 2, 2, 2, 2, 2, 2, 2, 2, 2, 2, 2, 2, 2, 2, 2, 2, 2, 2, 2, 2, 2, 2, 2, 2, 2, 2, 2, 2, 2, 2, 2, 2, 2, 2, 2, 2, 2, 2, 2, 3, 3, 3, 3, 3, 3, 3, 3, 3, 3, 3, 3, 3, 3, 3, 3, 3, 3, 3, 3, 3, 3, 3, 3, 3, 3, 3, 3, 3, 3, 3, 3, 3, 3, 3, 3, 3, 3, 3, 3, 3, 3, 3, 3, 3, 3, 3, 3, 3, 3, 3, 3, 3, 3, 3, 3, 3, 3, 3, 3, 3, 3, 3, 3, 3, 3, 3, 3, 3, 3, 3, 3, 3, 3, 3, 3, 3, 3, 3, 3, 3, 3, 3, 3, 3, 3, 3, 3, 3, 3, 3, 3, 3, 3, 3, 3, 3, 3, 3, 3, 3, 3, 3, 3, 3, 3, 3, 3, 3, 3, 3, 3, 3, 3, 3, 3, 3, 3, 3, 3, 3, 3, 3, 3, 3, 3, 3, 3, 3, 3, 3, 3, 3, 3, 3, 3, 3, 3, 4, 4, 4, 4, 4, 4, 4, 4, 4, 4, 4, 4, 4, 4, 4, 4, 4, 4, 4, 4, 4, 4, 4, 4, 4, 4, 4, 4, 4, 4, 4, 4, 4, 4, 4, 4, 4, 4, 4, 4, 4, 4, 4, 4, 4, 4, 4, 4, 4, 4, 4, 4, 4, 4, 4, 4, 4, 4, 4, 4, 4, 4, 4, 4, 4, 4, 4, 4, 4, 4, 4, 4, 4, 4, 4, 4, 4, 5, 5, 5, 5, 5, 5, 5, 5, 5, 5, 5, 5, 5, 5, 5, 5, 5, 5, 5, 5, 5, 5, 5, 5, 5, 5, 5, 5, 5, 5, 5, 5, 5, 5, 5, 5, 5, 5, 5, 5, 5, 5, 5, 5, 5, 5, 5, 5, 5, 5, 5, 5, 6, 6, 6, 6, 6, 6, 6, 6, 6, 6, 6, 6, 6, 6, 6, 6, 6, 6, 6, 6, 6, 6, 6, 6, 6, 6, 6, 6, 6, 6, 6, 6, 6, 6, 6, 6, 6, 6, 6, 6, 6, 6, 6, 6, 6, 6, 7, 7, 7, 7, 7, 7, 7, 7, 7, 7, 7, 7, 7, 7, 7, 7, 7, 7, 7, 7, 7, 7, 7, 7, 7, 7, 7, 7, 7, 7, 7, 8, 8, 8, 8, 8, 8, 8, 8, 8, 8, 8, 8, 8, 8, 8, 8, 8, 8, 8, 8, 8, 8, 8, 8, 8, 8, 8, 8, 8, 9, 9, 9, 9, 9, 9, 9, 9, 9, 9, 9, 9, 9, 9, 9, 9, 9, 9, 9, 9, 9, 9, 10, 10, 10, 10, 10, 10, 10, 10, 10, 10, 10, 10, 10, 10, 10, 10, 10, 10, 11, 11, 11, 11, 11, 11, 11, 11, 11, 11, 11, 11, 11, 11, 11, 11, 12, 12, 12, 12, 12, 12, 12, 12, 12, 12, 12, 12, 12, 12, 12, 12, 13, 13, 13, 13, 13, 13, 13, 13, 14, 14, 14, 14, 14, 14, 14, 14, 14, 14, 14, 14, 14, 14, 14, 15, 15, 15, 15, 15, 15, 15, 15, 15, 15, 15, 15, 15, 16, 16, 16, 16, 16, 16, 16, 16, 16, 16, 16, 16, 17, 17, 17, 17, 17, 17, 17, 17, 17, 17, 17, 17, 17, 17, 17, 18, 18, 18, 18, 18, 18, 18, 18, 18, 18, 19, 19, 19, 19, 19, 19, 20, 20, 20, 20, 20, 20, 20, 20, 21, 21, 21, 21, 21, 21, 21, 21, 21, 21, 21, 22, 22, 23, 23, 23, 23, 23, 23, 23, 23, 23, 23, 23, 24, 24, 24, 24, 24, 25, 25, 25, 25, 25, 25, 25, 25, 26, 26, 26, 26, 26, 27, 27, 28, 28, 28, 28, 29, 29, 29, 29, 30, 30, 30, 30, 30, 32, 32, 32, 32, 33, 33, 33, 33, 34, 34, 34, 34, 35, 35, 35, 35, 35, 36, 36, 36, 37, 38, 39, 39, 39, 39, 39, 42, 42, 44, 47, 47, 48, 53, 53, 53, 55, 55, 58, 60, 62, 63, 64, 71, 71, 78, 80, 81, 82, 84, 100, 140, 156, 193, 2, 2, 2, 3, 3, 3, 4, 4, 4, 5, 5, 5, 5, 5, 5, 6, 11, 12, 14], \"xaxis\": \"x\", \"y\": [6, 1, 154, 48, 30, 536, 27, 131, 39, 45, 64, 25, 10, 87, 10, 11, 23, 37, 61, 8, 87, 12, 35, 16, 80, 31, 98, 8, 44, 137, 12, 629, 27, 17, 447, 11, 540, 118, 14, 36, 111, 8, 35, 954, 33, 17, 8, 27, 810, 5, 6, 5, 21, 42, 57, 27, 37, 13, 149, 9, 320, 18, 6, 25, 8, 82, 3, 5, 3, 7, 8, 3, 5, 4, 2, 3, 1725, 7, 8, 8, 12, 5, 4, 4, 189, 3, 14, 10, 22, 3, 1, 5, 6, 5, 456, 13, 15, 16, 10, 9, 11, 4, 5, 2, 8, 25, 5, 13, 39, 48, 77, 6, 11, 26, 22, 5, 32, 98, 16, 16, 33, 13, 36, 21, 41, 21, 127, 27, 11, 43, 122, 185, 16, 12, 51, 11, 68, 22, 7, 8, 38, 21, 3, 134, 293, 5, 14, 26, 35, 14, 56, 36, 16, 24, 11, 29, 111, 13, 285, 23, 2, 538, 427, 15, 19, 29, 220, 32, 12, 70, 62, 22, 25, 24, 37, 71, 27, 21, 50, 84, 53, 37, 16, 5, 34, 50, 87, 47, 123, 41, 95, 21, 30, 66, 29, 187, 135, 167, 47, 66, 31, 12, 11, 23, 26, 14, 768, 20, 16, 16, 941, 82, 1095, 16, 14, 11, 17, 31, 13, 14, 1162, 67, 27, 29, 19, 23, 22, 22, 41, 28, 67, 31, 35, 19, 22, 24, 22, 19, 53, 38, 22, 45, 62, 53, 24, 28, 19, 96, 29, 5, 23, 11, 30, 13, 87, 6, 19, 11, 18, 24, 12, 32, 86, 137, 13, 194, 63, 37, 24, 149, 38, 237, 99, 37, 29, 78, 186, 189, 26, 47, 64, 75, 20, 68, 223, 22, 18, 14, 77, 60, 18, 65, 19, 19, 27, 9, 49, 45, 413, 22, 30, 838, 66, 76, 81, 239, 13, 158, 29, 55, 41, 249, 390, 89, 1723, 94, 538, 147, 755, 1, 83, 78, 34, 30, 46, 35, 110, 119, 36, 27, 213, 19, 95, 225, 42, 29, 47, 52, 116, 79, 51, 37, 37, 29, 418, 239, 93, 57, 928, 206, 43, 136, 138, 301, 190, 610, 16, 112, 70, 59, 74, 59, 23, 99, 351, 310, 39, 67, 74, 449, 20, 37, 18, 102, 166, 75, 40, 64, 29, 107, 31, 91, 56, 43, 37, 39, 778, 116, 102, 40, 138, 83, 47, 70, 53, 278, 191, 61, 98, 35, 68, 106, 307, 85, 44, 110, 56, 564, 69, 202, 99, 60, 57, 55, 561, 263, 33, 52, 287, 126, 122, 128, 60, 70, 634, 85, 302, 72, 65, 84, 161, 1824, 131, 269, 145, 149, 1664, 35, 3078, 1219, 29, 98, 34, 150, 104, 122, 99, 107, 68, 60, 222, 75, 29, 77, 1205, 64, 143, 45, 398, 67, 106, 64, 1345, 19, 99, 24, 26, 13, 301, 16, 58, 363, 80, 237, 2210, 206, 228, 877, 136, 142, 30, 48, 109, 227, 195, 72, 209, 93, 35, 358, 141, 527, 98, 20, 24, 156, 38, 105, 269, 121, 45, 126, 187, 1025, 309, 203, 580, 47, 1057, 200, 494, 125, 100, 203, 277, 613, 216, 158, 56, 125, 825, 33, 135, 212, 28, 457, 112, 1676, 166, 130, 45, 135, 155, 157, 325, 112, 704, 427, 45, 88, 114, 150, 111, 47, 125, 461, 591, 116, 102, 129, 20, 249, 126, 124, 275, 102, 146, 1560, 370, 93, 599, 451, 120, 78, 111, 118, 1681, 586, 130, 59, 173, 233, 415, 238, 281, 225, 1077, 272, 512, 731, 456, 340, 212, 666, 358, 750, 228, 1215, 273, 288, 143, 1192, 341, 316, 80, 212, 380, 153, 420, 374, 106, 203, 116, 177, 188, 1283, 626, 292, 157, 515, 469, 701, 237, 193, 96, 135, 286, 310, 749, 466, 491, 311, 364, 70, 140, 364, 782, 1471, 271, 631, 255, 239, 1415, 208, 325, 640, 314, 294, 559, 250, 1514, 847, 149, 498, 477, 507, 237, 443, 1474, 320, 151, 270, 197, 554, 262, 2225, 665, 514, 2725, 178, 241, 1721, 732, 713, 965, 802, 1612, 201, 735, 219, 758, 1102, 716, 1114, 162, 604, 385, 675, 1203, 1187, 196, 459, 127, 966, 778, 292, 1349, 293, 204, 2328, 176, 263, 1157, 401, 1478, 384, 330, 261, 647, 966, 524, 429, 662, 333, 705, 343, 3092, 1926, 396, 503, 139, 678, 950, 455, 627, 628, 278, 1376, 914, 3261, 2445, 1065, 262, 565, 332, 1021, 2011, 335, 561, 936, 277, 239, 757, 1795, 605, 1133, 1414, 441, 1533, 672, 1150, 336, 2684, 846, 794, 761, 1005, 1176, 4238, 561, 2772, 426, 495, 3441, 465, 263, 874, 2344, 3156, 365, 378, 693, 922, 832, 647, 840, 1548, 870, 2171, 1383, 487, 639, 3250, 806, 413, 722, 882, 1222, 1278, 923, 852, 1546, 4345, 1405, 1689, 4885, 1701, 840, 2543, 5455, 2025, 1827, 1501, 1685, 3363, 1572, 2374, 1792, 2493, 4444, 3316, 1, 913, 8, 89, 198, 27, 100, 39, 1254, 62, 54, 94, 1199, 21, 249, 613, 53, 1449, 41], \"yaxis\": \"y\"}],\n",
              "                        {\"height\": 600, \"legend\": {\"tracegroupgap\": 0}, \"margin\": {\"t\": 60}, \"template\": {\"data\": {\"bar\": [{\"error_x\": {\"color\": \"#2a3f5f\"}, \"error_y\": {\"color\": \"#2a3f5f\"}, \"marker\": {\"line\": {\"color\": \"#E5ECF6\", \"width\": 0.5}}, \"type\": \"bar\"}], \"barpolar\": [{\"marker\": {\"line\": {\"color\": \"#E5ECF6\", \"width\": 0.5}}, \"type\": \"barpolar\"}], \"carpet\": [{\"aaxis\": {\"endlinecolor\": \"#2a3f5f\", \"gridcolor\": \"white\", \"linecolor\": \"white\", \"minorgridcolor\": \"white\", \"startlinecolor\": \"#2a3f5f\"}, \"baxis\": {\"endlinecolor\": \"#2a3f5f\", \"gridcolor\": \"white\", \"linecolor\": \"white\", \"minorgridcolor\": \"white\", \"startlinecolor\": \"#2a3f5f\"}, \"type\": \"carpet\"}], \"choropleth\": [{\"colorbar\": {\"outlinewidth\": 0, \"ticks\": \"\"}, \"type\": \"choropleth\"}], \"contour\": [{\"colorbar\": {\"outlinewidth\": 0, \"ticks\": \"\"}, \"colorscale\": [[0.0, \"#0d0887\"], [0.1111111111111111, \"#46039f\"], [0.2222222222222222, \"#7201a8\"], [0.3333333333333333, \"#9c179e\"], [0.4444444444444444, \"#bd3786\"], [0.5555555555555556, \"#d8576b\"], [0.6666666666666666, \"#ed7953\"], [0.7777777777777778, \"#fb9f3a\"], [0.8888888888888888, \"#fdca26\"], [1.0, \"#f0f921\"]], \"type\": \"contour\"}], \"contourcarpet\": [{\"colorbar\": {\"outlinewidth\": 0, \"ticks\": \"\"}, \"type\": \"contourcarpet\"}], \"heatmap\": [{\"colorbar\": {\"outlinewidth\": 0, \"ticks\": \"\"}, \"colorscale\": [[0.0, \"#0d0887\"], [0.1111111111111111, \"#46039f\"], [0.2222222222222222, \"#7201a8\"], [0.3333333333333333, \"#9c179e\"], [0.4444444444444444, \"#bd3786\"], [0.5555555555555556, \"#d8576b\"], [0.6666666666666666, \"#ed7953\"], [0.7777777777777778, \"#fb9f3a\"], [0.8888888888888888, \"#fdca26\"], [1.0, \"#f0f921\"]], \"type\": \"heatmap\"}], \"heatmapgl\": [{\"colorbar\": {\"outlinewidth\": 0, \"ticks\": \"\"}, \"colorscale\": [[0.0, \"#0d0887\"], [0.1111111111111111, \"#46039f\"], [0.2222222222222222, \"#7201a8\"], [0.3333333333333333, \"#9c179e\"], [0.4444444444444444, \"#bd3786\"], [0.5555555555555556, \"#d8576b\"], [0.6666666666666666, \"#ed7953\"], [0.7777777777777778, \"#fb9f3a\"], [0.8888888888888888, \"#fdca26\"], [1.0, \"#f0f921\"]], \"type\": \"heatmapgl\"}], \"histogram\": [{\"marker\": {\"colorbar\": {\"outlinewidth\": 0, \"ticks\": \"\"}}, \"type\": \"histogram\"}], \"histogram2d\": [{\"colorbar\": {\"outlinewidth\": 0, \"ticks\": \"\"}, \"colorscale\": [[0.0, \"#0d0887\"], [0.1111111111111111, \"#46039f\"], [0.2222222222222222, \"#7201a8\"], [0.3333333333333333, \"#9c179e\"], [0.4444444444444444, \"#bd3786\"], [0.5555555555555556, \"#d8576b\"], [0.6666666666666666, \"#ed7953\"], [0.7777777777777778, \"#fb9f3a\"], [0.8888888888888888, \"#fdca26\"], [1.0, \"#f0f921\"]], \"type\": \"histogram2d\"}], \"histogram2dcontour\": [{\"colorbar\": {\"outlinewidth\": 0, \"ticks\": \"\"}, \"colorscale\": [[0.0, \"#0d0887\"], [0.1111111111111111, \"#46039f\"], [0.2222222222222222, \"#7201a8\"], [0.3333333333333333, \"#9c179e\"], [0.4444444444444444, \"#bd3786\"], [0.5555555555555556, \"#d8576b\"], [0.6666666666666666, \"#ed7953\"], [0.7777777777777778, \"#fb9f3a\"], [0.8888888888888888, \"#fdca26\"], [1.0, \"#f0f921\"]], \"type\": \"histogram2dcontour\"}], \"mesh3d\": [{\"colorbar\": {\"outlinewidth\": 0, \"ticks\": \"\"}, \"type\": \"mesh3d\"}], \"parcoords\": [{\"line\": {\"colorbar\": {\"outlinewidth\": 0, \"ticks\": \"\"}}, \"type\": \"parcoords\"}], \"scatter\": [{\"marker\": {\"colorbar\": {\"outlinewidth\": 0, \"ticks\": \"\"}}, \"type\": \"scatter\"}], \"scatter3d\": [{\"line\": {\"colorbar\": {\"outlinewidth\": 0, \"ticks\": \"\"}}, \"marker\": {\"colorbar\": {\"outlinewidth\": 0, \"ticks\": \"\"}}, \"type\": \"scatter3d\"}], \"scattercarpet\": [{\"marker\": {\"colorbar\": {\"outlinewidth\": 0, \"ticks\": \"\"}}, \"type\": \"scattercarpet\"}], \"scattergeo\": [{\"marker\": {\"colorbar\": {\"outlinewidth\": 0, \"ticks\": \"\"}}, \"type\": \"scattergeo\"}], \"scattergl\": [{\"marker\": {\"colorbar\": {\"outlinewidth\": 0, \"ticks\": \"\"}}, \"type\": \"scattergl\"}], \"scattermapbox\": [{\"marker\": {\"colorbar\": {\"outlinewidth\": 0, \"ticks\": \"\"}}, \"type\": \"scattermapbox\"}], \"scatterpolar\": [{\"marker\": {\"colorbar\": {\"outlinewidth\": 0, \"ticks\": \"\"}}, \"type\": \"scatterpolar\"}], \"scatterpolargl\": [{\"marker\": {\"colorbar\": {\"outlinewidth\": 0, \"ticks\": \"\"}}, \"type\": \"scatterpolargl\"}], \"scatterternary\": [{\"marker\": {\"colorbar\": {\"outlinewidth\": 0, \"ticks\": \"\"}}, \"type\": \"scatterternary\"}], \"surface\": [{\"colorbar\": {\"outlinewidth\": 0, \"ticks\": \"\"}, \"colorscale\": [[0.0, \"#0d0887\"], [0.1111111111111111, \"#46039f\"], [0.2222222222222222, \"#7201a8\"], [0.3333333333333333, \"#9c179e\"], [0.4444444444444444, \"#bd3786\"], [0.5555555555555556, \"#d8576b\"], [0.6666666666666666, \"#ed7953\"], [0.7777777777777778, \"#fb9f3a\"], [0.8888888888888888, \"#fdca26\"], [1.0, \"#f0f921\"]], \"type\": \"surface\"}], \"table\": [{\"cells\": {\"fill\": {\"color\": \"#EBF0F8\"}, \"line\": {\"color\": \"white\"}}, \"header\": {\"fill\": {\"color\": \"#C8D4E3\"}, \"line\": {\"color\": \"white\"}}, \"type\": \"table\"}]}, \"layout\": {\"annotationdefaults\": {\"arrowcolor\": \"#2a3f5f\", \"arrowhead\": 0, \"arrowwidth\": 1}, \"colorscale\": {\"diverging\": [[0, \"#8e0152\"], [0.1, \"#c51b7d\"], [0.2, \"#de77ae\"], [0.3, \"#f1b6da\"], [0.4, \"#fde0ef\"], [0.5, \"#f7f7f7\"], [0.6, \"#e6f5d0\"], [0.7, \"#b8e186\"], [0.8, \"#7fbc41\"], [0.9, \"#4d9221\"], [1, \"#276419\"]], \"sequential\": [[0.0, \"#0d0887\"], [0.1111111111111111, \"#46039f\"], [0.2222222222222222, \"#7201a8\"], [0.3333333333333333, \"#9c179e\"], [0.4444444444444444, \"#bd3786\"], [0.5555555555555556, \"#d8576b\"], [0.6666666666666666, \"#ed7953\"], [0.7777777777777778, \"#fb9f3a\"], [0.8888888888888888, \"#fdca26\"], [1.0, \"#f0f921\"]], \"sequentialminus\": [[0.0, \"#0d0887\"], [0.1111111111111111, \"#46039f\"], [0.2222222222222222, \"#7201a8\"], [0.3333333333333333, \"#9c179e\"], [0.4444444444444444, \"#bd3786\"], [0.5555555555555556, \"#d8576b\"], [0.6666666666666666, \"#ed7953\"], [0.7777777777777778, \"#fb9f3a\"], [0.8888888888888888, \"#fdca26\"], [1.0, \"#f0f921\"]]}, \"colorway\": [\"#636efa\", \"#EF553B\", \"#00cc96\", \"#ab63fa\", \"#FFA15A\", \"#19d3f3\", \"#FF6692\", \"#B6E880\", \"#FF97FF\", \"#FECB52\"], \"font\": {\"color\": \"#2a3f5f\"}, \"geo\": {\"bgcolor\": \"white\", \"lakecolor\": \"white\", \"landcolor\": \"#E5ECF6\", \"showlakes\": true, \"showland\": true, \"subunitcolor\": \"white\"}, \"hoverlabel\": {\"align\": \"left\"}, \"hovermode\": \"closest\", \"mapbox\": {\"style\": \"light\"}, \"paper_bgcolor\": \"white\", \"plot_bgcolor\": \"#E5ECF6\", \"polar\": {\"angularaxis\": {\"gridcolor\": \"white\", \"linecolor\": \"white\", \"ticks\": \"\"}, \"bgcolor\": \"#E5ECF6\", \"radialaxis\": {\"gridcolor\": \"white\", \"linecolor\": \"white\", \"ticks\": \"\"}}, \"scene\": {\"xaxis\": {\"backgroundcolor\": \"#E5ECF6\", \"gridcolor\": \"white\", \"gridwidth\": 2, \"linecolor\": \"white\", \"showbackground\": true, \"ticks\": \"\", \"zerolinecolor\": \"white\"}, \"yaxis\": {\"backgroundcolor\": \"#E5ECF6\", \"gridcolor\": \"white\", \"gridwidth\": 2, \"linecolor\": \"white\", \"showbackground\": true, \"ticks\": \"\", \"zerolinecolor\": \"white\"}, \"zaxis\": {\"backgroundcolor\": \"#E5ECF6\", \"gridcolor\": \"white\", \"gridwidth\": 2, \"linecolor\": \"white\", \"showbackground\": true, \"ticks\": \"\", \"zerolinecolor\": \"white\"}}, \"shapedefaults\": {\"line\": {\"color\": \"#2a3f5f\"}}, \"ternary\": {\"aaxis\": {\"gridcolor\": \"white\", \"linecolor\": \"white\", \"ticks\": \"\"}, \"baxis\": {\"gridcolor\": \"white\", \"linecolor\": \"white\", \"ticks\": \"\"}, \"bgcolor\": \"#E5ECF6\", \"caxis\": {\"gridcolor\": \"white\", \"linecolor\": \"white\", \"ticks\": \"\"}}, \"title\": {\"x\": 0.05}, \"xaxis\": {\"automargin\": true, \"gridcolor\": \"white\", \"linecolor\": \"white\", \"ticks\": \"\", \"zerolinecolor\": \"white\", \"zerolinewidth\": 2}, \"yaxis\": {\"automargin\": true, \"gridcolor\": \"white\", \"linecolor\": \"white\", \"ticks\": \"\", \"zerolinecolor\": \"white\", \"zerolinewidth\": 2}}}, \"xaxis\": {\"anchor\": \"y\", \"domain\": [0.0, 0.98], \"title\": {\"text\": \"hits\"}}, \"yaxis\": {\"anchor\": \"x\", \"domain\": [0.0, 1.0], \"title\": {\"text\": \"timeonsite\"}}},\n",
              "                        {\"responsive\": true}\n",
              "                    ).then(function(){\n",
              "                            \n",
              "var gd = document.getElementById('9a993741-6888-4228-b5f9-8478df61e44d');\n",
              "var x = new MutationObserver(function (mutations, observer) {{\n",
              "        var display = window.getComputedStyle(gd).display;\n",
              "        if (!display || display === 'none') {{\n",
              "            console.log([gd, 'removed!']);\n",
              "            Plotly.purge(gd);\n",
              "            observer.disconnect();\n",
              "        }}\n",
              "}});\n",
              "\n",
              "// Listen for the removal of the full notebook cells\n",
              "var notebookContainer = gd.closest('#notebook-container');\n",
              "if (notebookContainer) {{\n",
              "    x.observe(notebookContainer, {childList: true});\n",
              "}}\n",
              "\n",
              "// Listen for the clearing of the current output cell\n",
              "var outputEl = gd.closest('.output');\n",
              "if (outputEl) {{\n",
              "    x.observe(outputEl, {childList: true});\n",
              "}}\n",
              "\n",
              "                        })\n",
              "                };\n",
              "                \n",
              "            </script>\n",
              "        </div>\n",
              "</body>\n",
              "</html>"
            ]
          },
          "metadata": {
            "tags": []
          }
        }
      ]
    },
    {
      "cell_type": "code",
      "metadata": {
        "id": "kyQ4hzxRRxG8",
        "colab_type": "code",
        "cellView": "form",
        "outputId": "fa1fba0a-a6a7-4253-c616-2de4add8d7a3",
        "colab": {
          "base_uri": "https://localhost:8080/",
          "height": 422
        }
      },
      "source": [
        "#@title  Correlation of Time Spent on the Platform and Total Number of Hits in USA\n",
        "\n",
        "data_q10_us_corr=data_q10_us[[\"hits\", \"timeonsite\"]]\n",
        "CheckingCorrelations(data_q10_us_corr)"
      ],
      "execution_count": 0,
      "outputs": [
        {
          "output_type": "stream",
          "text": [
            "                hits  timeonsite\n",
            "hits        1.000000    0.674747\n",
            "timeonsite  0.674747    1.000000\n"
          ],
          "name": "stdout"
        },
        {
          "output_type": "display_data",
          "data": {
            "image/png": "[encoded data removed]",
            "text/plain": [
              "<Figure size 576x432 with 2 Axes>"
            ]
          },
          "metadata": {
            "tags": []
          }
        }
      ]
    },
    {
      "cell_type": "markdown",
      "metadata": {
        "id": "NaB5mwBhxSRd",
        "colab_type": "text"
      },
      "source": [
        "It is seen that there is a positive correlation between the time spent on the platform and total number of hits, for each visit in USA. When people on the platform, they do actions"
      ]
    },
    {
      "cell_type": "markdown",
      "metadata": {
        "id": "Mq_I_XKFShzO",
        "colab_type": "text"
      },
      "source": [
        "**India**\n",
        "\n",
        "\n",
        "---\n",
        "\n",
        "\n",
        "\n"
      ]
    },
    {
      "cell_type": "code",
      "metadata": {
        "id": "4RbMo8yWvSzL",
        "colab_type": "code",
        "cellView": "form",
        "outputId": "b474448a-bec1-43f0-ddfd-3cc7cf64ec15",
        "colab": {
          "base_uri": "https://localhost:8080/",
          "height": 198
        }
      },
      "source": [
        "#@title About the Data\n",
        "\n",
        "path = \"/content/drive/My Drive/dh_data/q10_India.csv\"\n",
        "data_q10_india = pd.read_csv(path)\n",
        "data_q10_india.head()"
      ],
      "execution_count": 0,
      "outputs": [
        {
          "output_type": "execute_result",
          "data": {
            "text/html": [
              "<div>\n",
              "<style scoped>\n",
              "    .dataframe tbody tr th:only-of-type {\n",
              "        vertical-align: middle;\n",
              "    }\n",
              "\n",
              "    .dataframe tbody tr th {\n",
              "        vertical-align: top;\n",
              "    }\n",
              "\n",
              "    .dataframe thead th {\n",
              "        text-align: right;\n",
              "    }\n",
              "</style>\n",
              "<table border=\"1\" class=\"dataframe\">\n",
              "  <thead>\n",
              "    <tr style=\"text-align: right;\">\n",
              "      <th></th>\n",
              "      <th>hits</th>\n",
              "      <th>timeonsite</th>\n",
              "      <th>visitid</th>\n",
              "    </tr>\n",
              "  </thead>\n",
              "  <tbody>\n",
              "    <tr>\n",
              "      <th>0</th>\n",
              "      <td>2</td>\n",
              "      <td>21</td>\n",
              "      <td>1501581598</td>\n",
              "    </tr>\n",
              "    <tr>\n",
              "      <th>1</th>\n",
              "      <td>2</td>\n",
              "      <td>22</td>\n",
              "      <td>1501604163</td>\n",
              "    </tr>\n",
              "    <tr>\n",
              "      <th>2</th>\n",
              "      <td>2</td>\n",
              "      <td>30</td>\n",
              "      <td>1501600754</td>\n",
              "    </tr>\n",
              "    <tr>\n",
              "      <th>3</th>\n",
              "      <td>2</td>\n",
              "      <td>353</td>\n",
              "      <td>1501587353</td>\n",
              "    </tr>\n",
              "    <tr>\n",
              "      <th>4</th>\n",
              "      <td>2</td>\n",
              "      <td>7</td>\n",
              "      <td>1501614994</td>\n",
              "    </tr>\n",
              "  </tbody>\n",
              "</table>\n",
              "</div>"
            ],
            "text/plain": [
              "   hits  timeonsite     visitid\n",
              "0     2          21  1501581598\n",
              "1     2          22  1501604163\n",
              "2     2          30  1501600754\n",
              "3     2         353  1501587353\n",
              "4     2           7  1501614994"
            ]
          },
          "metadata": {
            "tags": []
          },
          "execution_count": 28
        }
      ]
    },
    {
      "cell_type": "code",
      "metadata": {
        "id": "PsHxPL36vZmt",
        "colab_type": "code",
        "cellView": "form",
        "outputId": "796f31f4-22e1-4e95-d1ad-564893d7d743",
        "colab": {
          "base_uri": "https://localhost:8080/",
          "height": 617
        }
      },
      "source": [
        "#@title Time spent on the platform vs Total Number of Hits in India\n",
        "\n",
        "fig = px.scatter(data_q10_india, x=\"hits\", y=\"timeonsite\")\n",
        "fig.update_traces(marker=dict(size=5,color='rgba(255, 182, 193, .9)',line=dict(width=2,color='rgba(152, 0, 0, .8)')))\n",
        "fig.show()"
      ],
      "execution_count": 0,
      "outputs": [
        {
          "output_type": "display_data",
          "data": {
            "text/html": [
              "<html>\n",
              "<head><meta charset=\"utf-8\" /></head>\n",
              "<body>\n",
              "    <div>\n",
              "            <script src=\"https://cdnjs.cloudflare.com/ajax/libs/mathjax/2.7.5/MathJax.js?config=TeX-AMS-MML_SVG\"></script><script type=\"text/javascript\">if (window.MathJax) {MathJax.Hub.Config({SVG: {font: \"STIX-Web\"}});}</script>\n",
              "                <script type=\"text/javascript\">window.PlotlyConfig = {MathJaxConfig: 'local'};</script>\n",
              "        <script src=\"https://cdn.plot.ly/plotly-latest.min.js\"></script>    \n",
              "            <div id=\"6196dd11-351b-44b3-8e2c-473e33a16318\" class=\"plotly-graph-div\" style=\"height:600px; width:100%;\"></div>\n",
              "            <script type=\"text/javascript\">\n",
              "                \n",
              "                    window.PLOTLYENV=window.PLOTLYENV || {};\n",
              "                    \n",
              "                if (document.getElementById(\"6196dd11-351b-44b3-8e2c-473e33a16318\")) {\n",
              "                    Plotly.newPlot(\n",
              "                        '6196dd11-351b-44b3-8e2c-473e33a16318',\n",
              "                        [{\"hoverlabel\": {\"namelength\": 0}, \"hovertemplate\": \"hits=%{x}<br>timeonsite=%{y}\", \"legendgroup\": \"\", \"marker\": {\"color\": \"rgba(255, 182, 193, .9)\", \"line\": {\"color\": \"rgba(152, 0, 0, .8)\", \"width\": 2}, \"size\": 5, \"symbol\": \"circle\"}, \"mode\": \"markers\", \"name\": \"\", \"showlegend\": false, \"type\": \"scatter\", \"x\": [2, 2, 2, 2, 2, 2, 2, 2, 2, 2, 2, 2, 2, 2, 2, 3, 3, 3, 3, 3, 3, 3, 3, 3, 4, 4, 4, 4, 4, 4, 4, 4, 5, 5, 6, 6, 6, 6, 6, 7, 8, 8, 8, 9, 9, 10, 12, 12, 12, 16, 17, 20, 21, 22, 26, 2, 2, 4, 5, 5, 6, 9, 10], \"xaxis\": \"x\", \"y\": [21, 22, 30, 353, 7, 41, 177, 6, 25, 9, 23, 42, 55, 137, 70, 255, 132, 275, 128, 34, 44, 6, 8, 43, 77, 42, 31, 93, 22, 94, 223, 85, 29, 179, 354, 597, 669, 209, 420, 66, 979, 86, 287, 119, 109, 5362, 190, 121, 688, 189, 484, 334, 463, 312, 553, 42, 17, 44, 126, 40, 43, 70, 619], \"yaxis\": \"y\"}],\n",
              "                        {\"height\": 600, \"legend\": {\"tracegroupgap\": 0}, \"margin\": {\"t\": 60}, \"template\": {\"data\": {\"bar\": [{\"error_x\": {\"color\": \"#2a3f5f\"}, \"error_y\": {\"color\": \"#2a3f5f\"}, \"marker\": {\"line\": {\"color\": \"#E5ECF6\", \"width\": 0.5}}, \"type\": \"bar\"}], \"barpolar\": [{\"marker\": {\"line\": {\"color\": \"#E5ECF6\", \"width\": 0.5}}, \"type\": \"barpolar\"}], \"carpet\": [{\"aaxis\": {\"endlinecolor\": \"#2a3f5f\", \"gridcolor\": \"white\", \"linecolor\": \"white\", \"minorgridcolor\": \"white\", \"startlinecolor\": \"#2a3f5f\"}, \"baxis\": {\"endlinecolor\": \"#2a3f5f\", \"gridcolor\": \"white\", \"linecolor\": \"white\", \"minorgridcolor\": \"white\", \"startlinecolor\": \"#2a3f5f\"}, \"type\": \"carpet\"}], \"choropleth\": [{\"colorbar\": {\"outlinewidth\": 0, \"ticks\": \"\"}, \"type\": \"choropleth\"}], \"contour\": [{\"colorbar\": {\"outlinewidth\": 0, \"ticks\": \"\"}, \"colorscale\": [[0.0, \"#0d0887\"], [0.1111111111111111, \"#46039f\"], [0.2222222222222222, \"#7201a8\"], [0.3333333333333333, \"#9c179e\"], [0.4444444444444444, \"#bd3786\"], [0.5555555555555556, \"#d8576b\"], [0.6666666666666666, \"#ed7953\"], [0.7777777777777778, \"#fb9f3a\"], [0.8888888888888888, \"#fdca26\"], [1.0, \"#f0f921\"]], \"type\": \"contour\"}], \"contourcarpet\": [{\"colorbar\": {\"outlinewidth\": 0, \"ticks\": \"\"}, \"type\": \"contourcarpet\"}], \"heatmap\": [{\"colorbar\": {\"outlinewidth\": 0, \"ticks\": \"\"}, \"colorscale\": [[0.0, \"#0d0887\"], [0.1111111111111111, \"#46039f\"], [0.2222222222222222, \"#7201a8\"], [0.3333333333333333, \"#9c179e\"], [0.4444444444444444, \"#bd3786\"], [0.5555555555555556, \"#d8576b\"], [0.6666666666666666, \"#ed7953\"], [0.7777777777777778, \"#fb9f3a\"], [0.8888888888888888, \"#fdca26\"], [1.0, \"#f0f921\"]], \"type\": \"heatmap\"}], \"heatmapgl\": [{\"colorbar\": {\"outlinewidth\": 0, \"ticks\": \"\"}, \"colorscale\": [[0.0, \"#0d0887\"], [0.1111111111111111, \"#46039f\"], [0.2222222222222222, \"#7201a8\"], [0.3333333333333333, \"#9c179e\"], [0.4444444444444444, \"#bd3786\"], [0.5555555555555556, \"#d8576b\"], [0.6666666666666666, \"#ed7953\"], [0.7777777777777778, \"#fb9f3a\"], [0.8888888888888888, \"#fdca26\"], [1.0, \"#f0f921\"]], \"type\": \"heatmapgl\"}], \"histogram\": [{\"marker\": {\"colorbar\": {\"outlinewidth\": 0, \"ticks\": \"\"}}, \"type\": \"histogram\"}], \"histogram2d\": [{\"colorbar\": {\"outlinewidth\": 0, \"ticks\": \"\"}, \"colorscale\": [[0.0, \"#0d0887\"], [0.1111111111111111, \"#46039f\"], [0.2222222222222222, \"#7201a8\"], [0.3333333333333333, \"#9c179e\"], [0.4444444444444444, \"#bd3786\"], [0.5555555555555556, \"#d8576b\"], [0.6666666666666666, \"#ed7953\"], [0.7777777777777778, \"#fb9f3a\"], [0.8888888888888888, \"#fdca26\"], [1.0, \"#f0f921\"]], \"type\": \"histogram2d\"}], \"histogram2dcontour\": [{\"colorbar\": {\"outlinewidth\": 0, \"ticks\": \"\"}, \"colorscale\": [[0.0, \"#0d0887\"], [0.1111111111111111, \"#46039f\"], [0.2222222222222222, \"#7201a8\"], [0.3333333333333333, \"#9c179e\"], [0.4444444444444444, \"#bd3786\"], [0.5555555555555556, \"#d8576b\"], [0.6666666666666666, \"#ed7953\"], [0.7777777777777778, \"#fb9f3a\"], [0.8888888888888888, \"#fdca26\"], [1.0, \"#f0f921\"]], \"type\": \"histogram2dcontour\"}], \"mesh3d\": [{\"colorbar\": {\"outlinewidth\": 0, \"ticks\": \"\"}, \"type\": \"mesh3d\"}], \"parcoords\": [{\"line\": {\"colorbar\": {\"outlinewidth\": 0, \"ticks\": \"\"}}, \"type\": \"parcoords\"}], \"scatter\": [{\"marker\": {\"colorbar\": {\"outlinewidth\": 0, \"ticks\": \"\"}}, \"type\": \"scatter\"}], \"scatter3d\": [{\"line\": {\"colorbar\": {\"outlinewidth\": 0, \"ticks\": \"\"}}, \"marker\": {\"colorbar\": {\"outlinewidth\": 0, \"ticks\": \"\"}}, \"type\": \"scatter3d\"}], \"scattercarpet\": [{\"marker\": {\"colorbar\": {\"outlinewidth\": 0, \"ticks\": \"\"}}, \"type\": \"scattercarpet\"}], \"scattergeo\": [{\"marker\": {\"colorbar\": {\"outlinewidth\": 0, \"ticks\": \"\"}}, \"type\": \"scattergeo\"}], \"scattergl\": [{\"marker\": {\"colorbar\": {\"outlinewidth\": 0, \"ticks\": \"\"}}, \"type\": \"scattergl\"}], \"scattermapbox\": [{\"marker\": {\"colorbar\": {\"outlinewidth\": 0, \"ticks\": \"\"}}, \"type\": \"scattermapbox\"}], \"scatterpolar\": [{\"marker\": {\"colorbar\": {\"outlinewidth\": 0, \"ticks\": \"\"}}, \"type\": \"scatterpolar\"}], \"scatterpolargl\": [{\"marker\": {\"colorbar\": {\"outlinewidth\": 0, \"ticks\": \"\"}}, \"type\": \"scatterpolargl\"}], \"scatterternary\": [{\"marker\": {\"colorbar\": {\"outlinewidth\": 0, \"ticks\": \"\"}}, \"type\": \"scatterternary\"}], \"surface\": [{\"colorbar\": {\"outlinewidth\": 0, \"ticks\": \"\"}, \"colorscale\": [[0.0, \"#0d0887\"], [0.1111111111111111, \"#46039f\"], [0.2222222222222222, \"#7201a8\"], [0.3333333333333333, \"#9c179e\"], [0.4444444444444444, \"#bd3786\"], [0.5555555555555556, \"#d8576b\"], [0.6666666666666666, \"#ed7953\"], [0.7777777777777778, \"#fb9f3a\"], [0.8888888888888888, \"#fdca26\"], [1.0, \"#f0f921\"]], \"type\": \"surface\"}], \"table\": [{\"cells\": {\"fill\": {\"color\": \"#EBF0F8\"}, \"line\": {\"color\": \"white\"}}, \"header\": {\"fill\": {\"color\": \"#C8D4E3\"}, \"line\": {\"color\": \"white\"}}, \"type\": \"table\"}]}, \"layout\": {\"annotationdefaults\": {\"arrowcolor\": \"#2a3f5f\", \"arrowhead\": 0, \"arrowwidth\": 1}, \"colorscale\": {\"diverging\": [[0, \"#8e0152\"], [0.1, \"#c51b7d\"], [0.2, \"#de77ae\"], [0.3, \"#f1b6da\"], [0.4, \"#fde0ef\"], [0.5, \"#f7f7f7\"], [0.6, \"#e6f5d0\"], [0.7, \"#b8e186\"], [0.8, \"#7fbc41\"], [0.9, \"#4d9221\"], [1, \"#276419\"]], \"sequential\": [[0.0, \"#0d0887\"], [0.1111111111111111, \"#46039f\"], [0.2222222222222222, \"#7201a8\"], [0.3333333333333333, \"#9c179e\"], [0.4444444444444444, \"#bd3786\"], [0.5555555555555556, \"#d8576b\"], [0.6666666666666666, \"#ed7953\"], [0.7777777777777778, \"#fb9f3a\"], [0.8888888888888888, \"#fdca26\"], [1.0, \"#f0f921\"]], \"sequentialminus\": [[0.0, \"#0d0887\"], [0.1111111111111111, \"#46039f\"], [0.2222222222222222, \"#7201a8\"], [0.3333333333333333, \"#9c179e\"], [0.4444444444444444, \"#bd3786\"], [0.5555555555555556, \"#d8576b\"], [0.6666666666666666, \"#ed7953\"], [0.7777777777777778, \"#fb9f3a\"], [0.8888888888888888, \"#fdca26\"], [1.0, \"#f0f921\"]]}, \"colorway\": [\"#636efa\", \"#EF553B\", \"#00cc96\", \"#ab63fa\", \"#FFA15A\", \"#19d3f3\", \"#FF6692\", \"#B6E880\", \"#FF97FF\", \"#FECB52\"], \"font\": {\"color\": \"#2a3f5f\"}, \"geo\": {\"bgcolor\": \"white\", \"lakecolor\": \"white\", \"landcolor\": \"#E5ECF6\", \"showlakes\": true, \"showland\": true, \"subunitcolor\": \"white\"}, \"hoverlabel\": {\"align\": \"left\"}, \"hovermode\": \"closest\", \"mapbox\": {\"style\": \"light\"}, \"paper_bgcolor\": \"white\", \"plot_bgcolor\": \"#E5ECF6\", \"polar\": {\"angularaxis\": {\"gridcolor\": \"white\", \"linecolor\": \"white\", \"ticks\": \"\"}, \"bgcolor\": \"#E5ECF6\", \"radialaxis\": {\"gridcolor\": \"white\", \"linecolor\": \"white\", \"ticks\": \"\"}}, \"scene\": {\"xaxis\": {\"backgroundcolor\": \"#E5ECF6\", \"gridcolor\": \"white\", \"gridwidth\": 2, \"linecolor\": \"white\", \"showbackground\": true, \"ticks\": \"\", \"zerolinecolor\": \"white\"}, \"yaxis\": {\"backgroundcolor\": \"#E5ECF6\", \"gridcolor\": \"white\", \"gridwidth\": 2, \"linecolor\": \"white\", \"showbackground\": true, \"ticks\": \"\", \"zerolinecolor\": \"white\"}, \"zaxis\": {\"backgroundcolor\": \"#E5ECF6\", \"gridcolor\": \"white\", \"gridwidth\": 2, \"linecolor\": \"white\", \"showbackground\": true, \"ticks\": \"\", \"zerolinecolor\": \"white\"}}, \"shapedefaults\": {\"line\": {\"color\": \"#2a3f5f\"}}, \"ternary\": {\"aaxis\": {\"gridcolor\": \"white\", \"linecolor\": \"white\", \"ticks\": \"\"}, \"baxis\": {\"gridcolor\": \"white\", \"linecolor\": \"white\", \"ticks\": \"\"}, \"bgcolor\": \"#E5ECF6\", \"caxis\": {\"gridcolor\": \"white\", \"linecolor\": \"white\", \"ticks\": \"\"}}, \"title\": {\"x\": 0.05}, \"xaxis\": {\"automargin\": true, \"gridcolor\": \"white\", \"linecolor\": \"white\", \"ticks\": \"\", \"zerolinecolor\": \"white\", \"zerolinewidth\": 2}, \"yaxis\": {\"automargin\": true, \"gridcolor\": \"white\", \"linecolor\": \"white\", \"ticks\": \"\", \"zerolinecolor\": \"white\", \"zerolinewidth\": 2}}}, \"xaxis\": {\"anchor\": \"y\", \"domain\": [0.0, 0.98], \"title\": {\"text\": \"hits\"}}, \"yaxis\": {\"anchor\": \"x\", \"domain\": [0.0, 1.0], \"title\": {\"text\": \"timeonsite\"}}},\n",
              "                        {\"responsive\": true}\n",
              "                    ).then(function(){\n",
              "                            \n",
              "var gd = document.getElementById('6196dd11-351b-44b3-8e2c-473e33a16318');\n",
              "var x = new MutationObserver(function (mutations, observer) {{\n",
              "        var display = window.getComputedStyle(gd).display;\n",
              "        if (!display || display === 'none') {{\n",
              "            console.log([gd, 'removed!']);\n",
              "            Plotly.purge(gd);\n",
              "            observer.disconnect();\n",
              "        }}\n",
              "}});\n",
              "\n",
              "// Listen for the removal of the full notebook cells\n",
              "var notebookContainer = gd.closest('#notebook-container');\n",
              "if (notebookContainer) {{\n",
              "    x.observe(notebookContainer, {childList: true});\n",
              "}}\n",
              "\n",
              "// Listen for the clearing of the current output cell\n",
              "var outputEl = gd.closest('.output');\n",
              "if (outputEl) {{\n",
              "    x.observe(outputEl, {childList: true});\n",
              "}}\n",
              "\n",
              "                        })\n",
              "                };\n",
              "                \n",
              "            </script>\n",
              "        </div>\n",
              "</body>\n",
              "</html>"
            ]
          },
          "metadata": {
            "tags": []
          }
        }
      ]
    },
    {
      "cell_type": "code",
      "metadata": {
        "id": "7PZbL5A9SY2Y",
        "colab_type": "code",
        "cellView": "form",
        "outputId": "26779d91-5a6d-4bba-d89a-c6b260e6702a",
        "colab": {
          "base_uri": "https://localhost:8080/",
          "height": 422
        }
      },
      "source": [
        "#@title  Correlation of Time spent on the platform and Total Number of Hits in India\n",
        "\n",
        "data_q10_india_corr=data_q10_india[[\"hits\", \"timeonsite\"]]\n",
        "CheckingCorrelations(data_q10_india_corr)"
      ],
      "execution_count": 0,
      "outputs": [
        {
          "output_type": "stream",
          "text": [
            "                hits  timeonsite\n",
            "hits        1.000000    0.243126\n",
            "timeonsite  0.243126    1.000000\n"
          ],
          "name": "stdout"
        },
        {
          "output_type": "display_data",
          "data": {
            "image/png": "[encoded data removed]",
            "text/plain": [
              "<Figure size 576x432 with 2 Axes>"
            ]
          },
          "metadata": {
            "tags": []
          }
        }
      ]
    },
    {
      "cell_type": "markdown",
      "metadata": {
        "id": "3mlUkaScxgxC",
        "colab_type": "text"
      },
      "source": [
        "It is seen that there is not a low correlation between the time spent on the platform and total number of hits, for each visit in India"
      ]
    },
    {
      "cell_type": "markdown",
      "metadata": {
        "id": "KtBp-KGLNp0t",
        "colab_type": "text"
      },
      "source": [
        "# Additional Analyzes"
      ]
    },
    {
      "cell_type": "markdown",
      "metadata": {
        "id": "VzZx0qzqL-Kz",
        "colab_type": "text"
      },
      "source": [
        "11. Average transaction per user is 1.0714"
      ]
    },
    {
      "cell_type": "markdown",
      "metadata": {
        "id": "8EJuztlINAvs",
        "colab_type": "text"
      },
      "source": [
        "12. The number of transactions per browser\n",
        "\n",
        "|device_browser|total_transactions|\n",
        "|:--:|:--:|\n",
        "|Chrome|41|\n",
        " |Safari|3|\n",
        " |Firefox|1|\n",
        " |Internet Explorer|null|\n",
        "|UC Browser|null|\n",
        "\n",
        "\n",
        "\n",
        "\n",
        "\n"
      ]
    },
    {
      "cell_type": "markdown",
      "metadata": {
        "id": "N5cup5TgUNj8",
        "colab_type": "text"
      },
      "source": [
        "\n",
        "\n",
        "``` sql\n",
        "SELECT\n",
        "    fullVisitorId,\n",
        "    visitId,\n",
        "    visitNumber,\n",
        "    hits.hitNumber AS hitNumber,\n",
        "    hits.page.pagePath AS pagePath\n",
        "FROM\n",
        "    `bigquery-public-data.google_analytics_sample.ga_sessions_20160801`, UNNEST(hits) as hits\n",
        "WHERE\n",
        "    hits.type=\"PAGE\"\n",
        "ORDER BY\n",
        "    fullVisitorId,\n",
        "    visitId,\n",
        "    visitNumber,\n",
        "    hitNumber\n",
        "    \n",
        "```\n",
        "\n"
      ]
    },
    {
      "cell_type": "code",
      "metadata": {
        "id": "40fYZxO1Rb5C",
        "colab_type": "code",
        "cellView": "form",
        "colab": {}
      },
      "source": [
        "#@title\n",
        "\n",
        "# create some data\n",
        "xy = np.random.rand(4, 2)\n",
        "xy_line = (0, 1)\n",
        "\n",
        "# set up figure and ax\n",
        "fig, ax = plt.subplots(figsize=(8,8))\n",
        "\n",
        "# create the scatter plots\n",
        "ax.scatter(xy[:, 0], xy[:, 1], c='blue')\n",
        "for point, name in zip(xy, 'ABCD'):\n",
        "    ax.annotate(name, xy=point, xytext=(0, -10), textcoords='offset points',\n",
        "                color='blue', ha='center', va='center')\n",
        "ax.scatter([0], [1], c='black', s=60)\n",
        "ax.annotate('Perfect Classification', xy=(0, 1), xytext=(0.1, 0.9),\n",
        "            arrowprops=dict(arrowstyle='->'))\n",
        "\n",
        "# create the line\n",
        "ax.plot(xy_line, 'r--', label='Random guess')\n",
        "ax.annotate('Better', xy=(0.3, 0.3), xytext=(0.2, 0.4),\n",
        "            arrowprops=dict(arrowstyle='<-'), ha='center', va='center')\n",
        "ax.annotate('Worse', xy=(0.3, 0.3), xytext=(0.4, 0.2),\n",
        "            arrowprops=dict(arrowstyle='<-'), ha='center', va='center')\n",
        "# add labels, legend and make it nicer\n",
        "ax.set_xlabel('FPR or (1 - specificity)')\n",
        "ax.set_ylabel('TPR or sensitivity')\n",
        "ax.set_title('ROC Space')\n",
        "ax.set_xlim(0, 1)\n",
        "ax.set_ylim(0, 1)\n",
        "ax.legend()\n",
        "plt.tight_layout()\n",
        "plt.savefig('scatter_line.png', dpi=80)"
      ],
      "execution_count": 0,
      "outputs": []
    },
    {
      "cell_type": "markdown",
      "metadata": {
        "id": "ZXzOn3mw4N1w",
        "colab_type": "text"
      },
      "source": [
        "https://www.tablesgenerator.com/markdown_tables\n",
        "\n",
        "\n",
        "BigQuery documentation: https://cloud.google.com/bigquery/docs/\n",
        "https://www.lunametrics.com/blog/2016/02/11/querying-google-analytics-data-in-bigquery/\n",
        "\n",
        "Don't forget the three important links:\n",
        "\n",
        "schema: https://support.google.com/analytics/answer/3437719?hl=en\n",
        "legacy: https://cloud.google.com/bigquery/docs/reference/legacy-sql\n",
        "standard: https://cloud.google.com/bigquery/docs/reference/standard-sql/\n",
        "\n",
        "Here you can find the instructions for visualising the dataset where the tests will be proved:\n",
        "\n",
        "https://support.google.com/analytics/answer/7586738\n",
        "--> https://bigquery.cloud.google.com/table/bigquery-public-data:google_analytics_sample.ga_sessions_20170801\n",
        "\n",
        "https://support.google.com/analytics/answer/4419694\n"
      ]
    },
    {
      "cell_type": "markdown",
      "metadata": {
        "id": "zENm0p7vJhjb",
        "colab_type": "text"
      },
      "source": [
        "# BigQuery Codes"
      ]
    },
    {
      "cell_type": "markdown",
      "metadata": {
        "id": "iXEje6DMJlYt",
        "colab_type": "text"
      },
      "source": [
        "**Intro**\n",
        "\n",
        "```sql\n",
        "\n",
        "SELECT\n",
        "  date,\n",
        "  SUM(totals.visits) AS visits,\n",
        "  SUM(totals.pageviews) AS pageviews,\n",
        "  SUM(totals.transactions) AS transactions,\n",
        "  SUM(totals.transactionRevenue)/1000000 AS revenue\n",
        "FROM\n",
        "  [bigquery-public-data.google_analytics_sample.ga_sessions_20170801]\n",
        "GROUP BY\n",
        "  date\n",
        "ORDER BY\n",
        "  date ASC\n",
        "\n",
        "```"
      ]
    },
    {
      "cell_type": "markdown",
      "metadata": {
        "id": "3nK6SQFo5HeO",
        "colab_type": "text"
      },
      "source": [
        "**Question 1**\n",
        "```sql\n",
        "select avg(sessions) as total_sessions from (\n",
        "  select\n",
        "    fullvisitorid,\n",
        "    count(distinct visitid) as sessions,\n",
        "    from [bigquery-public-data:google_analytics_sample.ga_sessions_20170801]\n",
        "    group each by fullvisitorid)\n",
        "```"
      ]
    },
    {
      "cell_type": "markdown",
      "metadata": {
        "id": "ax4grIuzLmxo",
        "colab_type": "text"
      },
      "source": [
        "**Question 2**\n",
        "\n",
        "``` sql\n",
        "SELECT\n",
        "  (total_transactions_per_user / visit_count ) AS conversion,\n",
        "  trafficSource.medium\n",
        "FROM (\n",
        "  SELECT\n",
        "    COUNT(totals.visits) AS visit_count,\n",
        "    COUNT(totals.transactions) AS total_transactions_per_user\n",
        "  FROM\n",
        "    [bigquery-public-data.google_analytics_sample.ga_sessions_20170801]\n",
        "  GROUP BY\n",
        "    trafficSource.medium)\n",
        "    \n",
        "```\n",
        "\n"
      ]
    },
    {
      "cell_type": "markdown",
      "metadata": {
        "id": "cIQu3MpSNoxe",
        "colab_type": "text"
      },
      "source": [
        "**Question 3**\n",
        "\n",
        "\n",
        "```sql\n",
        "SELECT\n",
        "( SUM(total_hits_per_user) / SUM(total_visits_per_user) ) AS\n",
        "avg_hits_by_user_per_visit\n",
        "FROM (SELECT\n",
        "  fullVisitorId,\n",
        "  SUM(totals.visits) AS total_visits_per_user,\n",
        "  SUM(totals.hits) AS total_hits_per_user\n",
        "FROM\n",
        "  [bigquery-public-data.google_analytics_sample.ga_sessions_20170801]\n",
        "WHERE\n",
        "  totals.visits > 0\n",
        "  AND totals.hits >= 1\n",
        "GROUP BY\n",
        "  fullVisitorId)\n",
        "\n",
        "```\n",
        "Source: https://support.google.com/analytics/answer/4419694?hl=en&ref_topic=3416089"
      ]
    },
    {
      "cell_type": "markdown",
      "metadata": {
        "colab_type": "text",
        "id": "C-JzAKAQUURp"
      },
      "source": [
        "**Question 3.2**\n",
        "\n",
        "\n",
        "```sql\n",
        "\n",
        "SELECT\n",
        "  AVG(ratio_per_user)\n",
        "FROM (\n",
        "  SELECT\n",
        "    SUM(total_hits_per_user/total_visits_per_user) OVER (PARTITION BY fullVisitorId) AS ratio_per_user\n",
        "  FROM (\n",
        "    SELECT\n",
        "      fullVisitorId,\n",
        "      SUM(totals.visits) AS total_visits_per_user,\n",
        "      SUM(totals.hits) AS total_hits_per_user\n",
        "    FROM\n",
        "      [bigquery-public-data.google_analytics_sample.ga_sessions_20170801]\n",
        "    WHERE\n",
        "      totals.visits > 0\n",
        "      AND totals.hits >= 1\n",
        "    GROUP BY\n",
        "      fullVisitorId))\n",
        "      \n",
        "```\n"
      ]
    },
    {
      "cell_type": "markdown",
      "metadata": {
        "id": "bhC0oXzaSHk-",
        "colab_type": "text"
      },
      "source": [
        "\n",
        "**Question 4**\n",
        "\n",
        "``` sql\n",
        "SELECT\n",
        "  geoNetwork.country AS Country,\n",
        "  COUNT(visitId) AS Visits\n",
        "FROM\n",
        "  [bigquery-public-data.google_analytics_sample.ga_sessions_20170801]\n",
        "WHERE\n",
        "  totals.visits = 1\n",
        "GROUP BY\n",
        "  Country\n",
        "ORDER BY\n",
        "  Visits DESC\n",
        "LIMIT\n",
        "  5\n",
        "\n",
        "```\n",
        "\n"
      ]
    },
    {
      "cell_type": "markdown",
      "metadata": {
        "id": "t1gKw-gJQ0DL",
        "colab_type": "text"
      },
      "source": [
        "**Question 5**\n",
        "\n",
        "``` sql\n",
        "select fullVisitorId , AVG(SECOND(difference_first)) as avg_minute_passes,\n",
        "FROM (SELECT\n",
        "  fullVisitorId,\n",
        "  USEC_TO_TIMESTAMP(hits_time -start_time ) AS difference_first \n",
        "FROM (\n",
        "  SELECT\n",
        "    fullVisitorId,\n",
        "    TIMESTAMP(INTEGER(visitStartTime*1000000)) AS start_time,\n",
        "    TIMESTAMP(INTEGER(visitStartTime*1000000 + hits.time*1000)) AS hits_time\n",
        "  FROM\n",
        "    [bigquery-public-data.google_analytics_sample.ga_sessions_20170801]\n",
        "  WHERE\n",
        "    hits.eventInfo.eventAction = 'Product Click'))\n",
        "GROUP BY fullVisitorId\n",
        "```\n",
        "\n",
        "\n",
        "\n",
        "\n",
        "\n",
        "``` sql\n",
        "SELECT\n",
        "  fullVisitorId,\n",
        "  visitid,\n",
        "  visitStartTime,\n",
        "  hits.time,\n",
        "  TIMESTAMP(INTEGER(visitStartTime*1000000)) AS start_time12,\n",
        "  TIMESTAMP(INTEGER(visitStartTime*1000000 + hits.time*1000)) AS hits_time12\n",
        "FROM\n",
        "  [bigquery-public-data.google_analytics_sample.ga_sessions_20170801]\n",
        "WHERE\n",
        "  hits.eventInfo.eventAction = 'Product Click'\n",
        "\n",
        "```\n",
        "\n"
      ]
    },
    {
      "cell_type": "markdown",
      "metadata": {
        "id": "KSYIurOWjT4W",
        "colab_type": "text"
      },
      "source": [
        "**Question 6**\n",
        "\n",
        "```sql\n",
        "SELECT\n",
        "  COUNT(visitid) AS visits,\n",
        "  time FROM (\n",
        "  SELECT\n",
        "    visitid,\n",
        "    EXTRACT(HOUR\n",
        "    FROM\n",
        "      TIMESTAMP_MILLIS(visitStartTime*1000)) AS time\n",
        "  FROM\n",
        "    `bigquery-public-data.google_analytics_sample.ga_sessions_20170801`\n",
        "  WHERE\n",
        "    totals.transactions>0 )\n",
        "GROUP BY\n",
        "  time\n",
        "ORDER BY\n",
        "  time\n",
        "\n",
        "  "
      ]
    },
    {
      "cell_type": "markdown",
      "metadata": {
        "id": "4JfGQtCIuDw6",
        "colab_type": "text"
      },
      "source": [
        "\n",
        "**Question 6.1**\n",
        "\n",
        "from examples-legacy sql\n",
        "``` sql\n",
        "\n",
        "SELECT HOUR(SEC_TO_TIMESTAMP(visitStartTime)) AS sessionHour,\n",
        "       COUNT(visitid) AS visits     \n",
        "FROM  [bigquery-public-data.google_analytics_sample.ga_sessions_20170801]\n",
        "GROUP BY sessionHour\n",
        "```\n",
        "\n"
      ]
    },
    {
      "cell_type": "markdown",
      "metadata": {
        "id": "FFPKjzgJvYwq",
        "colab_type": "text"
      },
      "source": [
        "**Question 7**\n",
        "\n",
        "``` sql\n",
        "SELECT  HOUR(SEC_TO_TIMESTAMP(visitStartTime)) AS sessionHour,\n",
        "       COUNT(totals.visits) AS sessionCount,\n",
        "       COUNT(totals.transactions) AS transactions\n",
        "FROM [bigquery-public-data.google_analytics_sample.ga_sessions_20170801]\n",
        "GROUP BY sessionHour\n",
        "ORDER BY sessionHour, sessionCount DESC\n",
        "```"
      ]
    },
    {
      "cell_type": "markdown",
      "metadata": {
        "id": "lWfOXy_rolLy",
        "colab_type": "text"
      },
      "source": [
        "**Question 8**\n",
        "\n",
        "**TOTALS E UNNEST YAPMAK GEREKLİ Mİ?**\n",
        "\n",
        "PS: timeOnScreen is null\n",
        "Visitors\n",
        "```sql\n",
        "\n",
        "SELECT\n",
        "  COUNT(fullVisitorId) AS num_visitors,\n",
        "  timeOnSite\n",
        "FROM (\n",
        "  SELECT\n",
        "    totals.timeOnSite as timeOnSite,\n",
        "    fullVisitorId\n",
        "  FROM\n",
        "    `bigquery-public-data.google_analytics_sample.ga_sessions_20170801`\n",
        "  WHERE\n",
        "    totals.timeOnSite IS NOT NULL)\n",
        "GROUP BY\n",
        "  timeOnSite\n",
        "\n",
        "```\n",
        "\n",
        "\n",
        "```sql\n",
        "\n",
        "SELECT\n",
        "  totals.timeOnSite AS timeOnSite,\n",
        "  fullVisitorId\n",
        "FROM\n",
        "  `bigquery-public-data.google_analytics_sample.ga_sessions_20170801`\n",
        "WHERE\n",
        "  totals.timeOnSite IS NOT NULL\n",
        "\n",
        "```"
      ]
    },
    {
      "cell_type": "markdown",
      "metadata": {
        "id": "0y2eGOYuwi0p",
        "colab_type": "text"
      },
      "source": [
        "**Question 9**\n",
        "\n",
        "``` sql\n",
        "SELECT\n",
        "  totals.timeOnSite AS timeOnSite,\n",
        "  totals.totalTransactionRevenue,\n",
        "  fullVisitorId\n",
        "FROM\n",
        "  `bigquery-public-data.google_analytics_sample.ga_sessions_20170801`\n",
        "WHERE\n",
        "  totals.timeOnSite IS NOT NULL\n",
        "```"
      ]
    },
    {
      "cell_type": "markdown",
      "metadata": {
        "id": "qnduCCsrPp6u",
        "colab_type": "text"
      },
      "source": [
        "**Question 10**\n",
        "\n",
        "``` sql\n",
        "SELECT\n",
        "  totals.hits,\n",
        "  totals.timeonsite,\n",
        "  visitid\n",
        "FROM\n",
        "  `bigquery-public-data.google_analytics_sample.ga_sessions_20170801`\n",
        "WHERE\n",
        "  totals.timeonsite IS NOT NULL\n",
        "  AND geoNetwork.country='United States'\n",
        "```"
      ]
    },
    {
      "cell_type": "markdown",
      "metadata": {
        "id": "z8eeITwFMiXv",
        "colab_type": "text"
      },
      "source": [
        "**Query 11**\n",
        "\n",
        "``` sql\n",
        "SELECT\n",
        "  (SUM (total_transactions_per_user) / COUNT(fullVisitorId) ) AS avg_total_transactions_per_user\n",
        "FROM (\n",
        "  SELECT\n",
        "    fullVisitorId,\n",
        "    SUM (totals.transactions) AS total_transactions_per_user\n",
        "  FROM\n",
        "   [bigquery-public-data.google_analytics_sample.ga_sessions_20170801]\n",
        "  WHERE\n",
        "    totals.transactions IS NOT NULL\n",
        "  GROUP BY\n",
        "    fullVisitorId)\n",
        "```\n",
        "\n"
      ]
    },
    {
      "cell_type": "markdown",
      "metadata": {
        "id": "1R_lVzPXNHUJ",
        "colab_type": "text"
      },
      "source": [
        "**Query 12**\n",
        "\n",
        "``` sql\n",
        "SELECT device.browser AS device_browser,\n",
        "            SUM(totals.transactions) as total_transactions\n",
        "FROM [bigquery-public-data:google_analytics_sample.ga_sessions_20170801]\n",
        "GROUP BY device_browser\n",
        "ORDER BY total_transactions DESC\n",
        "```\n",
        "\n"
      ]
    },
    {
      "cell_type": "markdown",
      "metadata": {
        "id": "QSkOzuKtPOHb",
        "colab_type": "text"
      },
      "source": [
        "# References"
      ]
    }
  ]
}